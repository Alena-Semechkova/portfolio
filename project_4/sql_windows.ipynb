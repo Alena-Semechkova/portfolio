{
 "cells": [
  {
   "cell_type": "markdown",
   "id": "1c7b0bd7",
   "metadata": {},
   "source": [
    "# SQL_WINDOWS"
   ]
  },
  {
   "cell_type": "markdown",
   "id": "61229e2e",
   "metadata": {},
   "source": [
    "### 1. NTH_VALUE"
   ]
  },
  {
   "cell_type": "markdown",
   "id": "aa8aff6e",
   "metadata": {},
   "source": [
    "#### Задача:\n",
    "Вам доступна база данных, принадлежащая службе такси Uber. Она включает таблицу Rides, которая хранит информацию о поездках пассажиров.\n",
    "\n"
   ]
  },
  {
   "cell_type": "code",
   "execution_count": null,
   "id": "9dbe7450-5afd-4ce2-b443-0adc3969072a",
   "metadata": {},
   "outputs": [],
   "source": [
    "+--------------+--------+---------------------+\n",
    "| passenger_id | amount | requested_on        |\n",
    "+--------------+--------+---------------------+\n",
    "| 1            | 30     | 2024-01-01 15:45:00 |\n",
    "| 2            | 25     | 2024-02-12 07:00:00 |\n",
    "| 3            | 15     | 2024-01-13 10:30:00 |\n",
    "| 1            | 15     | 2024-02-08 18:15:00 |\n",
    "| 1            | 35     | 2024-02-05 12:15:00 |\n",
    "| 4            | 70     | 2024-01-20 11:55:00 |\n",
    "| 4            | 110    | 2024-01-01 12:40:00 |\n",
    "| 4            | 25     | 2024-02-01 21:30:00 |\n",
    "| 3            | 80     | 2024-01-10 23:00:00 |\n",
    "| 1            | 10     | 2024-01-02 18:10:00 |\n",
    "+--------------+--------+---------------------+"
   ]
  },
  {
   "cell_type": "markdown",
   "id": "c5eb3758-6022-4002-9423-f37299eb8225",
   "metadata": {},
   "source": [
    "Первое поле этой таблицы содержит идентификатор пассажира, второе — сумму поездки в долларах, третье — дату и время вызова такси.\n",
    "\n",
    "**Напишите запрос, который извлекает из предложенной базы данных всю информацию о третьей по счету поездке каждого пассажира.**"
   ]
  },
  {
   "cell_type": "markdown",
   "id": "a4cbeec5",
   "metadata": {},
   "source": [
    "#### Решение:"
   ]
  },
  {
   "cell_type": "markdown",
   "id": "04299218",
   "metadata": {},
   "source": [
    "``` sql\n",
    "WITH ThirdRide AS (\n",
    "       SELECT \n",
    "       NTH_VALUE(passenger_id, 3) OVER wind AS passenger_id,\n",
    "       NTH_VALUE(amount, 3) OVER wind AS amount,\n",
    "       NTH_VALUE(requested_on, 3) OVER wind AS requested_on\n",
    "       FROM Rides\n",
    "       WINDOW wind AS (PARTITION BY passenger_id ORDER BY requested_on)\n",
    ")\n",
    "\n",
    "SELECT DISTINCT passenger_id, amount, requested_on\n",
    "FROM ThirdRide\n",
    "WHERE passenger_id IS NOT NULL\n",
    "```"
   ]
  },
  {
   "cell_type": "markdown",
   "id": "2f7d60cc",
   "metadata": {},
   "source": [
    "### 2. LAG"
   ]
  },
  {
   "cell_type": "markdown",
   "id": "0a995485",
   "metadata": {},
   "source": [
    "#### Условие:\n",
    "Вам доступна база данных, принадлежащая банку HSBC. Она включает таблицу Payments, которая хранит информацию о банковских платежах, совершенных клиентами банка."
   ]
  },
  {
   "cell_type": "code",
   "execution_count": null,
   "id": "ee22943f-47de-4597-b2d0-add372911348",
   "metadata": {},
   "outputs": [],
   "source": [
    "+----+---------+---------+--------+---------------------+\n",
    "| id | user_id | card_id | amount | completed_on        |\n",
    "+----+---------+---------+--------+---------------------+\n",
    "| 1  | 1       | 1       | 100    | 2024-01-01 12:00:00 |\n",
    "| 2  | 1       | 1       | 100    | 2024-01-01 12:06:00 |\n",
    "| 3  | 2       | 2       | 250    | 2024-01-02 18:00:00 |\n",
    "| 4  | 3       | 1       | 50     | 2024-01-02 18:05:00 |\n",
    "| 5  | 2       | 2       | 250    | 2024-01-02 18:08:00 |\n",
    "| 6  | 3       | 1       | 10     | 2024-01-03 10:00:00 |\n",
    "| 7  | 3       | 1       | 10     | 2024-01-03 10:10:00 |\n",
    "| 8  | 1       | 2       | 80     | 2024-01-03 10:00:00 |\n",
    "| 9  | 1       | 2       | 80     | 2024-01-03 10:10:01 |\n",
    "| 10 | 4       | 1       | 200    | 2024-01-03 13:00:00 |\n",
    "+----+---------+---------+--------+---------------------+"
   ]
  },
  {
   "cell_type": "markdown",
   "id": "b8014145-571e-4671-9dd7-e0fe7846f6f6",
   "metadata": {},
   "source": [
    "Первое поле этой таблицы содержит идентификатор платежа, второе — идентификатор клиента, третье — идентификатор банковской карты клиента, с которой был совершен платеж, четвертое — сумму платежа в долларах, пятое — дату и время совершения платежа.\n",
    "\n",
    "Иногда в результате различных сбоев банковские платежи случайно совершаются повторно, что приводит к двойному списанию денежных средств с банковской карты. Банк HSBC считает, что платеж по ошибке совершен повторно в том случае, если в течение 10 минут до него был совершен платеж от того же клиента, с той же карты и на ту же сумму. Например, платеж с идентификатором 2 считается совершенным повторно случайно, поскольку 6 минут назад был совершен ровно такой же платеж. Аналогичное справедливо для платежей с идентификаторами 5 и 7.\n",
    "\n",
    "**Напишите запрос, который извлекает из предложенной базы данных идентификаторы платежей, по ошибке совершенных повторно.**\n",
    "\n",
    "Поле с идентификатором случайно совершенного повторно платежа должно иметь псевдоним repeat_payment_id.\n",
    "\n",
    "Записи в результирующей таблице должны быть расположены в порядке возрастания значения поля repeat_payment_id."
   ]
  },
  {
   "cell_type": "markdown",
   "id": "22ec6c7d",
   "metadata": {},
   "source": [
    "#### Решение:"
   ]
  },
  {
   "cell_type": "markdown",
   "id": "64cfcdd1",
   "metadata": {},
   "source": [
    "``` sql\n",
    "WITH cte AS (\n",
    "    SELECT id, TIMEDIFF(completed_on, (LAG(completed_on) OVER (PARTITION BY user_id, card_id ORDER BY id))) AS timediff,\n",
    "    amount - LAG(amount) OVER (PARTITION BY user_id, card_id ORDER BY id) AS amountdiff\n",
    "    FROM Payments \n",
    ")\n",
    "\n",
    "SELECT id AS repeat_payment_id\n",
    "FROM cte \n",
    "WHERE timediff <= TIME('00:10:00') AND amountdiff = 0\n",
    "ORDER BY repeat_payment_id;\n",
    "```"
   ]
  },
  {
   "cell_type": "markdown",
   "id": "c278e5fc-a9bd-4e49-bf4a-5c5e1c07e447",
   "metadata": {},
   "source": [
    "### 3. ROW_NUMBER"
   ]
  },
  {
   "cell_type": "markdown",
   "id": "3cbe3fa6-9383-4e9e-b1a7-6437017782af",
   "metadata": {},
   "source": [
    "#### Условие:\n",
    "Вам доступна база данных, принадлежащая компании Google. Она включает таблицу Measurements, которая хранит результаты определенных измерений, полученных с помощью датчика Google."
   ]
  },
  {
   "cell_type": "code",
   "execution_count": null,
   "id": "2da2b82a-645f-4d73-9f49-8548f2ab951d",
   "metadata": {},
   "outputs": [],
   "source": [
    "+----+--------+---------------------+\n",
    "| id | result | received_on         |\n",
    "+----+--------+---------------------+\n",
    "| 1  | 1100   | 2024-01-01 12:00:00 |\n",
    "| 2  | 1000   | 2024-01-01 13:00:00 |\n",
    "| 3  | 1300   | 2024-01-01 14:00:00 |\n",
    "| 4  | 1200   | 2024-01-01 15:00:00 |\n",
    "| 5  | 1100   | 2024-01-01 07:00:00 |\n",
    "| 6  | 450    | 2024-01-31 08:00:00 |\n",
    "| 7  | 600    | 2024-01-31 09:00:00 |\n",
    "| 8  | 650    | 2024-01-31 10:00:00 |\n",
    "| 9  | 700    | 2024-02-01 07:00:00 |\n",
    "| 10 | 600    | 2024-02-01 18:00:00 |\n",
    "+----+--------+---------------------+"
   ]
  },
  {
   "cell_type": "markdown",
   "id": "68256abd-47ab-40fd-8927-e4afc0ab864f",
   "metadata": {},
   "source": [
    "Первое поле этой таблицы содержит идентификатор измерения, второе — полученное значение, третье — дату и время измерения.\n",
    "\n",
    "**Напишите запрос, который разбивает результаты измерений на группы в зависимости от дня, в который они были выполнены, вычисляет в рамках каждой группы сумму результатов нечетных и четных по счету измерений и отображает полученный результат в виде таблицы из трех полей:**\n",
    "\n",
    "1. measurement_day — день, в который были выполнены измерения\n",
    "2. odd_measurements_results_sum — сумма результатов нечетных измерений в этот день (результат первого измерения, результат третьего измерения, и так далее)\n",
    "3. even_measurements_results_sum — сумма результатов четных измерений в этот день (результат второго измерения, результат четвертого измерения, и так далее)"
   ]
  },
  {
   "cell_type": "markdown",
   "id": "50def262-f874-46f9-94ef-c0abfd0ff3c8",
   "metadata": {},
   "source": [
    "``` sql\n",
    "WITH EvenResult AS (\n",
    "    SELECT id, result, received_on, DATE(received_on) AS day,\n",
    "            ROW_NUMBER() OVER (PARTITION BY DATE(received_on) ORDER BY received_on) num\n",
    "    FROM Measurements\n",
    "    ORDER BY received_on\n",
    ")\n",
    "\n",
    "SELECT day AS measurement_day, \n",
    "       SUM(CASE\n",
    "               WHEN num % 2 != 0 THEN result\n",
    "               ELSE 0\n",
    "           END) AS odd_measurements_results_sum,\n",
    "       SUM(CASE\n",
    "               WHEN num % 2 = 0 THEN result\n",
    "               ELSE 0\n",
    "            END) AS even_measurements_results_sum\n",
    "FROM EvenResult\n",
    "GROUP BY day\n",
    "```"
   ]
  }
 ],
 "metadata": {
  "kernelspec": {
   "display_name": "Python 3 (ipykernel)",
   "language": "python",
   "name": "python3"
  },
  "language_info": {
   "codemirror_mode": {
    "name": "ipython",
    "version": 3
   },
   "file_extension": ".py",
   "mimetype": "text/x-python",
   "name": "python",
   "nbconvert_exporter": "python",
   "pygments_lexer": "ipython3",
   "version": "3.12.4"
  }
 },
 "nbformat": 4,
 "nbformat_minor": 5
}
