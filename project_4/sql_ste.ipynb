{
 "cells": [
  {
   "cell_type": "markdown",
   "id": "1c7b0bd7",
   "metadata": {},
   "source": [
    "# SQL_STE"
   ]
  },
  {
   "cell_type": "markdown",
   "id": "61229e2e",
   "metadata": {},
   "source": [
    "## 1.1. Образовательные курсы. Оптимизация воронки"
   ]
  },
  {
   "cell_type": "markdown",
   "id": "aa8aff6e",
   "metadata": {},
   "source": [
    "#### Дано три таблицы:  \n",
    "\n",
    "1) peas:  \n",
    "- st_id — ID ученика  \n",
    "- timest — Время решения карточки  \n",
    "- correct — равильно ли решена горошина?\n",
    "- subject — Дисциплина, в которой находится горошина\n",
    "\n",
    "2) studs:\n",
    "- st_id — ID ученика  \n",
    "- test_grp — Метка ученика в данном эксперименте  \n",
    "\n",
    "3) final_project_check:\n",
    "- st_id — ID ученика  \n",
    "- sale_time — Время покупки  \n",
    "- money — Цена, по которой приобрели данный курс\n",
    "- subject — Дисциплина"
   ]
  },
  {
   "cell_type": "markdown",
   "id": "91f5e15e",
   "metadata": {},
   "source": [
    "#### Условие:"
   ]
  },
  {
   "cell_type": "markdown",
   "id": "e48c8d75",
   "metadata": {},
   "source": [
    "Образовательная платформа предлагает пройти студентам курсы по модели trial: студент может решить бесплатно лишь 30 горошин в день. Для неограниченного количества заданий в определенной дисциплине студенту необходимо приобрести полный доступ. Команда провела эксперимент, где был протестирован новый экран оплаты."
   ]
  },
  {
   "cell_type": "markdown",
   "id": "1fb91fb0",
   "metadata": {},
   "source": [
    "#### Задача:"
   ]
  },
  {
   "cell_type": "markdown",
   "id": "d922a799",
   "metadata": {},
   "source": [
    "Необходимо **в одном запросе** выгрузить следующую информацию о группах пользователей:\n",
    "\n",
    "- ARPU \n",
    "- ARPAU \n",
    "- CR в покупку \n",
    "- СR активного пользователя в покупку \n",
    "- CR пользователя из активности по математике (subject = ’math’) в покупку курса по математике\n",
    "- ARPU считается относительно всех пользователей, попавших в группы.\n",
    "\n",
    "**Активным** считается пользователь, за все время решивший **больше 10 задач** правильно в любых дисциплинах.  \n",
    "**Активным** по математике считается пользователь, за все время решивший **2 или больше задач** правильно по математике."
   ]
  },
  {
   "cell_type": "markdown",
   "id": "a4cbeec5",
   "metadata": {},
   "source": [
    "#### Решение:"
   ]
  },
  {
   "cell_type": "markdown",
   "id": "04299218",
   "metadata": {},
   "source": [
    "``` sql\n",
    "WITH \n",
    "    ActiveAllSubject AS (\n",
    "        SELECT st_id\n",
    "        FROM  peas\n",
    "        GROUP BY st_id\n",
    "        HAVING SUM((correct)::int) > 10\n",
    "    ), -- активные студенты\n",
    "    ActiveMath AS (\n",
    "        SELECT st_id\n",
    "        FROM  peas\n",
    "        WHERE subject = 'Math'\n",
    "        GROUP BY st_id\n",
    "        HAVING SUM((correct)::int) >= 2\n",
    "    ), -- активные по математике\n",
    "    Purchases AS (\n",
    "        SELECT st_id, SUM(money) AS money\n",
    "        FROM final_project_check\n",
    "        GROUP BY st_id\n",
    "    ), -- все студенты, купившие курсы + сумма покупок\n",
    "    PurchasesMath AS (\n",
    "        SELECT st_id\n",
    "        FROM final_project_check\n",
    "        WHERE subject = 'Math'\n",
    "    ), -- студенты, купившие курс по математике\n",
    "    Result AS (\n",
    "        SELECT a.st_id, a.test_grp,\n",
    "               CASE WHEN b.st_id IS NOT NULL THEN 1 ELSE 0 END AS active_flag,\n",
    "               CASE WHEN c.st_id IS NOT NULL THEN 1 ELSE 0 END AS active_math_flag,\n",
    "               CASE WHEN d.st_id IS NOT NULL THEN d.money ELSE 0 END AS money,\n",
    "               CASE WHEN e.st_id IS NOT NULL THEN 1 ELSE 0 END AS purchases_math_flag\n",
    "        FROM studs AS a LEFT JOIN ActiveAllSubject AS b ON a.st_id = b.st_id\n",
    "                        LEFT JOIN ActiveMath AS c ON a.st_id = c.st_id\n",
    "                        LEFT JOIN Purchases AS d ON a.st_id = d.st_id\n",
    "                        LEFT JOIN PurchasesMath AS e ON a.st_id = e.st_id\n",
    "    ) -- таблица с информацией по каждому студенту \n",
    "    \n",
    "SELECT\n",
    "    test_grp,\n",
    "    SUM(money)::numeric / COUNT(st_id) AS arpu, -- ARPU = доход / все пользователи\n",
    "    SUM(money)::numeric / NULLIF(COUNT(CASE WHEN active_flag = 1 THEN st_id END), 0) AS arpau, -- ARPAU = доход / активные пользователи\n",
    "    COUNT(CASE WHEN money > 0 THEN st_id END)::numeric / COUNT(st_id) AS cr_purchase, -- CR в покупку \n",
    "    COUNT(CASE WHEN active_flag = 1 AND money > 0 THEN st_id END)::numeric \n",
    "        / NULLIF(COUNT(CASE WHEN active_flag = 1 THEN st_id END), 0) AS cr_active_purchase, -- CR активного пользователя в покупку\n",
    "    COUNT(CASE WHEN active_math_flag = 1 AND purchases_math_flag = 1 THEN st_id END)::numeric\n",
    "        / NULLIF(COUNT(CASE WHEN active_math_flag = 1 THEN st_id END), 0) AS cr_active_math_purchase_math  -- CR активного по математике в покупку курса по математике\n",
    "\n",
    "FROM Result\n",
    "GROUP BY test_grp\n",
    "```"
   ]
  },
  {
   "cell_type": "markdown",
   "id": "2f7d60cc",
   "metadata": {},
   "source": [
    "## 1.2. Очень усердные ученики"
   ]
  },
  {
   "cell_type": "markdown",
   "id": "0a995485",
   "metadata": {},
   "source": [
    "#### Условие:\n",
    "Образовательные курсы состоят из различных уроков, каждый из которых состоит из нескольких маленьких заданий. Каждое такое маленькое задание называется \"горошиной\".\n",
    "\n",
    "Назовём очень усердным учеником того пользователя, который хотя бы раз за текущий месяц правильно решил 20 горошин."
   ]
  },
  {
   "cell_type": "markdown",
   "id": "1d870d17",
   "metadata": {},
   "source": [
    "#### Задача:\n",
    "Необходимо написать оптимальный запрос, который даст информацию о количестве очень усердных студентов."
   ]
  },
  {
   "cell_type": "markdown",
   "id": "22ec6c7d",
   "metadata": {},
   "source": [
    "#### Решение:"
   ]
  },
  {
   "cell_type": "markdown",
   "id": "64cfcdd1",
   "metadata": {},
   "source": [
    "``` sql\n",
    "WITH DiligentStudents AS (  \n",
    "    SELECT st_id, COUNT(subject) AS count_tascks  \n",
    "    FROM  peas  \n",
    "    WHERE correct = true  \n",
    "    GROUP BY st_id  \n",
    "    HAVING COUNT(subject) >= 20  \n",
    ")  \n",
    "\n",
    "SELECT COUNT(st_id) AS diligent_students\n",
    "FROM DiligentStudents;\n",
    "```"
   ]
  }
 ],
 "metadata": {
  "kernelspec": {
   "display_name": "Python 3",
   "language": "python",
   "name": "python3"
  },
  "language_info": {
   "codemirror_mode": {
    "name": "ipython",
    "version": 3
   },
   "file_extension": ".py",
   "mimetype": "text/x-python",
   "name": "python",
   "nbconvert_exporter": "python",
   "pygments_lexer": "ipython3",
   "version": "3.7.3"
  }
 },
 "nbformat": 4,
 "nbformat_minor": 5
}
