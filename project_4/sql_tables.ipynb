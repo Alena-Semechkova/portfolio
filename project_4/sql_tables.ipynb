{
 "cells": [
  {
   "cell_type": "markdown",
   "id": "1c7b0bd7",
   "metadata": {},
   "source": [
    "# Работа с таблицами"
   ]
  },
  {
   "cell_type": "markdown",
   "id": "aa8aff6e",
   "metadata": {},
   "source": [
    "### 1. Триггеры:\n",
    "Вам доступна база данных, принадлежащая маркетплейсу Ozon. Она включает таблицы Customers, Orders и Notifications.  Первая таблица содержит информацию о покупателях магазина, вторая — информацию о заказанных товарах, третья — информацию об уведомлениях покупателей."
   ]
  },
  {
   "cell_type": "code",
   "execution_count": null,
   "id": "a18a02b7-be12-41a2-b83d-b77b23e06d2b",
   "metadata": {},
   "outputs": [],
   "source": [
    "+----+--------+\n",
    "| id | name   |\n",
    "+----+--------+\n",
    "| 10 | Ivan   |\n",
    "| 20 | John   |\n",
    "| 30 | Mark   |\n",
    "| 40 | Elon   |\n",
    "| 50 | Pavel  |\n",
    "| 60 | Andrey |\n",
    "| 70 | Peter  |\n",
    "| 80 | Ben    |\n",
    "+----+--------+"
   ]
  },
  {
   "cell_type": "code",
   "execution_count": null,
   "id": "2905e971-17a9-4184-b897-951291d1e9e6",
   "metadata": {},
   "outputs": [],
   "source": [
    "+----+-------------+------------+--------+-----------+\n",
    "| id | customer_id | store      | amount | status    |\n",
    "+----+-------------+------------+--------+-----------+\n",
    "| 1  | 20          | Ozon       | 101    | Created   |\n",
    "| 2  | 40          | PCUniverse | 799    | Shipped   |\n",
    "| 3  | 10          | PCUniverse | 99     | Delivered |\n",
    "| 4  | 30          | DarkStore  | 99     | Created   |\n",
    "| 5  | 50          | Ozon       | 678    | Delivered |\n",
    "| 6  | 10          | Ozon       | 458    | Created   |\n",
    "+----+-------------+------------+--------+-----------+"
   ]
  },
  {
   "cell_type": "code",
   "execution_count": null,
   "id": "80de2350-d338-4057-87b2-a271800011c1",
   "metadata": {},
   "outputs": [],
   "source": [
    "+----+----------+-------------------------------------------------------------+\n",
    "| id | order_id | message                                                     |\n",
    "+----+----------+-------------------------------------------------------------+\n",
    "| 1  | 1        | John, new status of your delivery on 2024-08-26: Created    |\n",
    "| 2  | 2        | Elon, new status of your delivery on 2024-08-26: Shipped    |\n",
    "| 3  | 3        | Ivan, new status of your delivery on 2024-08-26: Delivered  |\n",
    "| 4  | 4        | Mark, new status of your delivery on 2024-08-26: Created    |\n",
    "| 5  | 5        | Pavel, new status of your delivery on 2024-08-26: Delivered |\n",
    "| 6  | 6        | Ivan, new status of your delivery on 2024-08-26: Created    |\n",
    "+----+----------+-------------------------------------------------------------+"
   ]
  },
  {
   "cell_type": "markdown",
   "id": "c5eb3758-6022-4002-9423-f37299eb8225",
   "metadata": {},
   "source": [
    "Первое поле этой таблицы содержит идентификатор уведомления, второе — идентификатор заказа, третье — сообщение с уведомлением покупателя.\n",
    "\n",
    "**Напишите запрос, создающий триггер, который после добавления нового заказа также добавляет сообщение для покупателя. При этом сообщение должно быть записано в следующем формате:**\n",
    "\n",
    "<Имя покупателя>, new status of your delivery on <текущая дата>: <статус заказа>\n",
    "\n",
    "                  \n",
    "Также запрос должен включать создание триггера, который после обновления статуса заказа также обновляет сообщение для покупателя. При этом сообщение должно быть записано в том же формате, что и при добавлении заказа."
   ]
  },
  {
   "cell_type": "markdown",
   "id": "a4cbeec5",
   "metadata": {},
   "source": [
    "#### Решение:"
   ]
  },
  {
   "cell_type": "markdown",
   "id": "04299218",
   "metadata": {},
   "source": [
    "``` sql\n",
    "DELIMITER //\n",
    "CREATE TRIGGER new_notification \n",
    "AFTER INSERT \n",
    "ON Orders \n",
    "FOR EACH ROW \n",
    "BEGIN\n",
    "    INSERT INTO Notifications (order_id)\n",
    "    SELECT id\n",
    "    FROM Orders\n",
    "    WHERE id = NEW.id;\n",
    "    \n",
    "    UPDATE Notifications\n",
    "    SET message = CONCAT((SELECT name\n",
    "                          FROM Customers\n",
    "                          WHERE Customers.id = NEW.customer_id), ', new status of your delivery on ', CURDATE(), ': ', NEW.status)\n",
    "     WHERE Notifications.order_id = NEW.id;\n",
    "END //\n",
    "            \n",
    "CREATE TRIGGER update_notification \n",
    "AFTER UPDATE \n",
    "ON Orders \n",
    "FOR EACH ROW \n",
    "BEGIN\n",
    "    UPDATE Notifications\n",
    "    SET message = CONCAT((SELECT name\n",
    "                          FROM Customers\n",
    "                          WHERE Customers.id = NEW.customer_id), ', new status of your delivery on ', CURDATE(), ': ', NEW.status)\n",
    "     WHERE Notifications.order_id = NEW.id;\n",
    "END //\n",
    "DELIMITER ;\n",
    "```"
   ]
  },
  {
   "cell_type": "markdown",
   "id": "0a995485",
   "metadata": {},
   "source": [
    "### 2. Представления:\n",
    "Вам доступна база данных, принадлежащая интернет-магазину Amazon. Она включает таблицу Orders, которая хранит информацию о заказах покупателей."
   ]
  },
  {
   "cell_type": "code",
   "execution_count": null,
   "id": "e010baed-a7fe-4224-973d-7a1bfc837cde",
   "metadata": {},
   "outputs": [],
   "source": [
    "+----+------------+----------+---------------+\n",
    "| id | product_id | quantity | purchase_date |\n",
    "+----+------------+----------+---------------+\n",
    "| 1  | 1          | 7        | 2020-03-16    |\n",
    "| 2  | 1          | 4        | 2020-05-02    |\n",
    "| 3  | 1          | 7        | 2020-07-10    |\n",
    "| 4  | 1          | 6        | 2021-02-23    |\n",
    "| 5  | 1          | 5        | 2021-05-21    |\n",
    "| 6  | 1          | 6        | 2021-10-11    |\n",
    "| 7  | 3          | 5        | 2019-08-08    |\n",
    "| 8  | 8          | 1        | 2021-06-03    |\n",
    "| 9  | 2          | 5        | 2023-12-25    |\n",
    "| 10 | 7          | 7        | 2022-07-10    |\n",
    "| 11 | 3          | 5        | 2019-09-24    |\n",
    "| 12 | 8          | 5        | 2022-07-29    |\n",
    "| 13 | 7          | 5        | 2023-01-16    |\n",
    "| 14 | 3          | 7        | 2022-12-21    |\n",
    "| 15 | 3          | 3        | 2021-06-16    |\n",
    "| 16 | 3          | 7        | 2019-06-11    |\n",
    "| 17 | 8          | 3        | 2021-06-13    |\n",
    "| 18 | 8          | 1        | 2020-05-25    |\n",
    "| 19 | 3          | 3        | 2023-06-14    |\n",
    "| 20 | 8          | 5        | 2022-01-13    |\n",
    "| 21 | 7          | 9        | 2023-07-19    |\n",
    "| 22 | 5          | 3        | 2023-12-01    |\n",
    "| 23 | 4          | 8        | 2022-02-15    |\n",
    "| 24 | 3          | 7        | 2020-09-06    |\n",
    "| 25 | 8          | 3        | 2020-11-23    |\n",
    "| 26 | 4          | 9        | 2023-10-05    |\n",
    "| 27 | 7          | 2        | 2023-10-12    |\n",
    "| 28 | 8          | 5        | 2020-01-03    |\n",
    "| 29 | 6          | 6        | 2022-06-21    |\n",
    "| 30 | 8          | 6        | 2021-07-01    |\n",
    "| 31 | 3          | 4        | 2018-12-26    |\n",
    "| 32 | 3          | 5        | 2019-08-11    |\n",
    "| 33 | 3          | 7        | 2022-02-21    |\n",
    "| 34 | 3          | 5        | 2018-09-04    |\n",
    "| 35 | 7          | 3        | 2022-03-07    |\n",
    "| 36 | 6          | 5        | 2021-01-01    |\n",
    "| 37 | 3          | 4        | 2022-03-18    |\n",
    "| 38 | 5          | 2        | 2023-01-31    |\n",
    "| 39 | 8          | 7        | 2022-07-19    |\n",
    "| 40 | 7          | 3        | 2022-10-27    |\n",
    "| 41 | 2          | 6        | 2023-10-16    |\n",
    "| 42 | 8          | 5        | 2020-08-04    |\n",
    "| 43 | 4          | 7        | 2022-08-28    |\n",
    "+----+------------+----------+---------------+"
   ]
  },
  {
   "cell_type": "markdown",
   "id": "b8014145-571e-4671-9dd7-e0fe7846f6f6",
   "metadata": {},
   "source": [
    "**Напишите запрос, создающий представление с именем PopularProducts. Представление должно определять уникальные идентификаторы товаров, которые были заказаны три или более раз в течение двух лет подряд.**"
   ]
  },
  {
   "cell_type": "markdown",
   "id": "22ec6c7d",
   "metadata": {},
   "source": [
    "#### Решение:"
   ]
  },
  {
   "cell_type": "markdown",
   "id": "64cfcdd1",
   "metadata": {},
   "source": [
    "``` sql\n",
    "CREATE VIEW CountOrders AS\n",
    "SELECT COUNT(id) AS orders, product_id, YEAR(purchase_date) AS year\n",
    "FROM Orders \n",
    "GROUP BY product_id, YEAR(purchase_date);\n",
    "\n",
    "CREATE VIEW PopularProducts AS\n",
    "SELECT DISTINCT C1.product_id \n",
    "FROM CountOrders AS C1 JOIN CountOrders AS C2 ON C1.product_id = C2.product_id AND C1.year != C2.year\n",
    "WHERE MOD(C1.year, C2.year) = 1 AND C1.orders >= 3 AND C2.orders >= 3;\n",
    "\n",
    "```"
   ]
  }
 ],
 "metadata": {
  "kernelspec": {
   "display_name": "Python 3 (ipykernel)",
   "language": "python",
   "name": "python3"
  },
  "language_info": {
   "codemirror_mode": {
    "name": "ipython",
    "version": 3
   },
   "file_extension": ".py",
   "mimetype": "text/x-python",
   "name": "python",
   "nbconvert_exporter": "python",
   "pygments_lexer": "ipython3",
   "version": "3.12.4"
  }
 },
 "nbformat": 4,
 "nbformat_minor": 5
}
