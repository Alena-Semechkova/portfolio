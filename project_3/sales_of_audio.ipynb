{
 "cells": [
  {
   "cell_type": "markdown",
   "id": "38ff723e",
   "metadata": {},
   "source": [
    "# Анализ данных об оптовых продажах аудиотехники"
   ]
  },
  {
   "cell_type": "markdown",
   "id": "590ba21e",
   "metadata": {},
   "source": [
    "## Описание данных:"
   ]
  },
  {
   "cell_type": "markdown",
   "id": "41225bd3",
   "metadata": {},
   "source": [
    "**В данном проекте представлена аналитика для компании «Карпов Саунд», которая занимается оптовой продажей аудиотехники и предлагает широкий ассортимент товаров от ведущих мировых брендов, включающий профессиональные аудиосистемы, домашние кинотеатры, портативные аудиоустройства и прочие аксессуары.** \n",
    "\n",
    "«Карпов Саунд» сотрудничает с крупными розничными сетями и специализированными магазинами аудиотехники в России. Клиенты компании регулярно оставляют заявки на закупку товаров в CRM системе, менеджеры связываются с клиентами, обсуждают детали, после чего заказы либо подтверждаются менеджерами, либо по разным причинам отменяются. \n",
    "\n",
    "В «Карпов Саунд» трепетно относятся к хранению информации о своих товарах, клиентах и заказах, однако в самый неподходящий момент хранилище данных компании оказалось временно недоступно из-за плановых работ по его оптимизации. Поэтому в рамках этого проекта все данные будут представлены не в самом удобном для анализа виде — в формате резервной выгрузки, разложенной по разным папкам на сервере компании.\n",
    "\n",
    "Необходимо собрать данные из разрозненных источников, проанализировать их и сделать выводы, которые помогут руководству компании принять верные тактические решения."
   ]
  },
  {
   "cell_type": "markdown",
   "id": "14c0dc90",
   "metadata": {},
   "source": [
    "**В данном проекте встретятся следующие таблицы:**  \n",
    "\n",
    "1) orders (данные о заказах):  \n",
    "- order_id — номер заказа  \n",
    "- product_id — идентификатор товара  \n",
    "- quantity — количество этого товара в заказе\n",
    "\n",
    "2) order_status (данные о статусах заказов и клиентах):\n",
    "- order_id — номер заказа  \n",
    "- client_id — идентификатор клиента  \n",
    "- status — статус заказа\n",
    "\n",
    "3) products (данные о товарах):\n",
    "- id — идентификатор товара  \n",
    "- name — имя товара (сначала указан бренд, через запятую модель товара)  \n",
    "- price — цена единицы товара, в долларах"
   ]
  },
  {
   "cell_type": "markdown",
   "id": "c7b6b033",
   "metadata": {},
   "source": [
    "Каждый заказ имеет статус или подтвержденного (`confirmed`), или отмененного (`canceled`). В одном заказе может быть несколько разных товаров. Если заказ был отменен, а потом создан такой же (тем же клиентом, с теми же товарами, у того же менеджера), в базе останется запись о двух заказах с разными номерами и статусами, поскольку система не позволяет создать заказ с тем же номером."
   ]
  },
  {
   "cell_type": "markdown",
   "id": "472597d4",
   "metadata": {},
   "source": [
    "## Задачи:"
   ]
  },
  {
   "cell_type": "markdown",
   "id": "12439889",
   "metadata": {},
   "source": [
    "1. Собрать и подготовить данные в удобном для анализа формате \n",
    "2. Провести аналитику продаж по дням - определить дни, которые выбиваются из общей картины, и выяснить причину \n",
    "3. Посчитать ключевые метрики в динамике\n",
    "4. Найти наиболее прибыльные бренды и те, которые зря занимают место на виртуальной «полке»\n",
    "5. Сделать отчет об эффективности менеджеров по продажам "
   ]
  },
  {
   "cell_type": "markdown",
   "id": "8b2b0e94",
   "metadata": {},
   "source": [
    "## 1. Предобработка данных\n",
    "\n",
    "### Сначала соберем три датасета: `orders.csv`, `order_status.csv`, `products.csv`."
   ]
  },
  {
   "cell_type": "markdown",
   "id": "5cc62e36",
   "metadata": {},
   "source": [
    "На схеме показано, как связаны таблицы между собой:"
   ]
  },
  {
   "cell_type": "markdown",
   "id": "853e576d",
   "metadata": {},
   "source": [
    "![](https://storage.yandexcloud.net/klms-public/production/learning-content/457/4167/37264/104636/497986/er_white.png)"
   ]
  },
  {
   "cell_type": "markdown",
   "id": "9730d485",
   "metadata": {},
   "source": [
    "Данные находятся в папке `data` из директории `shared` (`shared` -> `homeworks` -> `python_ds_miniprojects` -> `final_project`). Внутри папки `data` находятся 2 другие папки: `orders` и `products`.\n",
    "\n",
    "В папке `orders` папки с датами, в которые сделаны записи. В этих папках — папки с именами менеджеров по продажам. Эти папки содержат файлы `orders.csv` и `order_status.csv` (в каждой папке по одной паре файлов). Пример структуры: `data` -> `orders` -> `2024-03-01` -> `Алексей Саксофонов` -> `orders.csv` и `order_status.csv`.\n",
    "\n",
    "В папке `products` папки с категориями товаров. В этих папках файлы `products.csv` (в каждой папке по одному файлу). Пример структуры: `data` -> `products` -> `AV-процессор` -> `products.csv`."
   ]
  },
  {
   "cell_type": "markdown",
   "id": "ed96ba29",
   "metadata": {},
   "source": [
    "Кроме того у вас есть файл `usd_rate.txt` с курсом доллара США на каждый день анализируемого периода (данные в формате `дата,курс,валюта`)."
   ]
  },
  {
   "cell_type": "markdown",
   "id": "5f11d545",
   "metadata": {},
   "source": [
    "### Собераем данные со всех папок в три датафрейма"
   ]
  },
  {
   "cell_type": "markdown",
   "id": "164438cc",
   "metadata": {},
   "source": [
    "1. `df_orders` — на основе датасетов `orders.csv` + добавьте колонку `manager` с именами менеджеров и колонку `date` с датами. \n",
    "2. `df_order_status` — на основе датасетов `order_status.csv`.  \n",
    "3. `df_products` — на основе датасетов `products.csv` + добавьте колонку `category` с категориями товаров.  "
   ]
  },
  {
   "cell_type": "code",
   "execution_count": 179,
   "id": "815df072",
   "metadata": {},
   "outputs": [],
   "source": [
    "import os\n",
    "import pandas as pd\n"
   ]
  },
  {
   "cell_type": "code",
   "execution_count": 180,
   "id": "ccfc1b66",
   "metadata": {},
   "outputs": [],
   "source": [
    "p = '/mnt/HC_Volume_18315164/home-jupyter/jupyter-alena-semechkova-p-96bf1/shared/homeworks/python_ds_miniprojects/final_project/data'"
   ]
  },
  {
   "cell_type": "code",
   "execution_count": 181,
   "id": "c27c4ec9",
   "metadata": {},
   "outputs": [],
   "source": [
    "target_files = ['orders.csv', 'order_status.csv', 'products.csv']"
   ]
  },
  {
   "cell_type": "code",
   "execution_count": 182,
   "id": "7e022b47",
   "metadata": {},
   "outputs": [
    {
     "name": "stdout",
     "output_type": "stream",
     "text": [
      "/mnt/HC_Volume_18315164/home-jupyter/jupyter-alena-semechkova-p-96bf1/shared/homeworks/python_ds_miniprojects/final_project/data ['products', 'orders'] []\n",
      "/mnt/HC_Volume_18315164/home-jupyter/jupyter-alena-semechkova-p-96bf1/shared/homeworks/python_ds_miniprojects/final_project/data/products ['AV-ресивер', 'Настенная акустика', 'Система караоке', 'Напольная акустика', 'Полочная акустика', 'Сабвуфер', 'Саундбар', 'Активные колонки', 'Беспроводная акустика', 'Конденсаторный микрофон', 'Центральный канал', 'Динамический микрофон', 'AV-процессор', 'Предусилитель', 'Интегральный усилитель', 'Виниловый проигрыватель', 'Комплекты акустики', 'Наушники с микрофоном', 'Умная колонка', 'Домашний кинотеатр', 'Ламповый усилитель', 'Музыкальный центр', 'Портативная акустика', 'Проводные наушники', 'Усилитель мощности', 'Беспроводные наушники'] []\n",
      "/mnt/HC_Volume_18315164/home-jupyter/jupyter-alena-semechkova-p-96bf1/shared/homeworks/python_ds_miniprojects/final_project/data/products/AV-ресивер [] ['products.csv']\n",
      "/mnt/HC_Volume_18315164/home-jupyter/jupyter-alena-semechkova-p-96bf1/shared/homeworks/python_ds_miniprojects/final_project/data/products/Настенная акустика [] ['products.csv']\n",
      "/mnt/HC_Volume_18315164/home-jupyter/jupyter-alena-semechkova-p-96bf1/shared/homeworks/python_ds_miniprojects/final_project/data/products/Система караоке [] ['products.csv']\n",
      "/mnt/HC_Volume_18315164/home-jupyter/jupyter-alena-semechkova-p-96bf1/shared/homeworks/python_ds_miniprojects/final_project/data/products/Напольная акустика [] ['products.csv']\n",
      "/mnt/HC_Volume_18315164/home-jupyter/jupyter-alena-semechkova-p-96bf1/shared/homeworks/python_ds_miniprojects/final_project/data/products/Полочная акустика [] ['products.csv']\n",
      "/mnt/HC_Volume_18315164/home-jupyter/jupyter-alena-semechkova-p-96bf1/shared/homeworks/python_ds_miniprojects/final_project/data/products/Сабвуфер [] ['products.csv']\n",
      "/mnt/HC_Volume_18315164/home-jupyter/jupyter-alena-semechkova-p-96bf1/shared/homeworks/python_ds_miniprojects/final_project/data/products/Саундбар [] ['products.csv']\n",
      "/mnt/HC_Volume_18315164/home-jupyter/jupyter-alena-semechkova-p-96bf1/shared/homeworks/python_ds_miniprojects/final_project/data/products/Активные колонки [] ['products.csv']\n",
      "/mnt/HC_Volume_18315164/home-jupyter/jupyter-alena-semechkova-p-96bf1/shared/homeworks/python_ds_miniprojects/final_project/data/products/Беспроводная акустика [] ['products.csv']\n",
      "/mnt/HC_Volume_18315164/home-jupyter/jupyter-alena-semechkova-p-96bf1/shared/homeworks/python_ds_miniprojects/final_project/data/products/Конденсаторный микрофон [] ['products.csv']\n",
      "/mnt/HC_Volume_18315164/home-jupyter/jupyter-alena-semechkova-p-96bf1/shared/homeworks/python_ds_miniprojects/final_project/data/products/Центральный канал [] ['products.csv']\n",
      "/mnt/HC_Volume_18315164/home-jupyter/jupyter-alena-semechkova-p-96bf1/shared/homeworks/python_ds_miniprojects/final_project/data/products/Динамический микрофон [] ['products.csv']\n",
      "/mnt/HC_Volume_18315164/home-jupyter/jupyter-alena-semechkova-p-96bf1/shared/homeworks/python_ds_miniprojects/final_project/data/products/AV-процессор [] ['products.csv']\n",
      "/mnt/HC_Volume_18315164/home-jupyter/jupyter-alena-semechkova-p-96bf1/shared/homeworks/python_ds_miniprojects/final_project/data/products/Предусилитель [] ['products.csv']\n",
      "/mnt/HC_Volume_18315164/home-jupyter/jupyter-alena-semechkova-p-96bf1/shared/homeworks/python_ds_miniprojects/final_project/data/products/Интегральный усилитель [] ['products.csv']\n",
      "/mnt/HC_Volume_18315164/home-jupyter/jupyter-alena-semechkova-p-96bf1/shared/homeworks/python_ds_miniprojects/final_project/data/products/Виниловый проигрыватель [] ['products.csv']\n",
      "/mnt/HC_Volume_18315164/home-jupyter/jupyter-alena-semechkova-p-96bf1/shared/homeworks/python_ds_miniprojects/final_project/data/products/Комплекты акустики [] ['products.csv']\n",
      "/mnt/HC_Volume_18315164/home-jupyter/jupyter-alena-semechkova-p-96bf1/shared/homeworks/python_ds_miniprojects/final_project/data/products/Наушники с микрофоном [] ['products.csv']\n",
      "/mnt/HC_Volume_18315164/home-jupyter/jupyter-alena-semechkova-p-96bf1/shared/homeworks/python_ds_miniprojects/final_project/data/products/Умная колонка [] ['products.csv']\n",
      "/mnt/HC_Volume_18315164/home-jupyter/jupyter-alena-semechkova-p-96bf1/shared/homeworks/python_ds_miniprojects/final_project/data/products/Домашний кинотеатр [] ['products.csv']\n",
      "/mnt/HC_Volume_18315164/home-jupyter/jupyter-alena-semechkova-p-96bf1/shared/homeworks/python_ds_miniprojects/final_project/data/products/Ламповый усилитель [] ['products.csv']\n",
      "/mnt/HC_Volume_18315164/home-jupyter/jupyter-alena-semechkova-p-96bf1/shared/homeworks/python_ds_miniprojects/final_project/data/products/Музыкальный центр [] ['products.csv']\n",
      "/mnt/HC_Volume_18315164/home-jupyter/jupyter-alena-semechkova-p-96bf1/shared/homeworks/python_ds_miniprojects/final_project/data/products/Портативная акустика [] ['products.csv']\n",
      "/mnt/HC_Volume_18315164/home-jupyter/jupyter-alena-semechkova-p-96bf1/shared/homeworks/python_ds_miniprojects/final_project/data/products/Проводные наушники [] ['products.csv']\n",
      "/mnt/HC_Volume_18315164/home-jupyter/jupyter-alena-semechkova-p-96bf1/shared/homeworks/python_ds_miniprojects/final_project/data/products/Усилитель мощности [] ['products.csv']\n",
      "/mnt/HC_Volume_18315164/home-jupyter/jupyter-alena-semechkova-p-96bf1/shared/homeworks/python_ds_miniprojects/final_project/data/products/Беспроводные наушники [] ['products.csv']\n",
      "/mnt/HC_Volume_18315164/home-jupyter/jupyter-alena-semechkova-p-96bf1/shared/homeworks/python_ds_miniprojects/final_project/data/orders ['2024-03-10', '2024-03-01', '2024-03-27', '2024-03-18', '2024-03-28', '2024-03-23', '2024-03-05', '2024-03-17', '2024-03-08', '2024-03-06', '2024-03-16', '2024-03-22', '2024-03-14', '2024-03-20', '2024-03-25', '2024-03-12', '2024-03-09', '2024-03-19', '2024-03-03', '2024-03-21', '2024-03-29', '2024-03-13', '2024-03-04', '2024-03-07', '2024-03-15', '2024-03-11', '2024-03-02', '2024-03-31', '2024-03-30', '2024-03-24', '2024-03-26'] []\n",
      "/mnt/HC_Volume_18315164/home-jupyter/jupyter-alena-semechkova-p-96bf1/shared/homeworks/python_ds_miniprojects/final_project/data/orders/2024-03-10 ['Владимир Ударников', 'Екатерина Тарелкина', 'Сергей Контрабасов'] []\n",
      "/mnt/HC_Volume_18315164/home-jupyter/jupyter-alena-semechkova-p-96bf1/shared/homeworks/python_ds_miniprojects/final_project/data/orders/2024-03-10/Владимир Ударников [] ['orders.csv', 'order_status.csv']\n",
      "/mnt/HC_Volume_18315164/home-jupyter/jupyter-alena-semechkova-p-96bf1/shared/homeworks/python_ds_miniprojects/final_project/data/orders/2024-03-10/Екатерина Тарелкина [] ['orders.csv', 'order_status.csv']\n",
      "/mnt/HC_Volume_18315164/home-jupyter/jupyter-alena-semechkova-p-96bf1/shared/homeworks/python_ds_miniprojects/final_project/data/orders/2024-03-10/Сергей Контрабасов [] ['orders.csv', 'order_status.csv']\n",
      "/mnt/HC_Volume_18315164/home-jupyter/jupyter-alena-semechkova-p-96bf1/shared/homeworks/python_ds_miniprojects/final_project/data/orders/2024-03-01 ['Владимир Ударников', 'Екатерина Тарелкина', 'Надежда Гармошкина', 'Сергей Контрабасов', 'Алексей Саксофонов', 'Аркадий Октавин', 'Виктор Тромбонов', 'Максим Барабанов', 'Маргарита Камертонова', 'Ксения Балалайкина'] []\n",
      "/mnt/HC_Volume_18315164/home-jupyter/jupyter-alena-semechkova-p-96bf1/shared/homeworks/python_ds_miniprojects/final_project/data/orders/2024-03-01/Владимир Ударников [] ['orders.csv', 'order_status.csv']\n",
      "/mnt/HC_Volume_18315164/home-jupyter/jupyter-alena-semechkova-p-96bf1/shared/homeworks/python_ds_miniprojects/final_project/data/orders/2024-03-01/Екатерина Тарелкина [] ['orders.csv', 'order_status.csv']\n",
      "/mnt/HC_Volume_18315164/home-jupyter/jupyter-alena-semechkova-p-96bf1/shared/homeworks/python_ds_miniprojects/final_project/data/orders/2024-03-01/Надежда Гармошкина [] ['orders.csv', 'order_status.csv']\n",
      "/mnt/HC_Volume_18315164/home-jupyter/jupyter-alena-semechkova-p-96bf1/shared/homeworks/python_ds_miniprojects/final_project/data/orders/2024-03-01/Сергей Контрабасов [] ['orders.csv', 'order_status.csv']\n",
      "/mnt/HC_Volume_18315164/home-jupyter/jupyter-alena-semechkova-p-96bf1/shared/homeworks/python_ds_miniprojects/final_project/data/orders/2024-03-01/Алексей Саксофонов [] ['orders.csv', 'order_status.csv']\n",
      "/mnt/HC_Volume_18315164/home-jupyter/jupyter-alena-semechkova-p-96bf1/shared/homeworks/python_ds_miniprojects/final_project/data/orders/2024-03-01/Аркадий Октавин [] ['orders.csv', 'order_status.csv']\n",
      "/mnt/HC_Volume_18315164/home-jupyter/jupyter-alena-semechkova-p-96bf1/shared/homeworks/python_ds_miniprojects/final_project/data/orders/2024-03-01/Виктор Тромбонов [] ['orders.csv', 'order_status.csv']\n",
      "/mnt/HC_Volume_18315164/home-jupyter/jupyter-alena-semechkova-p-96bf1/shared/homeworks/python_ds_miniprojects/final_project/data/orders/2024-03-01/Максим Барабанов [] ['orders.csv', 'order_status.csv']\n",
      "/mnt/HC_Volume_18315164/home-jupyter/jupyter-alena-semechkova-p-96bf1/shared/homeworks/python_ds_miniprojects/final_project/data/orders/2024-03-01/Маргарита Камертонова [] ['orders.csv', 'order_status.csv']\n",
      "/mnt/HC_Volume_18315164/home-jupyter/jupyter-alena-semechkova-p-96bf1/shared/homeworks/python_ds_miniprojects/final_project/data/orders/2024-03-01/Ксения Балалайкина [] ['orders.csv', 'order_status.csv']\n",
      "/mnt/HC_Volume_18315164/home-jupyter/jupyter-alena-semechkova-p-96bf1/shared/homeworks/python_ds_miniprojects/final_project/data/orders/2024-03-27 ['Владимир Ударников', 'Надежда Гармошкина', 'Анастасия Дудкина', 'Алексей Саксофонов', 'Виктор Тромбонов', 'Максим Барабанов', 'Маргарита Камертонова', 'Ксения Балалайкина'] []\n",
      "/mnt/HC_Volume_18315164/home-jupyter/jupyter-alena-semechkova-p-96bf1/shared/homeworks/python_ds_miniprojects/final_project/data/orders/2024-03-27/Владимир Ударников [] ['orders.csv', 'order_status.csv']\n",
      "/mnt/HC_Volume_18315164/home-jupyter/jupyter-alena-semechkova-p-96bf1/shared/homeworks/python_ds_miniprojects/final_project/data/orders/2024-03-27/Надежда Гармошкина [] ['orders.csv', 'order_status.csv']\n",
      "/mnt/HC_Volume_18315164/home-jupyter/jupyter-alena-semechkova-p-96bf1/shared/homeworks/python_ds_miniprojects/final_project/data/orders/2024-03-27/Анастасия Дудкина [] ['orders.csv', 'order_status.csv']\n",
      "/mnt/HC_Volume_18315164/home-jupyter/jupyter-alena-semechkova-p-96bf1/shared/homeworks/python_ds_miniprojects/final_project/data/orders/2024-03-27/Алексей Саксофонов [] ['orders.csv', 'order_status.csv']\n",
      "/mnt/HC_Volume_18315164/home-jupyter/jupyter-alena-semechkova-p-96bf1/shared/homeworks/python_ds_miniprojects/final_project/data/orders/2024-03-27/Виктор Тромбонов [] ['orders.csv', 'order_status.csv']\n",
      "/mnt/HC_Volume_18315164/home-jupyter/jupyter-alena-semechkova-p-96bf1/shared/homeworks/python_ds_miniprojects/final_project/data/orders/2024-03-27/Максим Барабанов [] ['orders.csv', 'order_status.csv']\n",
      "/mnt/HC_Volume_18315164/home-jupyter/jupyter-alena-semechkova-p-96bf1/shared/homeworks/python_ds_miniprojects/final_project/data/orders/2024-03-27/Маргарита Камертонова [] ['orders.csv', 'order_status.csv']\n",
      "/mnt/HC_Volume_18315164/home-jupyter/jupyter-alena-semechkova-p-96bf1/shared/homeworks/python_ds_miniprojects/final_project/data/orders/2024-03-27/Ксения Балалайкина [] ['orders.csv', 'order_status.csv']\n",
      "/mnt/HC_Volume_18315164/home-jupyter/jupyter-alena-semechkova-p-96bf1/shared/homeworks/python_ds_miniprojects/final_project/data/orders/2024-03-18 ['Владимир Ударников', 'Надежда Гармошкина', 'Анастасия Дудкина', 'Сергей Контрабасов', 'Аркадий Октавин', 'Виктор Тромбонов', 'Максим Барабанов', 'Маргарита Камертонова'] []\n",
      "/mnt/HC_Volume_18315164/home-jupyter/jupyter-alena-semechkova-p-96bf1/shared/homeworks/python_ds_miniprojects/final_project/data/orders/2024-03-18/Владимир Ударников [] ['orders.csv', 'order_status.csv']\n",
      "/mnt/HC_Volume_18315164/home-jupyter/jupyter-alena-semechkova-p-96bf1/shared/homeworks/python_ds_miniprojects/final_project/data/orders/2024-03-18/Надежда Гармошкина [] ['orders.csv', 'order_status.csv']\n",
      "/mnt/HC_Volume_18315164/home-jupyter/jupyter-alena-semechkova-p-96bf1/shared/homeworks/python_ds_miniprojects/final_project/data/orders/2024-03-18/Анастасия Дудкина [] ['orders.csv', 'order_status.csv']\n",
      "/mnt/HC_Volume_18315164/home-jupyter/jupyter-alena-semechkova-p-96bf1/shared/homeworks/python_ds_miniprojects/final_project/data/orders/2024-03-18/Сергей Контрабасов [] ['orders.csv', 'order_status.csv']\n",
      "/mnt/HC_Volume_18315164/home-jupyter/jupyter-alena-semechkova-p-96bf1/shared/homeworks/python_ds_miniprojects/final_project/data/orders/2024-03-18/Аркадий Октавин [] ['orders.csv', 'order_status.csv']\n",
      "/mnt/HC_Volume_18315164/home-jupyter/jupyter-alena-semechkova-p-96bf1/shared/homeworks/python_ds_miniprojects/final_project/data/orders/2024-03-18/Виктор Тромбонов [] ['orders.csv', 'order_status.csv']\n",
      "/mnt/HC_Volume_18315164/home-jupyter/jupyter-alena-semechkova-p-96bf1/shared/homeworks/python_ds_miniprojects/final_project/data/orders/2024-03-18/Максим Барабанов [] ['orders.csv', 'order_status.csv']\n",
      "/mnt/HC_Volume_18315164/home-jupyter/jupyter-alena-semechkova-p-96bf1/shared/homeworks/python_ds_miniprojects/final_project/data/orders/2024-03-18/Маргарита Камертонова [] ['orders.csv', 'order_status.csv']\n",
      "/mnt/HC_Volume_18315164/home-jupyter/jupyter-alena-semechkova-p-96bf1/shared/homeworks/python_ds_miniprojects/final_project/data/orders/2024-03-28 ['Владимир Ударников', 'Екатерина Тарелкина', 'Надежда Гармошкина', 'Анастасия Дудкина', 'Алексей Саксофонов', 'Виктор Тромбонов', 'Маргарита Камертонова', 'Ксения Балалайкина'] []\n",
      "/mnt/HC_Volume_18315164/home-jupyter/jupyter-alena-semechkova-p-96bf1/shared/homeworks/python_ds_miniprojects/final_project/data/orders/2024-03-28/Владимир Ударников [] ['orders.csv', 'order_status.csv']\n",
      "/mnt/HC_Volume_18315164/home-jupyter/jupyter-alena-semechkova-p-96bf1/shared/homeworks/python_ds_miniprojects/final_project/data/orders/2024-03-28/Екатерина Тарелкина [] ['orders.csv', 'order_status.csv']\n",
      "/mnt/HC_Volume_18315164/home-jupyter/jupyter-alena-semechkova-p-96bf1/shared/homeworks/python_ds_miniprojects/final_project/data/orders/2024-03-28/Надежда Гармошкина [] ['orders.csv', 'order_status.csv']\n",
      "/mnt/HC_Volume_18315164/home-jupyter/jupyter-alena-semechkova-p-96bf1/shared/homeworks/python_ds_miniprojects/final_project/data/orders/2024-03-28/Анастасия Дудкина [] ['orders.csv', 'order_status.csv']\n",
      "/mnt/HC_Volume_18315164/home-jupyter/jupyter-alena-semechkova-p-96bf1/shared/homeworks/python_ds_miniprojects/final_project/data/orders/2024-03-28/Алексей Саксофонов [] ['orders.csv', 'order_status.csv']\n",
      "/mnt/HC_Volume_18315164/home-jupyter/jupyter-alena-semechkova-p-96bf1/shared/homeworks/python_ds_miniprojects/final_project/data/orders/2024-03-28/Виктор Тромбонов [] ['orders.csv', 'order_status.csv']\n",
      "/mnt/HC_Volume_18315164/home-jupyter/jupyter-alena-semechkova-p-96bf1/shared/homeworks/python_ds_miniprojects/final_project/data/orders/2024-03-28/Маргарита Камертонова [] ['orders.csv', 'order_status.csv']\n",
      "/mnt/HC_Volume_18315164/home-jupyter/jupyter-alena-semechkova-p-96bf1/shared/homeworks/python_ds_miniprojects/final_project/data/orders/2024-03-28/Ксения Балалайкина [] ['orders.csv', 'order_status.csv']\n",
      "/mnt/HC_Volume_18315164/home-jupyter/jupyter-alena-semechkova-p-96bf1/shared/homeworks/python_ds_miniprojects/final_project/data/orders/2024-03-23 ['Екатерина Тарелкина', 'Виктор Тромбонов', 'Ксения Балалайкина'] []\n",
      "/mnt/HC_Volume_18315164/home-jupyter/jupyter-alena-semechkova-p-96bf1/shared/homeworks/python_ds_miniprojects/final_project/data/orders/2024-03-23/Екатерина Тарелкина [] ['orders.csv', 'order_status.csv']\n",
      "/mnt/HC_Volume_18315164/home-jupyter/jupyter-alena-semechkova-p-96bf1/shared/homeworks/python_ds_miniprojects/final_project/data/orders/2024-03-23/Виктор Тромбонов [] ['orders.csv', 'order_status.csv']\n",
      "/mnt/HC_Volume_18315164/home-jupyter/jupyter-alena-semechkova-p-96bf1/shared/homeworks/python_ds_miniprojects/final_project/data/orders/2024-03-23/Ксения Балалайкина [] ['orders.csv', 'order_status.csv']\n",
      "/mnt/HC_Volume_18315164/home-jupyter/jupyter-alena-semechkova-p-96bf1/shared/homeworks/python_ds_miniprojects/final_project/data/orders/2024-03-05 ['Владимир Ударников', 'Екатерина Тарелкина', 'Антон Скрипкин', 'Надежда Гармошкина', 'Анастасия Дудкина', 'Алексей Саксофонов', 'Виктор Тромбонов', 'Максим Барабанов', 'Маргарита Камертонова'] []\n",
      "/mnt/HC_Volume_18315164/home-jupyter/jupyter-alena-semechkova-p-96bf1/shared/homeworks/python_ds_miniprojects/final_project/data/orders/2024-03-05/Владимир Ударников [] ['orders.csv', 'order_status.csv']\n",
      "/mnt/HC_Volume_18315164/home-jupyter/jupyter-alena-semechkova-p-96bf1/shared/homeworks/python_ds_miniprojects/final_project/data/orders/2024-03-05/Екатерина Тарелкина [] ['orders.csv', 'order_status.csv']\n",
      "/mnt/HC_Volume_18315164/home-jupyter/jupyter-alena-semechkova-p-96bf1/shared/homeworks/python_ds_miniprojects/final_project/data/orders/2024-03-05/Антон Скрипкин [] ['orders.csv', 'order_status.csv']\n",
      "/mnt/HC_Volume_18315164/home-jupyter/jupyter-alena-semechkova-p-96bf1/shared/homeworks/python_ds_miniprojects/final_project/data/orders/2024-03-05/Надежда Гармошкина [] ['orders.csv', 'order_status.csv']\n",
      "/mnt/HC_Volume_18315164/home-jupyter/jupyter-alena-semechkova-p-96bf1/shared/homeworks/python_ds_miniprojects/final_project/data/orders/2024-03-05/Анастасия Дудкина [] ['orders.csv', 'order_status.csv']\n",
      "/mnt/HC_Volume_18315164/home-jupyter/jupyter-alena-semechkova-p-96bf1/shared/homeworks/python_ds_miniprojects/final_project/data/orders/2024-03-05/Алексей Саксофонов [] ['orders.csv', 'order_status.csv']\n",
      "/mnt/HC_Volume_18315164/home-jupyter/jupyter-alena-semechkova-p-96bf1/shared/homeworks/python_ds_miniprojects/final_project/data/orders/2024-03-05/Виктор Тромбонов [] ['orders.csv', 'order_status.csv']\n",
      "/mnt/HC_Volume_18315164/home-jupyter/jupyter-alena-semechkova-p-96bf1/shared/homeworks/python_ds_miniprojects/final_project/data/orders/2024-03-05/Максим Барабанов [] ['orders.csv', 'order_status.csv']\n",
      "/mnt/HC_Volume_18315164/home-jupyter/jupyter-alena-semechkova-p-96bf1/shared/homeworks/python_ds_miniprojects/final_project/data/orders/2024-03-05/Маргарита Камертонова [] ['orders.csv', 'order_status.csv']\n",
      "/mnt/HC_Volume_18315164/home-jupyter/jupyter-alena-semechkova-p-96bf1/shared/homeworks/python_ds_miniprojects/final_project/data/orders/2024-03-17 ['Екатерина Тарелкина', 'Виктор Тромбонов', 'Маргарита Камертонова'] []\n",
      "/mnt/HC_Volume_18315164/home-jupyter/jupyter-alena-semechkova-p-96bf1/shared/homeworks/python_ds_miniprojects/final_project/data/orders/2024-03-17/Екатерина Тарелкина [] ['orders.csv', 'order_status.csv']\n",
      "/mnt/HC_Volume_18315164/home-jupyter/jupyter-alena-semechkova-p-96bf1/shared/homeworks/python_ds_miniprojects/final_project/data/orders/2024-03-17/Виктор Тромбонов [] ['orders.csv', 'order_status.csv']\n",
      "/mnt/HC_Volume_18315164/home-jupyter/jupyter-alena-semechkova-p-96bf1/shared/homeworks/python_ds_miniprojects/final_project/data/orders/2024-03-17/Маргарита Камертонова [] ['orders.csv', 'order_status.csv']\n",
      "/mnt/HC_Volume_18315164/home-jupyter/jupyter-alena-semechkova-p-96bf1/shared/homeworks/python_ds_miniprojects/final_project/data/orders/2024-03-08 ['Максим Барабанов'] []\n",
      "/mnt/HC_Volume_18315164/home-jupyter/jupyter-alena-semechkova-p-96bf1/shared/homeworks/python_ds_miniprojects/final_project/data/orders/2024-03-08/Максим Барабанов [] ['orders.csv', 'order_status.csv']\n",
      "/mnt/HC_Volume_18315164/home-jupyter/jupyter-alena-semechkova-p-96bf1/shared/homeworks/python_ds_miniprojects/final_project/data/orders/2024-03-06 ['Владимир Ударников', 'Екатерина Тарелкина', 'Антон Скрипкин', 'Алексей Саксофонов', 'Виктор Тромбонов', 'Максим Барабанов', 'Маргарита Камертонова'] []\n",
      "/mnt/HC_Volume_18315164/home-jupyter/jupyter-alena-semechkova-p-96bf1/shared/homeworks/python_ds_miniprojects/final_project/data/orders/2024-03-06/Владимир Ударников [] ['orders.csv', 'order_status.csv']\n",
      "/mnt/HC_Volume_18315164/home-jupyter/jupyter-alena-semechkova-p-96bf1/shared/homeworks/python_ds_miniprojects/final_project/data/orders/2024-03-06/Екатерина Тарелкина [] ['orders.csv', 'order_status.csv']\n",
      "/mnt/HC_Volume_18315164/home-jupyter/jupyter-alena-semechkova-p-96bf1/shared/homeworks/python_ds_miniprojects/final_project/data/orders/2024-03-06/Антон Скрипкин [] ['orders.csv', 'order_status.csv']\n",
      "/mnt/HC_Volume_18315164/home-jupyter/jupyter-alena-semechkova-p-96bf1/shared/homeworks/python_ds_miniprojects/final_project/data/orders/2024-03-06/Алексей Саксофонов [] ['orders.csv', 'order_status.csv']\n",
      "/mnt/HC_Volume_18315164/home-jupyter/jupyter-alena-semechkova-p-96bf1/shared/homeworks/python_ds_miniprojects/final_project/data/orders/2024-03-06/Виктор Тромбонов [] ['orders.csv', 'order_status.csv']\n",
      "/mnt/HC_Volume_18315164/home-jupyter/jupyter-alena-semechkova-p-96bf1/shared/homeworks/python_ds_miniprojects/final_project/data/orders/2024-03-06/Максим Барабанов [] ['orders.csv', 'order_status.csv']\n",
      "/mnt/HC_Volume_18315164/home-jupyter/jupyter-alena-semechkova-p-96bf1/shared/homeworks/python_ds_miniprojects/final_project/data/orders/2024-03-06/Маргарита Камертонова [] ['orders.csv', 'order_status.csv']\n",
      "/mnt/HC_Volume_18315164/home-jupyter/jupyter-alena-semechkova-p-96bf1/shared/homeworks/python_ds_miniprojects/final_project/data/orders/2024-03-16 ['Максим Барабанов', 'Маргарита Камертонова'] []\n",
      "/mnt/HC_Volume_18315164/home-jupyter/jupyter-alena-semechkova-p-96bf1/shared/homeworks/python_ds_miniprojects/final_project/data/orders/2024-03-16/Максим Барабанов [] ['orders.csv', 'order_status.csv']\n",
      "/mnt/HC_Volume_18315164/home-jupyter/jupyter-alena-semechkova-p-96bf1/shared/homeworks/python_ds_miniprojects/final_project/data/orders/2024-03-16/Маргарита Камертонова [] ['orders.csv', 'order_status.csv']\n",
      "/mnt/HC_Volume_18315164/home-jupyter/jupyter-alena-semechkova-p-96bf1/shared/homeworks/python_ds_miniprojects/final_project/data/orders/2024-03-22 ['Надежда Гармошкина', 'Анастасия Дудкина', 'Алексей Саксофонов', 'Виктор Тромбонов', 'Максим Барабанов', 'Маргарита Камертонова', 'Ксения Балалайкина'] []\n",
      "/mnt/HC_Volume_18315164/home-jupyter/jupyter-alena-semechkova-p-96bf1/shared/homeworks/python_ds_miniprojects/final_project/data/orders/2024-03-22/Надежда Гармошкина [] ['orders.csv', 'order_status.csv']\n",
      "/mnt/HC_Volume_18315164/home-jupyter/jupyter-alena-semechkova-p-96bf1/shared/homeworks/python_ds_miniprojects/final_project/data/orders/2024-03-22/Анастасия Дудкина [] ['orders.csv', 'order_status.csv']\n",
      "/mnt/HC_Volume_18315164/home-jupyter/jupyter-alena-semechkova-p-96bf1/shared/homeworks/python_ds_miniprojects/final_project/data/orders/2024-03-22/Алексей Саксофонов [] ['orders.csv', 'order_status.csv']\n",
      "/mnt/HC_Volume_18315164/home-jupyter/jupyter-alena-semechkova-p-96bf1/shared/homeworks/python_ds_miniprojects/final_project/data/orders/2024-03-22/Виктор Тромбонов [] ['orders.csv', 'order_status.csv']\n",
      "/mnt/HC_Volume_18315164/home-jupyter/jupyter-alena-semechkova-p-96bf1/shared/homeworks/python_ds_miniprojects/final_project/data/orders/2024-03-22/Максим Барабанов [] ['orders.csv', 'order_status.csv']\n",
      "/mnt/HC_Volume_18315164/home-jupyter/jupyter-alena-semechkova-p-96bf1/shared/homeworks/python_ds_miniprojects/final_project/data/orders/2024-03-22/Маргарита Камертонова [] ['orders.csv', 'order_status.csv']\n",
      "/mnt/HC_Volume_18315164/home-jupyter/jupyter-alena-semechkova-p-96bf1/shared/homeworks/python_ds_miniprojects/final_project/data/orders/2024-03-22/Ксения Балалайкина [] ['orders.csv', 'order_status.csv']\n",
      "/mnt/HC_Volume_18315164/home-jupyter/jupyter-alena-semechkova-p-96bf1/shared/homeworks/python_ds_miniprojects/final_project/data/orders/2024-03-14 ['Владимир Ударников', 'Екатерина Тарелкина', 'Надежда Гармошкина', 'Анастасия Дудкина', 'Сергей Контрабасов', 'Алексей Саксофонов', 'Виктор Тромбонов', 'Максим Барабанов', 'Маргарита Камертонова', 'Ксения Балалайкина'] []\n",
      "/mnt/HC_Volume_18315164/home-jupyter/jupyter-alena-semechkova-p-96bf1/shared/homeworks/python_ds_miniprojects/final_project/data/orders/2024-03-14/Владимир Ударников [] ['orders.csv', 'order_status.csv']\n",
      "/mnt/HC_Volume_18315164/home-jupyter/jupyter-alena-semechkova-p-96bf1/shared/homeworks/python_ds_miniprojects/final_project/data/orders/2024-03-14/Екатерина Тарелкина [] ['orders.csv', 'order_status.csv']\n",
      "/mnt/HC_Volume_18315164/home-jupyter/jupyter-alena-semechkova-p-96bf1/shared/homeworks/python_ds_miniprojects/final_project/data/orders/2024-03-14/Надежда Гармошкина [] ['orders.csv', 'order_status.csv']\n",
      "/mnt/HC_Volume_18315164/home-jupyter/jupyter-alena-semechkova-p-96bf1/shared/homeworks/python_ds_miniprojects/final_project/data/orders/2024-03-14/Анастасия Дудкина [] ['orders.csv', 'order_status.csv']\n",
      "/mnt/HC_Volume_18315164/home-jupyter/jupyter-alena-semechkova-p-96bf1/shared/homeworks/python_ds_miniprojects/final_project/data/orders/2024-03-14/Сергей Контрабасов [] ['orders.csv', 'order_status.csv']\n",
      "/mnt/HC_Volume_18315164/home-jupyter/jupyter-alena-semechkova-p-96bf1/shared/homeworks/python_ds_miniprojects/final_project/data/orders/2024-03-14/Алексей Саксофонов [] ['orders.csv', 'order_status.csv']\n",
      "/mnt/HC_Volume_18315164/home-jupyter/jupyter-alena-semechkova-p-96bf1/shared/homeworks/python_ds_miniprojects/final_project/data/orders/2024-03-14/Виктор Тромбонов [] ['orders.csv', 'order_status.csv']\n",
      "/mnt/HC_Volume_18315164/home-jupyter/jupyter-alena-semechkova-p-96bf1/shared/homeworks/python_ds_miniprojects/final_project/data/orders/2024-03-14/Максим Барабанов [] ['orders.csv', 'order_status.csv']\n",
      "/mnt/HC_Volume_18315164/home-jupyter/jupyter-alena-semechkova-p-96bf1/shared/homeworks/python_ds_miniprojects/final_project/data/orders/2024-03-14/Маргарита Камертонова [] ['orders.csv', 'order_status.csv']\n",
      "/mnt/HC_Volume_18315164/home-jupyter/jupyter-alena-semechkova-p-96bf1/shared/homeworks/python_ds_miniprojects/final_project/data/orders/2024-03-14/Ксения Балалайкина [] ['orders.csv', 'order_status.csv']\n",
      "/mnt/HC_Volume_18315164/home-jupyter/jupyter-alena-semechkova-p-96bf1/shared/homeworks/python_ds_miniprojects/final_project/data/orders/2024-03-20 ['Владимир Ударников', 'Екатерина Тарелкина', 'Антон Скрипкин', 'Надежда Гармошкина', 'Виктор Тромбонов', 'Максим Барабанов', 'Маргарита Камертонова', 'Ксения Балалайкина'] []\n",
      "/mnt/HC_Volume_18315164/home-jupyter/jupyter-alena-semechkova-p-96bf1/shared/homeworks/python_ds_miniprojects/final_project/data/orders/2024-03-20/Владимир Ударников [] ['orders.csv', 'order_status.csv']\n",
      "/mnt/HC_Volume_18315164/home-jupyter/jupyter-alena-semechkova-p-96bf1/shared/homeworks/python_ds_miniprojects/final_project/data/orders/2024-03-20/Екатерина Тарелкина [] ['orders.csv', 'order_status.csv']\n",
      "/mnt/HC_Volume_18315164/home-jupyter/jupyter-alena-semechkova-p-96bf1/shared/homeworks/python_ds_miniprojects/final_project/data/orders/2024-03-20/Антон Скрипкин [] ['orders.csv', 'order_status.csv']\n",
      "/mnt/HC_Volume_18315164/home-jupyter/jupyter-alena-semechkova-p-96bf1/shared/homeworks/python_ds_miniprojects/final_project/data/orders/2024-03-20/Надежда Гармошкина [] ['orders.csv', 'order_status.csv']\n",
      "/mnt/HC_Volume_18315164/home-jupyter/jupyter-alena-semechkova-p-96bf1/shared/homeworks/python_ds_miniprojects/final_project/data/orders/2024-03-20/Виктор Тромбонов [] ['orders.csv', 'order_status.csv']\n",
      "/mnt/HC_Volume_18315164/home-jupyter/jupyter-alena-semechkova-p-96bf1/shared/homeworks/python_ds_miniprojects/final_project/data/orders/2024-03-20/Максим Барабанов [] ['orders.csv', 'order_status.csv']\n",
      "/mnt/HC_Volume_18315164/home-jupyter/jupyter-alena-semechkova-p-96bf1/shared/homeworks/python_ds_miniprojects/final_project/data/orders/2024-03-20/Маргарита Камертонова [] ['orders.csv', 'order_status.csv']\n",
      "/mnt/HC_Volume_18315164/home-jupyter/jupyter-alena-semechkova-p-96bf1/shared/homeworks/python_ds_miniprojects/final_project/data/orders/2024-03-20/Ксения Балалайкина [] ['orders.csv', 'order_status.csv']\n",
      "/mnt/HC_Volume_18315164/home-jupyter/jupyter-alena-semechkova-p-96bf1/shared/homeworks/python_ds_miniprojects/final_project/data/orders/2024-03-25 ['Екатерина Тарелкина', 'Виктор Тромбонов', 'Максим Барабанов', 'Маргарита Камертонова'] []\n",
      "/mnt/HC_Volume_18315164/home-jupyter/jupyter-alena-semechkova-p-96bf1/shared/homeworks/python_ds_miniprojects/final_project/data/orders/2024-03-25/Екатерина Тарелкина [] ['orders.csv', 'order_status.csv']\n",
      "/mnt/HC_Volume_18315164/home-jupyter/jupyter-alena-semechkova-p-96bf1/shared/homeworks/python_ds_miniprojects/final_project/data/orders/2024-03-25/Виктор Тромбонов [] ['orders.csv', 'order_status.csv']\n",
      "/mnt/HC_Volume_18315164/home-jupyter/jupyter-alena-semechkova-p-96bf1/shared/homeworks/python_ds_miniprojects/final_project/data/orders/2024-03-25/Максим Барабанов [] ['orders.csv', 'order_status.csv']\n",
      "/mnt/HC_Volume_18315164/home-jupyter/jupyter-alena-semechkova-p-96bf1/shared/homeworks/python_ds_miniprojects/final_project/data/orders/2024-03-25/Маргарита Камертонова [] ['orders.csv', 'order_status.csv']\n",
      "/mnt/HC_Volume_18315164/home-jupyter/jupyter-alena-semechkova-p-96bf1/shared/homeworks/python_ds_miniprojects/final_project/data/orders/2024-03-12 ['Владимир Ударников', 'Алексей Саксофонов', 'Виктор Тромбонов', 'Максим Барабанов', 'Маргарита Камертонова', 'Ксения Балалайкина'] []\n",
      "/mnt/HC_Volume_18315164/home-jupyter/jupyter-alena-semechkova-p-96bf1/shared/homeworks/python_ds_miniprojects/final_project/data/orders/2024-03-12/Владимир Ударников [] ['orders.csv', 'order_status.csv']\n",
      "/mnt/HC_Volume_18315164/home-jupyter/jupyter-alena-semechkova-p-96bf1/shared/homeworks/python_ds_miniprojects/final_project/data/orders/2024-03-12/Алексей Саксофонов [] ['orders.csv', 'order_status.csv']\n",
      "/mnt/HC_Volume_18315164/home-jupyter/jupyter-alena-semechkova-p-96bf1/shared/homeworks/python_ds_miniprojects/final_project/data/orders/2024-03-12/Виктор Тромбонов [] ['orders.csv', 'order_status.csv']\n",
      "/mnt/HC_Volume_18315164/home-jupyter/jupyter-alena-semechkova-p-96bf1/shared/homeworks/python_ds_miniprojects/final_project/data/orders/2024-03-12/Максим Барабанов [] ['orders.csv', 'order_status.csv']\n",
      "/mnt/HC_Volume_18315164/home-jupyter/jupyter-alena-semechkova-p-96bf1/shared/homeworks/python_ds_miniprojects/final_project/data/orders/2024-03-12/Маргарита Камертонова [] ['orders.csv', 'order_status.csv']\n",
      "/mnt/HC_Volume_18315164/home-jupyter/jupyter-alena-semechkova-p-96bf1/shared/homeworks/python_ds_miniprojects/final_project/data/orders/2024-03-12/Ксения Балалайкина [] ['orders.csv', 'order_status.csv']\n",
      "/mnt/HC_Volume_18315164/home-jupyter/jupyter-alena-semechkova-p-96bf1/shared/homeworks/python_ds_miniprojects/final_project/data/orders/2024-03-09 ['Надежда Гармошкина'] []\n",
      "/mnt/HC_Volume_18315164/home-jupyter/jupyter-alena-semechkova-p-96bf1/shared/homeworks/python_ds_miniprojects/final_project/data/orders/2024-03-09/Надежда Гармошкина [] ['orders.csv', 'order_status.csv']\n",
      "/mnt/HC_Volume_18315164/home-jupyter/jupyter-alena-semechkova-p-96bf1/shared/homeworks/python_ds_miniprojects/final_project/data/orders/2024-03-19 ['Екатерина Тарелкина', 'Антон Скрипкин', 'Надежда Гармошкина', 'Алексей Саксофонов', 'Виктор Тромбонов', 'Максим Барабанов', 'Ксения Балалайкина'] []\n",
      "/mnt/HC_Volume_18315164/home-jupyter/jupyter-alena-semechkova-p-96bf1/shared/homeworks/python_ds_miniprojects/final_project/data/orders/2024-03-19/Екатерина Тарелкина [] ['orders.csv', 'order_status.csv']\n",
      "/mnt/HC_Volume_18315164/home-jupyter/jupyter-alena-semechkova-p-96bf1/shared/homeworks/python_ds_miniprojects/final_project/data/orders/2024-03-19/Антон Скрипкин [] ['orders.csv', 'order_status.csv']\n",
      "/mnt/HC_Volume_18315164/home-jupyter/jupyter-alena-semechkova-p-96bf1/shared/homeworks/python_ds_miniprojects/final_project/data/orders/2024-03-19/Надежда Гармошкина [] ['orders.csv', 'order_status.csv']\n",
      "/mnt/HC_Volume_18315164/home-jupyter/jupyter-alena-semechkova-p-96bf1/shared/homeworks/python_ds_miniprojects/final_project/data/orders/2024-03-19/Алексей Саксофонов [] ['orders.csv', 'order_status.csv']\n",
      "/mnt/HC_Volume_18315164/home-jupyter/jupyter-alena-semechkova-p-96bf1/shared/homeworks/python_ds_miniprojects/final_project/data/orders/2024-03-19/Виктор Тромбонов [] ['orders.csv', 'order_status.csv']\n",
      "/mnt/HC_Volume_18315164/home-jupyter/jupyter-alena-semechkova-p-96bf1/shared/homeworks/python_ds_miniprojects/final_project/data/orders/2024-03-19/Максим Барабанов [] ['orders.csv', 'order_status.csv']\n",
      "/mnt/HC_Volume_18315164/home-jupyter/jupyter-alena-semechkova-p-96bf1/shared/homeworks/python_ds_miniprojects/final_project/data/orders/2024-03-19/Ксения Балалайкина [] ['orders.csv', 'order_status.csv']\n",
      "/mnt/HC_Volume_18315164/home-jupyter/jupyter-alena-semechkova-p-96bf1/shared/homeworks/python_ds_miniprojects/final_project/data/orders/2024-03-03 ['Маргарита Камертонова'] []\n",
      "/mnt/HC_Volume_18315164/home-jupyter/jupyter-alena-semechkova-p-96bf1/shared/homeworks/python_ds_miniprojects/final_project/data/orders/2024-03-03/Маргарита Камертонова [] ['orders.csv', 'order_status.csv']\n",
      "/mnt/HC_Volume_18315164/home-jupyter/jupyter-alena-semechkova-p-96bf1/shared/homeworks/python_ds_miniprojects/final_project/data/orders/2024-03-21 ['Владимир Ударников', 'Екатерина Тарелкина', 'Сергей Контрабасов', 'Алексей Саксофонов', 'Аркадий Октавин', 'Виктор Тромбонов', 'Максим Барабанов', 'Маргарита Камертонова', 'Ксения Балалайкина'] []\n",
      "/mnt/HC_Volume_18315164/home-jupyter/jupyter-alena-semechkova-p-96bf1/shared/homeworks/python_ds_miniprojects/final_project/data/orders/2024-03-21/Владимир Ударников [] ['orders.csv', 'order_status.csv']\n",
      "/mnt/HC_Volume_18315164/home-jupyter/jupyter-alena-semechkova-p-96bf1/shared/homeworks/python_ds_miniprojects/final_project/data/orders/2024-03-21/Екатерина Тарелкина [] ['orders.csv', 'order_status.csv']\n",
      "/mnt/HC_Volume_18315164/home-jupyter/jupyter-alena-semechkova-p-96bf1/shared/homeworks/python_ds_miniprojects/final_project/data/orders/2024-03-21/Сергей Контрабасов [] ['orders.csv', 'order_status.csv']\n",
      "/mnt/HC_Volume_18315164/home-jupyter/jupyter-alena-semechkova-p-96bf1/shared/homeworks/python_ds_miniprojects/final_project/data/orders/2024-03-21/Алексей Саксофонов [] ['orders.csv', 'order_status.csv']\n",
      "/mnt/HC_Volume_18315164/home-jupyter/jupyter-alena-semechkova-p-96bf1/shared/homeworks/python_ds_miniprojects/final_project/data/orders/2024-03-21/Аркадий Октавин [] ['orders.csv', 'order_status.csv']\n",
      "/mnt/HC_Volume_18315164/home-jupyter/jupyter-alena-semechkova-p-96bf1/shared/homeworks/python_ds_miniprojects/final_project/data/orders/2024-03-21/Виктор Тромбонов [] ['orders.csv', 'order_status.csv']\n",
      "/mnt/HC_Volume_18315164/home-jupyter/jupyter-alena-semechkova-p-96bf1/shared/homeworks/python_ds_miniprojects/final_project/data/orders/2024-03-21/Максим Барабанов [] ['orders.csv', 'order_status.csv']\n",
      "/mnt/HC_Volume_18315164/home-jupyter/jupyter-alena-semechkova-p-96bf1/shared/homeworks/python_ds_miniprojects/final_project/data/orders/2024-03-21/Маргарита Камертонова [] ['orders.csv', 'order_status.csv']\n",
      "/mnt/HC_Volume_18315164/home-jupyter/jupyter-alena-semechkova-p-96bf1/shared/homeworks/python_ds_miniprojects/final_project/data/orders/2024-03-21/Ксения Балалайкина [] ['orders.csv', 'order_status.csv']\n",
      "/mnt/HC_Volume_18315164/home-jupyter/jupyter-alena-semechkova-p-96bf1/shared/homeworks/python_ds_miniprojects/final_project/data/orders/2024-03-29 ['Владимир Ударников', 'Екатерина Тарелкина', 'Антон Скрипкин', 'Анастасия Дудкина', 'Алексей Саксофонов', 'Аркадий Октавин', 'Виктор Тромбонов', 'Максим Барабанов', 'Маргарита Камертонова', 'Ксения Балалайкина'] []\n",
      "/mnt/HC_Volume_18315164/home-jupyter/jupyter-alena-semechkova-p-96bf1/shared/homeworks/python_ds_miniprojects/final_project/data/orders/2024-03-29/Владимир Ударников [] ['orders.csv', 'order_status.csv']\n",
      "/mnt/HC_Volume_18315164/home-jupyter/jupyter-alena-semechkova-p-96bf1/shared/homeworks/python_ds_miniprojects/final_project/data/orders/2024-03-29/Екатерина Тарелкина [] ['orders.csv', 'order_status.csv']\n",
      "/mnt/HC_Volume_18315164/home-jupyter/jupyter-alena-semechkova-p-96bf1/shared/homeworks/python_ds_miniprojects/final_project/data/orders/2024-03-29/Антон Скрипкин [] ['orders.csv', 'order_status.csv']\n",
      "/mnt/HC_Volume_18315164/home-jupyter/jupyter-alena-semechkova-p-96bf1/shared/homeworks/python_ds_miniprojects/final_project/data/orders/2024-03-29/Анастасия Дудкина [] ['orders.csv', 'order_status.csv']\n",
      "/mnt/HC_Volume_18315164/home-jupyter/jupyter-alena-semechkova-p-96bf1/shared/homeworks/python_ds_miniprojects/final_project/data/orders/2024-03-29/Алексей Саксофонов [] ['orders.csv', 'order_status.csv']\n",
      "/mnt/HC_Volume_18315164/home-jupyter/jupyter-alena-semechkova-p-96bf1/shared/homeworks/python_ds_miniprojects/final_project/data/orders/2024-03-29/Аркадий Октавин [] ['orders.csv', 'order_status.csv']\n",
      "/mnt/HC_Volume_18315164/home-jupyter/jupyter-alena-semechkova-p-96bf1/shared/homeworks/python_ds_miniprojects/final_project/data/orders/2024-03-29/Виктор Тромбонов [] ['orders.csv', 'order_status.csv']\n",
      "/mnt/HC_Volume_18315164/home-jupyter/jupyter-alena-semechkova-p-96bf1/shared/homeworks/python_ds_miniprojects/final_project/data/orders/2024-03-29/Максим Барабанов [] ['orders.csv', 'order_status.csv']\n",
      "/mnt/HC_Volume_18315164/home-jupyter/jupyter-alena-semechkova-p-96bf1/shared/homeworks/python_ds_miniprojects/final_project/data/orders/2024-03-29/Маргарита Камертонова [] ['orders.csv', 'order_status.csv']\n",
      "/mnt/HC_Volume_18315164/home-jupyter/jupyter-alena-semechkova-p-96bf1/shared/homeworks/python_ds_miniprojects/final_project/data/orders/2024-03-29/Ксения Балалайкина [] ['orders.csv', 'order_status.csv']\n",
      "/mnt/HC_Volume_18315164/home-jupyter/jupyter-alena-semechkova-p-96bf1/shared/homeworks/python_ds_miniprojects/final_project/data/orders/2024-03-13 ['Владимир Ударников', 'Екатерина Тарелкина', 'Алексей Саксофонов', 'Виктор Тромбонов', 'Максим Барабанов', 'Маргарита Камертонова', 'Ксения Балалайкина'] []\n",
      "/mnt/HC_Volume_18315164/home-jupyter/jupyter-alena-semechkova-p-96bf1/shared/homeworks/python_ds_miniprojects/final_project/data/orders/2024-03-13/Владимир Ударников [] ['orders.csv', 'order_status.csv']\n",
      "/mnt/HC_Volume_18315164/home-jupyter/jupyter-alena-semechkova-p-96bf1/shared/homeworks/python_ds_miniprojects/final_project/data/orders/2024-03-13/Екатерина Тарелкина [] ['orders.csv', 'order_status.csv']\n",
      "/mnt/HC_Volume_18315164/home-jupyter/jupyter-alena-semechkova-p-96bf1/shared/homeworks/python_ds_miniprojects/final_project/data/orders/2024-03-13/Алексей Саксофонов [] ['orders.csv', 'order_status.csv']\n",
      "/mnt/HC_Volume_18315164/home-jupyter/jupyter-alena-semechkova-p-96bf1/shared/homeworks/python_ds_miniprojects/final_project/data/orders/2024-03-13/Виктор Тромбонов [] ['orders.csv', 'order_status.csv']\n",
      "/mnt/HC_Volume_18315164/home-jupyter/jupyter-alena-semechkova-p-96bf1/shared/homeworks/python_ds_miniprojects/final_project/data/orders/2024-03-13/Максим Барабанов [] ['orders.csv', 'order_status.csv']\n",
      "/mnt/HC_Volume_18315164/home-jupyter/jupyter-alena-semechkova-p-96bf1/shared/homeworks/python_ds_miniprojects/final_project/data/orders/2024-03-13/Маргарита Камертонова [] ['orders.csv', 'order_status.csv']\n",
      "/mnt/HC_Volume_18315164/home-jupyter/jupyter-alena-semechkova-p-96bf1/shared/homeworks/python_ds_miniprojects/final_project/data/orders/2024-03-13/Ксения Балалайкина [] ['orders.csv', 'order_status.csv']\n",
      "/mnt/HC_Volume_18315164/home-jupyter/jupyter-alena-semechkova-p-96bf1/shared/homeworks/python_ds_miniprojects/final_project/data/orders/2024-03-04 ['Владимир Ударников', 'Екатерина Тарелкина', 'Надежда Гармошкина', 'Анастасия Дудкина', 'Виктор Тромбонов', 'Маргарита Камертонова', 'Ксения Балалайкина'] []\n",
      "/mnt/HC_Volume_18315164/home-jupyter/jupyter-alena-semechkova-p-96bf1/shared/homeworks/python_ds_miniprojects/final_project/data/orders/2024-03-04/Владимир Ударников [] ['orders.csv', 'order_status.csv']\n",
      "/mnt/HC_Volume_18315164/home-jupyter/jupyter-alena-semechkova-p-96bf1/shared/homeworks/python_ds_miniprojects/final_project/data/orders/2024-03-04/Екатерина Тарелкина [] ['orders.csv', 'order_status.csv']\n",
      "/mnt/HC_Volume_18315164/home-jupyter/jupyter-alena-semechkova-p-96bf1/shared/homeworks/python_ds_miniprojects/final_project/data/orders/2024-03-04/Надежда Гармошкина [] ['orders.csv', 'order_status.csv']\n",
      "/mnt/HC_Volume_18315164/home-jupyter/jupyter-alena-semechkova-p-96bf1/shared/homeworks/python_ds_miniprojects/final_project/data/orders/2024-03-04/Анастасия Дудкина [] ['orders.csv', 'order_status.csv']\n",
      "/mnt/HC_Volume_18315164/home-jupyter/jupyter-alena-semechkova-p-96bf1/shared/homeworks/python_ds_miniprojects/final_project/data/orders/2024-03-04/Виктор Тромбонов [] ['orders.csv', 'order_status.csv']\n",
      "/mnt/HC_Volume_18315164/home-jupyter/jupyter-alena-semechkova-p-96bf1/shared/homeworks/python_ds_miniprojects/final_project/data/orders/2024-03-04/Маргарита Камертонова [] ['orders.csv', 'order_status.csv']\n",
      "/mnt/HC_Volume_18315164/home-jupyter/jupyter-alena-semechkova-p-96bf1/shared/homeworks/python_ds_miniprojects/final_project/data/orders/2024-03-04/Ксения Балалайкина [] ['orders.csv', 'order_status.csv']\n",
      "/mnt/HC_Volume_18315164/home-jupyter/jupyter-alena-semechkova-p-96bf1/shared/homeworks/python_ds_miniprojects/final_project/data/orders/2024-03-07 ['Владимир Ударников', 'Екатерина Тарелкина', 'Надежда Гармошкина', 'Виктор Тромбонов', 'Максим Барабанов', 'Маргарита Камертонова', 'Ксения Балалайкина'] []\n",
      "/mnt/HC_Volume_18315164/home-jupyter/jupyter-alena-semechkova-p-96bf1/shared/homeworks/python_ds_miniprojects/final_project/data/orders/2024-03-07/Владимир Ударников [] ['orders.csv', 'order_status.csv']\n",
      "/mnt/HC_Volume_18315164/home-jupyter/jupyter-alena-semechkova-p-96bf1/shared/homeworks/python_ds_miniprojects/final_project/data/orders/2024-03-07/Екатерина Тарелкина [] ['orders.csv', 'order_status.csv']\n",
      "/mnt/HC_Volume_18315164/home-jupyter/jupyter-alena-semechkova-p-96bf1/shared/homeworks/python_ds_miniprojects/final_project/data/orders/2024-03-07/Надежда Гармошкина [] ['orders.csv', 'order_status.csv']\n",
      "/mnt/HC_Volume_18315164/home-jupyter/jupyter-alena-semechkova-p-96bf1/shared/homeworks/python_ds_miniprojects/final_project/data/orders/2024-03-07/Виктор Тромбонов [] ['orders.csv', 'order_status.csv']\n",
      "/mnt/HC_Volume_18315164/home-jupyter/jupyter-alena-semechkova-p-96bf1/shared/homeworks/python_ds_miniprojects/final_project/data/orders/2024-03-07/Максим Барабанов [] ['orders.csv', 'order_status.csv']\n",
      "/mnt/HC_Volume_18315164/home-jupyter/jupyter-alena-semechkova-p-96bf1/shared/homeworks/python_ds_miniprojects/final_project/data/orders/2024-03-07/Маргарита Камертонова [] ['orders.csv', 'order_status.csv']\n",
      "/mnt/HC_Volume_18315164/home-jupyter/jupyter-alena-semechkova-p-96bf1/shared/homeworks/python_ds_miniprojects/final_project/data/orders/2024-03-07/Ксения Балалайкина [] ['orders.csv', 'order_status.csv']\n",
      "/mnt/HC_Volume_18315164/home-jupyter/jupyter-alena-semechkova-p-96bf1/shared/homeworks/python_ds_miniprojects/final_project/data/orders/2024-03-15 ['Владимир Ударников', 'Екатерина Тарелкина', 'Антон Скрипкин', 'Анастасия Дудкина', 'Алексей Саксофонов', 'Максим Барабанов', 'Маргарита Камертонова', 'Ксения Балалайкина'] []\n",
      "/mnt/HC_Volume_18315164/home-jupyter/jupyter-alena-semechkova-p-96bf1/shared/homeworks/python_ds_miniprojects/final_project/data/orders/2024-03-15/Владимир Ударников [] ['orders.csv', 'order_status.csv']\n",
      "/mnt/HC_Volume_18315164/home-jupyter/jupyter-alena-semechkova-p-96bf1/shared/homeworks/python_ds_miniprojects/final_project/data/orders/2024-03-15/Екатерина Тарелкина [] ['orders.csv', 'order_status.csv']\n",
      "/mnt/HC_Volume_18315164/home-jupyter/jupyter-alena-semechkova-p-96bf1/shared/homeworks/python_ds_miniprojects/final_project/data/orders/2024-03-15/Антон Скрипкин [] ['orders.csv', 'order_status.csv']\n",
      "/mnt/HC_Volume_18315164/home-jupyter/jupyter-alena-semechkova-p-96bf1/shared/homeworks/python_ds_miniprojects/final_project/data/orders/2024-03-15/Анастасия Дудкина [] ['orders.csv', 'order_status.csv']\n",
      "/mnt/HC_Volume_18315164/home-jupyter/jupyter-alena-semechkova-p-96bf1/shared/homeworks/python_ds_miniprojects/final_project/data/orders/2024-03-15/Алексей Саксофонов [] ['orders.csv', 'order_status.csv']\n",
      "/mnt/HC_Volume_18315164/home-jupyter/jupyter-alena-semechkova-p-96bf1/shared/homeworks/python_ds_miniprojects/final_project/data/orders/2024-03-15/Максим Барабанов [] ['orders.csv', 'order_status.csv']\n",
      "/mnt/HC_Volume_18315164/home-jupyter/jupyter-alena-semechkova-p-96bf1/shared/homeworks/python_ds_miniprojects/final_project/data/orders/2024-03-15/Маргарита Камертонова [] ['orders.csv', 'order_status.csv']\n",
      "/mnt/HC_Volume_18315164/home-jupyter/jupyter-alena-semechkova-p-96bf1/shared/homeworks/python_ds_miniprojects/final_project/data/orders/2024-03-15/Ксения Балалайкина [] ['orders.csv', 'order_status.csv']\n",
      "/mnt/HC_Volume_18315164/home-jupyter/jupyter-alena-semechkova-p-96bf1/shared/homeworks/python_ds_miniprojects/final_project/data/orders/2024-03-11 ['Владимир Ударников', 'Екатерина Тарелкина', 'Надежда Гармошкина', 'Анастасия Дудкина', 'Алексей Саксофонов', 'Виктор Тромбонов', 'Маргарита Камертонова'] []\n",
      "/mnt/HC_Volume_18315164/home-jupyter/jupyter-alena-semechkova-p-96bf1/shared/homeworks/python_ds_miniprojects/final_project/data/orders/2024-03-11/Владимир Ударников [] ['orders.csv', 'order_status.csv']\n",
      "/mnt/HC_Volume_18315164/home-jupyter/jupyter-alena-semechkova-p-96bf1/shared/homeworks/python_ds_miniprojects/final_project/data/orders/2024-03-11/Екатерина Тарелкина [] ['orders.csv', 'order_status.csv']\n",
      "/mnt/HC_Volume_18315164/home-jupyter/jupyter-alena-semechkova-p-96bf1/shared/homeworks/python_ds_miniprojects/final_project/data/orders/2024-03-11/Надежда Гармошкина [] ['orders.csv', 'order_status.csv']\n",
      "/mnt/HC_Volume_18315164/home-jupyter/jupyter-alena-semechkova-p-96bf1/shared/homeworks/python_ds_miniprojects/final_project/data/orders/2024-03-11/Анастасия Дудкина [] ['orders.csv', 'order_status.csv']\n",
      "/mnt/HC_Volume_18315164/home-jupyter/jupyter-alena-semechkova-p-96bf1/shared/homeworks/python_ds_miniprojects/final_project/data/orders/2024-03-11/Алексей Саксофонов [] ['orders.csv', 'order_status.csv']\n",
      "/mnt/HC_Volume_18315164/home-jupyter/jupyter-alena-semechkova-p-96bf1/shared/homeworks/python_ds_miniprojects/final_project/data/orders/2024-03-11/Виктор Тромбонов [] ['orders.csv', 'order_status.csv']\n",
      "/mnt/HC_Volume_18315164/home-jupyter/jupyter-alena-semechkova-p-96bf1/shared/homeworks/python_ds_miniprojects/final_project/data/orders/2024-03-11/Маргарита Камертонова [] ['orders.csv', 'order_status.csv']\n",
      "/mnt/HC_Volume_18315164/home-jupyter/jupyter-alena-semechkova-p-96bf1/shared/homeworks/python_ds_miniprojects/final_project/data/orders/2024-03-02 ['Владимир Ударников', 'Виктор Тромбонов'] []\n",
      "/mnt/HC_Volume_18315164/home-jupyter/jupyter-alena-semechkova-p-96bf1/shared/homeworks/python_ds_miniprojects/final_project/data/orders/2024-03-02/Владимир Ударников [] ['orders.csv', 'order_status.csv']\n",
      "/mnt/HC_Volume_18315164/home-jupyter/jupyter-alena-semechkova-p-96bf1/shared/homeworks/python_ds_miniprojects/final_project/data/orders/2024-03-02/Виктор Тромбонов [] ['orders.csv', 'order_status.csv']\n",
      "/mnt/HC_Volume_18315164/home-jupyter/jupyter-alena-semechkova-p-96bf1/shared/homeworks/python_ds_miniprojects/final_project/data/orders/2024-03-31 ['Анастасия Дудкина'] []\n",
      "/mnt/HC_Volume_18315164/home-jupyter/jupyter-alena-semechkova-p-96bf1/shared/homeworks/python_ds_miniprojects/final_project/data/orders/2024-03-31/Анастасия Дудкина [] ['orders.csv', 'order_status.csv']\n",
      "/mnt/HC_Volume_18315164/home-jupyter/jupyter-alena-semechkova-p-96bf1/shared/homeworks/python_ds_miniprojects/final_project/data/orders/2024-03-30 ['Екатерина Тарелкина', 'Виктор Тромбонов'] []\n",
      "/mnt/HC_Volume_18315164/home-jupyter/jupyter-alena-semechkova-p-96bf1/shared/homeworks/python_ds_miniprojects/final_project/data/orders/2024-03-30/Екатерина Тарелкина [] ['orders.csv', 'order_status.csv']\n",
      "/mnt/HC_Volume_18315164/home-jupyter/jupyter-alena-semechkova-p-96bf1/shared/homeworks/python_ds_miniprojects/final_project/data/orders/2024-03-30/Виктор Тромбонов [] ['orders.csv', 'order_status.csv']\n",
      "/mnt/HC_Volume_18315164/home-jupyter/jupyter-alena-semechkova-p-96bf1/shared/homeworks/python_ds_miniprojects/final_project/data/orders/2024-03-24 ['Екатерина Тарелкина', 'Ксения Балалайкина'] []\n",
      "/mnt/HC_Volume_18315164/home-jupyter/jupyter-alena-semechkova-p-96bf1/shared/homeworks/python_ds_miniprojects/final_project/data/orders/2024-03-24/Екатерина Тарелкина [] ['orders.csv', 'order_status.csv']\n",
      "/mnt/HC_Volume_18315164/home-jupyter/jupyter-alena-semechkova-p-96bf1/shared/homeworks/python_ds_miniprojects/final_project/data/orders/2024-03-24/Ксения Балалайкина [] ['orders.csv', 'order_status.csv']\n",
      "/mnt/HC_Volume_18315164/home-jupyter/jupyter-alena-semechkova-p-96bf1/shared/homeworks/python_ds_miniprojects/final_project/data/orders/2024-03-26 ['Владимир Ударников', 'Екатерина Тарелкина', 'Антон Скрипкин', 'Надежда Гармошкина', 'Анастасия Дудкина', 'Алексей Саксофонов', 'Виктор Тромбонов', 'Максим Барабанов', 'Маргарита Камертонова', 'Ксения Балалайкина'] []\n",
      "/mnt/HC_Volume_18315164/home-jupyter/jupyter-alena-semechkova-p-96bf1/shared/homeworks/python_ds_miniprojects/final_project/data/orders/2024-03-26/Владимир Ударников [] ['orders.csv', 'order_status.csv']\n",
      "/mnt/HC_Volume_18315164/home-jupyter/jupyter-alena-semechkova-p-96bf1/shared/homeworks/python_ds_miniprojects/final_project/data/orders/2024-03-26/Екатерина Тарелкина [] ['orders.csv', 'order_status.csv']\n",
      "/mnt/HC_Volume_18315164/home-jupyter/jupyter-alena-semechkova-p-96bf1/shared/homeworks/python_ds_miniprojects/final_project/data/orders/2024-03-26/Антон Скрипкин [] ['orders.csv', 'order_status.csv']\n",
      "/mnt/HC_Volume_18315164/home-jupyter/jupyter-alena-semechkova-p-96bf1/shared/homeworks/python_ds_miniprojects/final_project/data/orders/2024-03-26/Надежда Гармошкина [] ['orders.csv', 'order_status.csv']\n",
      "/mnt/HC_Volume_18315164/home-jupyter/jupyter-alena-semechkova-p-96bf1/shared/homeworks/python_ds_miniprojects/final_project/data/orders/2024-03-26/Анастасия Дудкина [] ['orders.csv', 'order_status.csv']\n",
      "/mnt/HC_Volume_18315164/home-jupyter/jupyter-alena-semechkova-p-96bf1/shared/homeworks/python_ds_miniprojects/final_project/data/orders/2024-03-26/Алексей Саксофонов [] ['orders.csv', 'order_status.csv']\n",
      "/mnt/HC_Volume_18315164/home-jupyter/jupyter-alena-semechkova-p-96bf1/shared/homeworks/python_ds_miniprojects/final_project/data/orders/2024-03-26/Виктор Тромбонов [] ['orders.csv', 'order_status.csv']\n",
      "/mnt/HC_Volume_18315164/home-jupyter/jupyter-alena-semechkova-p-96bf1/shared/homeworks/python_ds_miniprojects/final_project/data/orders/2024-03-26/Максим Барабанов [] ['orders.csv', 'order_status.csv']\n",
      "/mnt/HC_Volume_18315164/home-jupyter/jupyter-alena-semechkova-p-96bf1/shared/homeworks/python_ds_miniprojects/final_project/data/orders/2024-03-26/Маргарита Камертонова [] ['orders.csv', 'order_status.csv']\n",
      "/mnt/HC_Volume_18315164/home-jupyter/jupyter-alena-semechkova-p-96bf1/shared/homeworks/python_ds_miniprojects/final_project/data/orders/2024-03-26/Ксения Балалайкина [] ['orders.csv', 'order_status.csv']\n"
     ]
    }
   ],
   "source": [
    "for path, dirs, files in os.walk(p):\n",
    "    print(path, dirs, files)"
   ]
  },
  {
   "cell_type": "code",
   "execution_count": 183,
   "id": "5d86f34d",
   "metadata": {},
   "outputs": [],
   "source": [
    "orders_df_list = []\n",
    "order_status_df_list = []\n",
    "products_df_list = []  \n",
    "\n",
    "for path, dirs, files in os.walk(p):\n",
    "    for file in files:\n",
    "        if file.endswith('orders.csv'):\n",
    "            file_path = os.path.join(path, file)\n",
    "            orders_df_list.append(file_path)\n",
    "        elif file.endswith('order_status.csv'):\n",
    "            file_path = os.path.join(path, file)\n",
    "            order_status_df_list.append(file_path)\n",
    "        elif file.endswith('products.csv'):\n",
    "            file_path = os.path.join(path, file)\n",
    "            products_df_list.append(file_path)"
   ]
  },
  {
   "cell_type": "code",
   "execution_count": 184,
   "id": "96621b8a",
   "metadata": {},
   "outputs": [
    {
     "data": {
      "text/plain": [
       "['/mnt/HC_Volume_18315164/home-jupyter/jupyter-alena-semechkova-p-96bf1/shared/homeworks/python_ds_miniprojects/final_project/data/products/AV-ресивер/products.csv',\n",
       " '/mnt/HC_Volume_18315164/home-jupyter/jupyter-alena-semechkova-p-96bf1/shared/homeworks/python_ds_miniprojects/final_project/data/products/Настенная акустика/products.csv',\n",
       " '/mnt/HC_Volume_18315164/home-jupyter/jupyter-alena-semechkova-p-96bf1/shared/homeworks/python_ds_miniprojects/final_project/data/products/Система караоке/products.csv',\n",
       " '/mnt/HC_Volume_18315164/home-jupyter/jupyter-alena-semechkova-p-96bf1/shared/homeworks/python_ds_miniprojects/final_project/data/products/Напольная акустика/products.csv',\n",
       " '/mnt/HC_Volume_18315164/home-jupyter/jupyter-alena-semechkova-p-96bf1/shared/homeworks/python_ds_miniprojects/final_project/data/products/Полочная акустика/products.csv',\n",
       " '/mnt/HC_Volume_18315164/home-jupyter/jupyter-alena-semechkova-p-96bf1/shared/homeworks/python_ds_miniprojects/final_project/data/products/Сабвуфер/products.csv',\n",
       " '/mnt/HC_Volume_18315164/home-jupyter/jupyter-alena-semechkova-p-96bf1/shared/homeworks/python_ds_miniprojects/final_project/data/products/Саундбар/products.csv',\n",
       " '/mnt/HC_Volume_18315164/home-jupyter/jupyter-alena-semechkova-p-96bf1/shared/homeworks/python_ds_miniprojects/final_project/data/products/Активные колонки/products.csv',\n",
       " '/mnt/HC_Volume_18315164/home-jupyter/jupyter-alena-semechkova-p-96bf1/shared/homeworks/python_ds_miniprojects/final_project/data/products/Беспроводная акустика/products.csv',\n",
       " '/mnt/HC_Volume_18315164/home-jupyter/jupyter-alena-semechkova-p-96bf1/shared/homeworks/python_ds_miniprojects/final_project/data/products/Конденсаторный микрофон/products.csv',\n",
       " '/mnt/HC_Volume_18315164/home-jupyter/jupyter-alena-semechkova-p-96bf1/shared/homeworks/python_ds_miniprojects/final_project/data/products/Центральный канал/products.csv',\n",
       " '/mnt/HC_Volume_18315164/home-jupyter/jupyter-alena-semechkova-p-96bf1/shared/homeworks/python_ds_miniprojects/final_project/data/products/Динамический микрофон/products.csv',\n",
       " '/mnt/HC_Volume_18315164/home-jupyter/jupyter-alena-semechkova-p-96bf1/shared/homeworks/python_ds_miniprojects/final_project/data/products/AV-процессор/products.csv',\n",
       " '/mnt/HC_Volume_18315164/home-jupyter/jupyter-alena-semechkova-p-96bf1/shared/homeworks/python_ds_miniprojects/final_project/data/products/Предусилитель/products.csv',\n",
       " '/mnt/HC_Volume_18315164/home-jupyter/jupyter-alena-semechkova-p-96bf1/shared/homeworks/python_ds_miniprojects/final_project/data/products/Интегральный усилитель/products.csv',\n",
       " '/mnt/HC_Volume_18315164/home-jupyter/jupyter-alena-semechkova-p-96bf1/shared/homeworks/python_ds_miniprojects/final_project/data/products/Виниловый проигрыватель/products.csv',\n",
       " '/mnt/HC_Volume_18315164/home-jupyter/jupyter-alena-semechkova-p-96bf1/shared/homeworks/python_ds_miniprojects/final_project/data/products/Комплекты акустики/products.csv',\n",
       " '/mnt/HC_Volume_18315164/home-jupyter/jupyter-alena-semechkova-p-96bf1/shared/homeworks/python_ds_miniprojects/final_project/data/products/Наушники с микрофоном/products.csv',\n",
       " '/mnt/HC_Volume_18315164/home-jupyter/jupyter-alena-semechkova-p-96bf1/shared/homeworks/python_ds_miniprojects/final_project/data/products/Умная колонка/products.csv',\n",
       " '/mnt/HC_Volume_18315164/home-jupyter/jupyter-alena-semechkova-p-96bf1/shared/homeworks/python_ds_miniprojects/final_project/data/products/Домашний кинотеатр/products.csv',\n",
       " '/mnt/HC_Volume_18315164/home-jupyter/jupyter-alena-semechkova-p-96bf1/shared/homeworks/python_ds_miniprojects/final_project/data/products/Ламповый усилитель/products.csv',\n",
       " '/mnt/HC_Volume_18315164/home-jupyter/jupyter-alena-semechkova-p-96bf1/shared/homeworks/python_ds_miniprojects/final_project/data/products/Музыкальный центр/products.csv',\n",
       " '/mnt/HC_Volume_18315164/home-jupyter/jupyter-alena-semechkova-p-96bf1/shared/homeworks/python_ds_miniprojects/final_project/data/products/Портативная акустика/products.csv',\n",
       " '/mnt/HC_Volume_18315164/home-jupyter/jupyter-alena-semechkova-p-96bf1/shared/homeworks/python_ds_miniprojects/final_project/data/products/Проводные наушники/products.csv',\n",
       " '/mnt/HC_Volume_18315164/home-jupyter/jupyter-alena-semechkova-p-96bf1/shared/homeworks/python_ds_miniprojects/final_project/data/products/Усилитель мощности/products.csv',\n",
       " '/mnt/HC_Volume_18315164/home-jupyter/jupyter-alena-semechkova-p-96bf1/shared/homeworks/python_ds_miniprojects/final_project/data/products/Беспроводные наушники/products.csv']"
      ]
     },
     "execution_count": 184,
     "metadata": {},
     "output_type": "execute_result"
    }
   ],
   "source": [
    "products_df_list"
   ]
  },
  {
   "cell_type": "code",
   "execution_count": 185,
   "id": "ba763c2a",
   "metadata": {},
   "outputs": [],
   "source": [
    "df_orders = pd.DataFrame()\n",
    "df_order_status = pd.DataFrame()\n",
    "df_products = pd.DataFrame() "
   ]
  },
  {
   "cell_type": "code",
   "execution_count": 186,
   "id": "af4871bd",
   "metadata": {},
   "outputs": [],
   "source": [
    "for i in orders_df_list:\n",
    "    data = pd.read_csv(i)\n",
    "    data['manager'] = i.split('/')[-2]\n",
    "    data['date'] = i.split('/')[-3]\n",
    "    df_orders = pd.concat([df_orders, data], ignore_index=True)"
   ]
  },
  {
   "cell_type": "code",
   "execution_count": 187,
   "id": "c22c4681",
   "metadata": {},
   "outputs": [
    {
     "data": {
      "text/html": [
       "<div>\n",
       "<style scoped>\n",
       "    .dataframe tbody tr th:only-of-type {\n",
       "        vertical-align: middle;\n",
       "    }\n",
       "\n",
       "    .dataframe tbody tr th {\n",
       "        vertical-align: top;\n",
       "    }\n",
       "\n",
       "    .dataframe thead th {\n",
       "        text-align: right;\n",
       "    }\n",
       "</style>\n",
       "<table border=\"1\" class=\"dataframe\">\n",
       "  <thead>\n",
       "    <tr style=\"text-align: right;\">\n",
       "      <th></th>\n",
       "      <th>order_id</th>\n",
       "      <th>product_id</th>\n",
       "      <th>quantity</th>\n",
       "      <th>manager</th>\n",
       "      <th>date</th>\n",
       "    </tr>\n",
       "  </thead>\n",
       "  <tbody>\n",
       "    <tr>\n",
       "      <th>0</th>\n",
       "      <td>QPLK-54839036</td>\n",
       "      <td>489</td>\n",
       "      <td>11</td>\n",
       "      <td>Владимир Ударников</td>\n",
       "      <td>2024-03-10</td>\n",
       "    </tr>\n",
       "    <tr>\n",
       "      <th>1</th>\n",
       "      <td>QPLK-54839036</td>\n",
       "      <td>594</td>\n",
       "      <td>6</td>\n",
       "      <td>Владимир Ударников</td>\n",
       "      <td>2024-03-10</td>\n",
       "    </tr>\n",
       "    <tr>\n",
       "      <th>2</th>\n",
       "      <td>QPLK-54839036</td>\n",
       "      <td>670</td>\n",
       "      <td>16</td>\n",
       "      <td>Владимир Ударников</td>\n",
       "      <td>2024-03-10</td>\n",
       "    </tr>\n",
       "    <tr>\n",
       "      <th>3</th>\n",
       "      <td>QPLK-54839036</td>\n",
       "      <td>469</td>\n",
       "      <td>9</td>\n",
       "      <td>Владимир Ударников</td>\n",
       "      <td>2024-03-10</td>\n",
       "    </tr>\n",
       "    <tr>\n",
       "      <th>4</th>\n",
       "      <td>QPLK-54839036</td>\n",
       "      <td>1302</td>\n",
       "      <td>5</td>\n",
       "      <td>Владимир Ударников</td>\n",
       "      <td>2024-03-10</td>\n",
       "    </tr>\n",
       "  </tbody>\n",
       "</table>\n",
       "</div>"
      ],
      "text/plain": [
       "        order_id  product_id  quantity             manager        date\n",
       "0  QPLK-54839036         489        11  Владимир Ударников  2024-03-10\n",
       "1  QPLK-54839036         594         6  Владимир Ударников  2024-03-10\n",
       "2  QPLK-54839036         670        16  Владимир Ударников  2024-03-10\n",
       "3  QPLK-54839036         469         9  Владимир Ударников  2024-03-10\n",
       "4  QPLK-54839036        1302         5  Владимир Ударников  2024-03-10"
      ]
     },
     "execution_count": 187,
     "metadata": {},
     "output_type": "execute_result"
    }
   ],
   "source": [
    "df_orders.head()"
   ]
  },
  {
   "cell_type": "code",
   "execution_count": 188,
   "id": "c6f663cb",
   "metadata": {},
   "outputs": [],
   "source": [
    "for i in order_status_df_list:\n",
    "    data = pd.read_csv(i)\n",
    "    df_order_status = pd.concat([df_order_status, data], ignore_index=True)"
   ]
  },
  {
   "cell_type": "code",
   "execution_count": 189,
   "id": "025b07d2",
   "metadata": {},
   "outputs": [
    {
     "data": {
      "text/html": [
       "<div>\n",
       "<style scoped>\n",
       "    .dataframe tbody tr th:only-of-type {\n",
       "        vertical-align: middle;\n",
       "    }\n",
       "\n",
       "    .dataframe tbody tr th {\n",
       "        vertical-align: top;\n",
       "    }\n",
       "\n",
       "    .dataframe thead th {\n",
       "        text-align: right;\n",
       "    }\n",
       "</style>\n",
       "<table border=\"1\" class=\"dataframe\">\n",
       "  <thead>\n",
       "    <tr style=\"text-align: right;\">\n",
       "      <th></th>\n",
       "      <th>order_id</th>\n",
       "      <th>client_id</th>\n",
       "      <th>status</th>\n",
       "    </tr>\n",
       "  </thead>\n",
       "  <tbody>\n",
       "    <tr>\n",
       "      <th>0</th>\n",
       "      <td>QPLK-54839036</td>\n",
       "      <td>52</td>\n",
       "      <td>confirmed</td>\n",
       "    </tr>\n",
       "    <tr>\n",
       "      <th>1</th>\n",
       "      <td>MAQJ-95867467</td>\n",
       "      <td>84</td>\n",
       "      <td>canceled</td>\n",
       "    </tr>\n",
       "    <tr>\n",
       "      <th>2</th>\n",
       "      <td>KHLF-51759445</td>\n",
       "      <td>23</td>\n",
       "      <td>confirmed</td>\n",
       "    </tr>\n",
       "    <tr>\n",
       "      <th>3</th>\n",
       "      <td>DALF-47566548</td>\n",
       "      <td>97</td>\n",
       "      <td>confirmed</td>\n",
       "    </tr>\n",
       "    <tr>\n",
       "      <th>4</th>\n",
       "      <td>BZHU-92977894</td>\n",
       "      <td>29</td>\n",
       "      <td>canceled</td>\n",
       "    </tr>\n",
       "  </tbody>\n",
       "</table>\n",
       "</div>"
      ],
      "text/plain": [
       "        order_id  client_id     status\n",
       "0  QPLK-54839036         52  confirmed\n",
       "1  MAQJ-95867467         84   canceled\n",
       "2  KHLF-51759445         23  confirmed\n",
       "3  DALF-47566548         97  confirmed\n",
       "4  BZHU-92977894         29   canceled"
      ]
     },
     "execution_count": 189,
     "metadata": {},
     "output_type": "execute_result"
    }
   ],
   "source": [
    "df_order_status.head()"
   ]
  },
  {
   "cell_type": "code",
   "execution_count": 190,
   "id": "80b582af",
   "metadata": {},
   "outputs": [],
   "source": [
    "for i in products_df_list:\n",
    "    data = pd.read_csv(i)\n",
    "    data['category'] = i.split('/')[-2]\n",
    "    df_products = pd.concat([df_products, data], ignore_index=True)"
   ]
  },
  {
   "cell_type": "code",
   "execution_count": 191,
   "id": "f27ba3d6",
   "metadata": {},
   "outputs": [
    {
     "data": {
      "text/html": [
       "<div>\n",
       "<style scoped>\n",
       "    .dataframe tbody tr th:only-of-type {\n",
       "        vertical-align: middle;\n",
       "    }\n",
       "\n",
       "    .dataframe tbody tr th {\n",
       "        vertical-align: top;\n",
       "    }\n",
       "\n",
       "    .dataframe thead th {\n",
       "        text-align: right;\n",
       "    }\n",
       "</style>\n",
       "<table border=\"1\" class=\"dataframe\">\n",
       "  <thead>\n",
       "    <tr style=\"text-align: right;\">\n",
       "      <th></th>\n",
       "      <th>id</th>\n",
       "      <th>name</th>\n",
       "      <th>price</th>\n",
       "      <th>category</th>\n",
       "    </tr>\n",
       "  </thead>\n",
       "  <tbody>\n",
       "    <tr>\n",
       "      <th>0</th>\n",
       "      <td>207</td>\n",
       "      <td>Denon, AVR-S540BT</td>\n",
       "      <td>243.52</td>\n",
       "      <td>AV-ресивер</td>\n",
       "    </tr>\n",
       "    <tr>\n",
       "      <th>1</th>\n",
       "      <td>208</td>\n",
       "      <td>Denon, AVR-X3700H</td>\n",
       "      <td>1305.52</td>\n",
       "      <td>AV-ресивер</td>\n",
       "    </tr>\n",
       "    <tr>\n",
       "      <th>2</th>\n",
       "      <td>209</td>\n",
       "      <td>Denon, AVR-X4700H</td>\n",
       "      <td>1620.21</td>\n",
       "      <td>AV-ресивер</td>\n",
       "    </tr>\n",
       "    <tr>\n",
       "      <th>3</th>\n",
       "      <td>210</td>\n",
       "      <td>Denon, AVR-X6700H</td>\n",
       "      <td>2050.31</td>\n",
       "      <td>AV-ресивер</td>\n",
       "    </tr>\n",
       "    <tr>\n",
       "      <th>4</th>\n",
       "      <td>211</td>\n",
       "      <td>Denon, AVC-X4700H</td>\n",
       "      <td>1496.81</td>\n",
       "      <td>AV-ресивер</td>\n",
       "    </tr>\n",
       "  </tbody>\n",
       "</table>\n",
       "</div>"
      ],
      "text/plain": [
       "    id               name    price    category\n",
       "0  207  Denon, AVR-S540BT   243.52  AV-ресивер\n",
       "1  208  Denon, AVR-X3700H  1305.52  AV-ресивер\n",
       "2  209  Denon, AVR-X4700H  1620.21  AV-ресивер\n",
       "3  210  Denon, AVR-X6700H  2050.31  AV-ресивер\n",
       "4  211  Denon, AVC-X4700H  1496.81  AV-ресивер"
      ]
     },
     "execution_count": 191,
     "metadata": {},
     "output_type": "execute_result"
    }
   ],
   "source": [
    "df_products.head()"
   ]
  },
  {
   "cell_type": "code",
   "execution_count": 192,
   "id": "b5209a3f",
   "metadata": {},
   "outputs": [],
   "source": [
    "df_orders.to_csv('/mnt/HC_Volume_18315164/home-jupyter/jupyter-alena-semechkova-p-96bf1/lesson_9/df_orders.csv', index=False)"
   ]
  },
  {
   "cell_type": "code",
   "execution_count": 193,
   "id": "89d2514e",
   "metadata": {},
   "outputs": [],
   "source": [
    "df_order_status.to_csv('/mnt/HC_Volume_18315164/home-jupyter/jupyter-alena-semechkova-p-96bf1/lesson_9/df_order_status.csv', index=False)"
   ]
  },
  {
   "cell_type": "code",
   "execution_count": 194,
   "id": "84d1568a",
   "metadata": {},
   "outputs": [],
   "source": [
    "df_products.to_csv('/mnt/HC_Volume_18315164/home-jupyter/jupyter-alena-semechkova-p-96bf1/lesson_9/df_products.csv', index=False)"
   ]
  },
  {
   "cell_type": "markdown",
   "id": "2cdb99a3",
   "metadata": {},
   "source": [
    "## 2.1 Посмотрим на общую динамику заказов \n",
    "**и определим есть ли дни, которые выбиваются из общей картины**"
   ]
  },
  {
   "cell_type": "code",
   "execution_count": 195,
   "id": "8880dce3",
   "metadata": {},
   "outputs": [],
   "source": [
    "order_by_day = df_orders.groupby('date').agg({'order_id': 'count'}).sort_values('order_id', ascending = False)\\\n",
    "    .reset_index()\\\n",
    "    .astype({'date': 'datetime64'})"
   ]
  },
  {
   "cell_type": "code",
   "execution_count": 196,
   "id": "1deb3105",
   "metadata": {},
   "outputs": [],
   "source": [
    "order_by_day['day_name'] = order_by_day.date.dt.day_name()"
   ]
  },
  {
   "cell_type": "code",
   "execution_count": 197,
   "id": "7eced34b",
   "metadata": {},
   "outputs": [],
   "source": [
    "order_by_day = order_by_day.sort_values('day_name') \n",
    "## Сортируем по дням недели, чтобы на графике была заметна зависимость от дня недели"
   ]
  },
  {
   "cell_type": "code",
   "execution_count": 198,
   "id": "237d3181",
   "metadata": {},
   "outputs": [
    {
     "data": {
      "text/html": [
       "<div>\n",
       "<style scoped>\n",
       "    .dataframe tbody tr th:only-of-type {\n",
       "        vertical-align: middle;\n",
       "    }\n",
       "\n",
       "    .dataframe tbody tr th {\n",
       "        vertical-align: top;\n",
       "    }\n",
       "\n",
       "    .dataframe thead th {\n",
       "        text-align: right;\n",
       "    }\n",
       "</style>\n",
       "<table border=\"1\" class=\"dataframe\">\n",
       "  <thead>\n",
       "    <tr style=\"text-align: right;\">\n",
       "      <th></th>\n",
       "      <th>date</th>\n",
       "      <th>order_id</th>\n",
       "      <th>day_name</th>\n",
       "    </tr>\n",
       "  </thead>\n",
       "  <tbody>\n",
       "    <tr>\n",
       "      <th>30</th>\n",
       "      <td>2024-03-08</td>\n",
       "      <td>5</td>\n",
       "      <td>Friday</td>\n",
       "    </tr>\n",
       "    <tr>\n",
       "      <th>2</th>\n",
       "      <td>2024-03-01</td>\n",
       "      <td>302</td>\n",
       "      <td>Friday</td>\n",
       "    </tr>\n",
       "    <tr>\n",
       "      <th>3</th>\n",
       "      <td>2024-03-29</td>\n",
       "      <td>241</td>\n",
       "      <td>Friday</td>\n",
       "    </tr>\n",
       "    <tr>\n",
       "      <th>5</th>\n",
       "      <td>2024-03-15</td>\n",
       "      <td>225</td>\n",
       "      <td>Friday</td>\n",
       "    </tr>\n",
       "    <tr>\n",
       "      <th>12</th>\n",
       "      <td>2024-03-22</td>\n",
       "      <td>191</td>\n",
       "      <td>Friday</td>\n",
       "    </tr>\n",
       "  </tbody>\n",
       "</table>\n",
       "</div>"
      ],
      "text/plain": [
       "         date  order_id day_name\n",
       "30 2024-03-08         5   Friday\n",
       "2  2024-03-01       302   Friday\n",
       "3  2024-03-29       241   Friday\n",
       "5  2024-03-15       225   Friday\n",
       "12 2024-03-22       191   Friday"
      ]
     },
     "execution_count": 198,
     "metadata": {},
     "output_type": "execute_result"
    }
   ],
   "source": [
    "order_by_day.head()"
   ]
  },
  {
   "cell_type": "code",
   "execution_count": 199,
   "id": "6fb559d7",
   "metadata": {},
   "outputs": [
    {
     "data": {
      "text/plain": [
       "<matplotlib.axes._subplots.AxesSubplot at 0x7f26937f4b00>"
      ]
     },
     "execution_count": 199,
     "metadata": {},
     "output_type": "execute_result"
    },
    {
     "data": {
      "image/png": "[encoded data removed]",
      "text/plain": [
       "<Figure size 576x432 with 1 Axes>"
      ]
     },
     "metadata": {
      "needs_background": "light"
     },
     "output_type": "display_data"
    }
   ],
   "source": [
    "order_by_day.plot.bar(figsize=(8, 6),\n",
    "                      x= 'date', \n",
    "                      xlabel='date'\n",
    "                     )"
   ]
  },
  {
   "cell_type": "markdown",
   "id": "8433ff3c",
   "metadata": {},
   "source": [
    "### Результаты:\n",
    "1. День с наибольшим количеством заказов: **2024-03-14** \n",
    "2. Также заметен день, который выбивается из общей картины: **2024-03-08**. Это будний день с очень маленьким количеством заказов, думаю, это можно объяснить тем, что 03.08 - это праздничный день, поэтому не будем его учитывать в анализе зависимости заказов от дня недели "
   ]
  },
  {
   "cell_type": "markdown",
   "id": "401ab61e",
   "metadata": {},
   "source": [
    "## 2.2 Построим график с количеством заказов по дням \n",
    "**и определим, заметна ли в данных сезонность**"
   ]
  },
  {
   "cell_type": "code",
   "execution_count": 200,
   "id": "480c9d79",
   "metadata": {},
   "outputs": [],
   "source": [
    "import seaborn as sns \n",
    "import matplotlib.pyplot as plt"
   ]
  },
  {
   "cell_type": "code",
   "execution_count": 201,
   "id": "fd4f7aee",
   "metadata": {},
   "outputs": [
    {
     "data": {
      "text/plain": [
       "[Text(0, 0, 'Маргарита Камертонова'),\n",
       " Text(1, 0, 'Виктор Тромбонов'),\n",
       " Text(2, 0, 'Максим Барабанов'),\n",
       " Text(3, 0, 'Владимир Ударников'),\n",
       " Text(4, 0, 'Алексей Саксофонов'),\n",
       " Text(5, 0, 'Ксения Балалайкина'),\n",
       " Text(6, 0, 'Екатерина Тарелкина'),\n",
       " Text(7, 0, 'Надежда Гармошкина'),\n",
       " Text(8, 0, 'Анастасия Дудкина'),\n",
       " Text(9, 0, 'Антон Скрипкин'),\n",
       " Text(10, 0, 'Аркадий Октавин'),\n",
       " Text(11, 0, 'Сергей Контрабасов')]"
      ]
     },
     "execution_count": 201,
     "metadata": {},
     "output_type": "execute_result"
    }
   ],
   "source": [
    "ax.set_xticklabels(ax.get_xticklabels(), rotation=45, ha='right')"
   ]
  },
  {
   "cell_type": "code",
   "execution_count": 202,
   "id": "e9aeeb3c",
   "metadata": {},
   "outputs": [
    {
     "data": {
      "text/plain": [
       "[Text(0, 0, 'Friday'),\n",
       " Text(0, 0, 'Monday'),\n",
       " Text(0, 0, 'Saturday'),\n",
       " Text(0, 0, 'Sunday'),\n",
       " Text(0, 0, 'Thursday'),\n",
       " Text(0, 0, 'Tuesday'),\n",
       " Text(0, 0, 'Wednesday')]"
      ]
     },
     "execution_count": 202,
     "metadata": {},
     "output_type": "execute_result"
    },
    {
     "data": {
      "image/png": "[encoded data removed]",
      "text/plain": [
       "<Figure size 1080x576 with 1 Axes>"
      ]
     },
     "metadata": {
      "needs_background": "light"
     },
     "output_type": "display_data"
    }
   ],
   "source": [
    "fig, ax = plt.subplots(figsize=(15, 8))\n",
    "ax = sns.barplot(data = order_by_day, x = 'day_name', y = 'order_id') \n",
    "ax.set_xticklabels(ax.get_xticklabels(), rotation=45, ha='right')"
   ]
  },
  {
   "cell_type": "markdown",
   "id": "f8f0a057",
   "metadata": {},
   "source": [
    "### Можем заметить зависимость количества заказов от дня недели: в выходные дни заказов меньше, чем в будни"
   ]
  },
  {
   "cell_type": "markdown",
   "id": "e719addd",
   "metadata": {},
   "source": [
    "## 2.3 Проанализируем причины всплеска 2024-03-14"
   ]
  },
  {
   "cell_type": "markdown",
   "id": "c361c482",
   "metadata": {},
   "source": [
    "Добавим к данным информацию о статусах заказов и посмотрим на соотношение отмененных и подтвержденных заказов, особенно в интересующий нас день 2024-03-14."
   ]
  },
  {
   "cell_type": "code",
   "execution_count": 203,
   "id": "a56df93d",
   "metadata": {},
   "outputs": [],
   "source": [
    "orders_status = df_orders.merge(df_order_status, how='inner', on='order_id')\n",
    "\n"
   ]
  },
  {
   "cell_type": "code",
   "execution_count": 204,
   "id": "fa74d83a",
   "metadata": {},
   "outputs": [],
   "source": [
    "orders_status.to_csv('/mnt/HC_Volume_18315164/home-jupyter/jupyter-alena-semechkova-p-96bf1/lesson_9/orders_status.csv', index=False)"
   ]
  },
  {
   "cell_type": "markdown",
   "id": "4c8e5320",
   "metadata": {},
   "source": [
    "### Посчитаем долю подтвержденных и отмененных заказов за все наблюдения:"
   ]
  },
  {
   "cell_type": "code",
   "execution_count": 205,
   "id": "bedd51eb",
   "metadata": {},
   "outputs": [],
   "source": [
    "status = orders_status.groupby('status').agg({'order_id': 'count'}) \n"
   ]
  },
  {
   "cell_type": "code",
   "execution_count": 206,
   "id": "f6f9a596",
   "metadata": {},
   "outputs": [
    {
     "data": {
      "text/html": [
       "<div>\n",
       "<style scoped>\n",
       "    .dataframe tbody tr th:only-of-type {\n",
       "        vertical-align: middle;\n",
       "    }\n",
       "\n",
       "    .dataframe tbody tr th {\n",
       "        vertical-align: top;\n",
       "    }\n",
       "\n",
       "    .dataframe thead th {\n",
       "        text-align: right;\n",
       "    }\n",
       "</style>\n",
       "<table border=\"1\" class=\"dataframe\">\n",
       "  <thead>\n",
       "    <tr style=\"text-align: right;\">\n",
       "      <th></th>\n",
       "      <th>order_id</th>\n",
       "    </tr>\n",
       "    <tr>\n",
       "      <th>status</th>\n",
       "      <th></th>\n",
       "    </tr>\n",
       "  </thead>\n",
       "  <tbody>\n",
       "    <tr>\n",
       "      <th>canceled</th>\n",
       "      <td>520</td>\n",
       "    </tr>\n",
       "    <tr>\n",
       "      <th>confirmed</th>\n",
       "      <td>4083</td>\n",
       "    </tr>\n",
       "  </tbody>\n",
       "</table>\n",
       "</div>"
      ],
      "text/plain": [
       "           order_id\n",
       "status             \n",
       "canceled        520\n",
       "confirmed      4083"
      ]
     },
     "execution_count": 206,
     "metadata": {},
     "output_type": "execute_result"
    }
   ],
   "source": [
    "status"
   ]
  },
  {
   "cell_type": "code",
   "execution_count": 207,
   "id": "f24d6a0f",
   "metadata": {},
   "outputs": [
    {
     "name": "stdout",
     "output_type": "stream",
     "text": [
      "Все заказы - 4603\n"
     ]
    }
   ],
   "source": [
    "all = status.order_id.sum()\n",
    "print(f\"Все заказы - {all}\")"
   ]
  },
  {
   "cell_type": "code",
   "execution_count": 208,
   "id": "2b6418a3",
   "metadata": {},
   "outputs": [],
   "source": [
    "status['part'] = (status.order_id / all).round(2)"
   ]
  },
  {
   "cell_type": "code",
   "execution_count": 209,
   "id": "a3c2383f",
   "metadata": {},
   "outputs": [
    {
     "data": {
      "text/html": [
       "<div>\n",
       "<style scoped>\n",
       "    .dataframe tbody tr th:only-of-type {\n",
       "        vertical-align: middle;\n",
       "    }\n",
       "\n",
       "    .dataframe tbody tr th {\n",
       "        vertical-align: top;\n",
       "    }\n",
       "\n",
       "    .dataframe thead th {\n",
       "        text-align: right;\n",
       "    }\n",
       "</style>\n",
       "<table border=\"1\" class=\"dataframe\">\n",
       "  <thead>\n",
       "    <tr style=\"text-align: right;\">\n",
       "      <th></th>\n",
       "      <th>order_id</th>\n",
       "      <th>part</th>\n",
       "    </tr>\n",
       "    <tr>\n",
       "      <th>status</th>\n",
       "      <th></th>\n",
       "      <th></th>\n",
       "    </tr>\n",
       "  </thead>\n",
       "  <tbody>\n",
       "    <tr>\n",
       "      <th>canceled</th>\n",
       "      <td>520</td>\n",
       "      <td>0.11</td>\n",
       "    </tr>\n",
       "    <tr>\n",
       "      <th>confirmed</th>\n",
       "      <td>4083</td>\n",
       "      <td>0.89</td>\n",
       "    </tr>\n",
       "  </tbody>\n",
       "</table>\n",
       "</div>"
      ],
      "text/plain": [
       "           order_id  part\n",
       "status                   \n",
       "canceled        520  0.11\n",
       "confirmed      4083  0.89"
      ]
     },
     "execution_count": 209,
     "metadata": {},
     "output_type": "execute_result"
    }
   ],
   "source": [
    "status"
   ]
  },
  {
   "cell_type": "markdown",
   "id": "4d62663c",
   "metadata": {},
   "source": [
    "### Теперь посчитаем для каждой даты отдельно:"
   ]
  },
  {
   "cell_type": "markdown",
   "id": "95760037",
   "metadata": {},
   "source": [
    "**Посчитайте количество подтвержденных и отмененных заказов на каждую дату.** Определите, в какой день не было ни одного подтвержденного заказа. Для этого сделайте сводную таблицу, где в строках будут даты, в колонках — стутасы заказов, а значения — число заказов с этим статусом в определенную дату. Пропуски заполните нулями.  \n",
    "\n",
    "**В ответ укажите день, когда не было ни одного подтвержденного заказа.** Дату укажите в том формате, в котором она представлена в данных (гггг-мм-дд)."
   ]
  },
  {
   "cell_type": "code",
   "execution_count": 210,
   "id": "eb0bd329",
   "metadata": {},
   "outputs": [],
   "source": [
    "orders_status = orders_status.groupby(['date', 'status']).agg({'order_id': 'count'}, as_idex=False).reset_index()"
   ]
  },
  {
   "cell_type": "code",
   "execution_count": 211,
   "id": "6a415918",
   "metadata": {},
   "outputs": [],
   "source": [
    "orders_status = orders_status.rename(columns = {'order_id': 'orders_count'}) "
   ]
  },
  {
   "cell_type": "code",
   "execution_count": 212,
   "id": "d4043376",
   "metadata": {},
   "outputs": [
    {
     "data": {
      "text/html": [
       "<div>\n",
       "<style scoped>\n",
       "    .dataframe tbody tr th:only-of-type {\n",
       "        vertical-align: middle;\n",
       "    }\n",
       "\n",
       "    .dataframe tbody tr th {\n",
       "        vertical-align: top;\n",
       "    }\n",
       "\n",
       "    .dataframe thead th {\n",
       "        text-align: right;\n",
       "    }\n",
       "</style>\n",
       "<table border=\"1\" class=\"dataframe\">\n",
       "  <thead>\n",
       "    <tr style=\"text-align: right;\">\n",
       "      <th></th>\n",
       "      <th>date</th>\n",
       "      <th>status</th>\n",
       "      <th>orders_count</th>\n",
       "    </tr>\n",
       "  </thead>\n",
       "  <tbody>\n",
       "    <tr>\n",
       "      <th>0</th>\n",
       "      <td>2024-03-01</td>\n",
       "      <td>canceled</td>\n",
       "      <td>29</td>\n",
       "    </tr>\n",
       "    <tr>\n",
       "      <th>1</th>\n",
       "      <td>2024-03-01</td>\n",
       "      <td>confirmed</td>\n",
       "      <td>273</td>\n",
       "    </tr>\n",
       "    <tr>\n",
       "      <th>2</th>\n",
       "      <td>2024-03-02</td>\n",
       "      <td>confirmed</td>\n",
       "      <td>30</td>\n",
       "    </tr>\n",
       "    <tr>\n",
       "      <th>3</th>\n",
       "      <td>2024-03-03</td>\n",
       "      <td>confirmed</td>\n",
       "      <td>8</td>\n",
       "    </tr>\n",
       "    <tr>\n",
       "      <th>4</th>\n",
       "      <td>2024-03-04</td>\n",
       "      <td>confirmed</td>\n",
       "      <td>143</td>\n",
       "    </tr>\n",
       "    <tr>\n",
       "      <th>5</th>\n",
       "      <td>2024-03-05</td>\n",
       "      <td>confirmed</td>\n",
       "      <td>222</td>\n",
       "    </tr>\n",
       "    <tr>\n",
       "      <th>6</th>\n",
       "      <td>2024-03-06</td>\n",
       "      <td>canceled</td>\n",
       "      <td>12</td>\n",
       "    </tr>\n",
       "    <tr>\n",
       "      <th>7</th>\n",
       "      <td>2024-03-06</td>\n",
       "      <td>confirmed</td>\n",
       "      <td>209</td>\n",
       "    </tr>\n",
       "    <tr>\n",
       "      <th>8</th>\n",
       "      <td>2024-03-07</td>\n",
       "      <td>canceled</td>\n",
       "      <td>5</td>\n",
       "    </tr>\n",
       "    <tr>\n",
       "      <th>9</th>\n",
       "      <td>2024-03-07</td>\n",
       "      <td>confirmed</td>\n",
       "      <td>196</td>\n",
       "    </tr>\n",
       "    <tr>\n",
       "      <th>10</th>\n",
       "      <td>2024-03-08</td>\n",
       "      <td>confirmed</td>\n",
       "      <td>5</td>\n",
       "    </tr>\n",
       "    <tr>\n",
       "      <th>11</th>\n",
       "      <td>2024-03-09</td>\n",
       "      <td>canceled</td>\n",
       "      <td>18</td>\n",
       "    </tr>\n",
       "    <tr>\n",
       "      <th>12</th>\n",
       "      <td>2024-03-10</td>\n",
       "      <td>canceled</td>\n",
       "      <td>12</td>\n",
       "    </tr>\n",
       "    <tr>\n",
       "      <th>13</th>\n",
       "      <td>2024-03-10</td>\n",
       "      <td>confirmed</td>\n",
       "      <td>23</td>\n",
       "    </tr>\n",
       "    <tr>\n",
       "      <th>14</th>\n",
       "      <td>2024-03-11</td>\n",
       "      <td>canceled</td>\n",
       "      <td>17</td>\n",
       "    </tr>\n",
       "    <tr>\n",
       "      <th>15</th>\n",
       "      <td>2024-03-11</td>\n",
       "      <td>confirmed</td>\n",
       "      <td>168</td>\n",
       "    </tr>\n",
       "    <tr>\n",
       "      <th>16</th>\n",
       "      <td>2024-03-12</td>\n",
       "      <td>canceled</td>\n",
       "      <td>31</td>\n",
       "    </tr>\n",
       "    <tr>\n",
       "      <th>17</th>\n",
       "      <td>2024-03-12</td>\n",
       "      <td>confirmed</td>\n",
       "      <td>172</td>\n",
       "    </tr>\n",
       "    <tr>\n",
       "      <th>18</th>\n",
       "      <td>2024-03-13</td>\n",
       "      <td>canceled</td>\n",
       "      <td>263</td>\n",
       "    </tr>\n",
       "    <tr>\n",
       "      <th>19</th>\n",
       "      <td>2024-03-13</td>\n",
       "      <td>confirmed</td>\n",
       "      <td>76</td>\n",
       "    </tr>\n",
       "    <tr>\n",
       "      <th>20</th>\n",
       "      <td>2024-03-14</td>\n",
       "      <td>confirmed</td>\n",
       "      <td>437</td>\n",
       "    </tr>\n",
       "    <tr>\n",
       "      <th>21</th>\n",
       "      <td>2024-03-15</td>\n",
       "      <td>canceled</td>\n",
       "      <td>16</td>\n",
       "    </tr>\n",
       "    <tr>\n",
       "      <th>22</th>\n",
       "      <td>2024-03-15</td>\n",
       "      <td>confirmed</td>\n",
       "      <td>209</td>\n",
       "    </tr>\n",
       "    <tr>\n",
       "      <th>23</th>\n",
       "      <td>2024-03-16</td>\n",
       "      <td>confirmed</td>\n",
       "      <td>26</td>\n",
       "    </tr>\n",
       "    <tr>\n",
       "      <th>24</th>\n",
       "      <td>2024-03-17</td>\n",
       "      <td>confirmed</td>\n",
       "      <td>43</td>\n",
       "    </tr>\n",
       "    <tr>\n",
       "      <th>25</th>\n",
       "      <td>2024-03-18</td>\n",
       "      <td>confirmed</td>\n",
       "      <td>159</td>\n",
       "    </tr>\n",
       "    <tr>\n",
       "      <th>26</th>\n",
       "      <td>2024-03-19</td>\n",
       "      <td>canceled</td>\n",
       "      <td>22</td>\n",
       "    </tr>\n",
       "    <tr>\n",
       "      <th>27</th>\n",
       "      <td>2024-03-19</td>\n",
       "      <td>confirmed</td>\n",
       "      <td>150</td>\n",
       "    </tr>\n",
       "    <tr>\n",
       "      <th>28</th>\n",
       "      <td>2024-03-20</td>\n",
       "      <td>canceled</td>\n",
       "      <td>37</td>\n",
       "    </tr>\n",
       "    <tr>\n",
       "      <th>29</th>\n",
       "      <td>2024-03-20</td>\n",
       "      <td>confirmed</td>\n",
       "      <td>185</td>\n",
       "    </tr>\n",
       "    <tr>\n",
       "      <th>30</th>\n",
       "      <td>2024-03-21</td>\n",
       "      <td>canceled</td>\n",
       "      <td>31</td>\n",
       "    </tr>\n",
       "    <tr>\n",
       "      <th>31</th>\n",
       "      <td>2024-03-21</td>\n",
       "      <td>confirmed</td>\n",
       "      <td>121</td>\n",
       "    </tr>\n",
       "    <tr>\n",
       "      <th>32</th>\n",
       "      <td>2024-03-22</td>\n",
       "      <td>confirmed</td>\n",
       "      <td>191</td>\n",
       "    </tr>\n",
       "    <tr>\n",
       "      <th>33</th>\n",
       "      <td>2024-03-23</td>\n",
       "      <td>confirmed</td>\n",
       "      <td>42</td>\n",
       "    </tr>\n",
       "    <tr>\n",
       "      <th>34</th>\n",
       "      <td>2024-03-24</td>\n",
       "      <td>confirmed</td>\n",
       "      <td>33</td>\n",
       "    </tr>\n",
       "    <tr>\n",
       "      <th>35</th>\n",
       "      <td>2024-03-25</td>\n",
       "      <td>canceled</td>\n",
       "      <td>13</td>\n",
       "    </tr>\n",
       "    <tr>\n",
       "      <th>36</th>\n",
       "      <td>2024-03-25</td>\n",
       "      <td>confirmed</td>\n",
       "      <td>116</td>\n",
       "    </tr>\n",
       "    <tr>\n",
       "      <th>37</th>\n",
       "      <td>2024-03-26</td>\n",
       "      <td>canceled</td>\n",
       "      <td>14</td>\n",
       "    </tr>\n",
       "    <tr>\n",
       "      <th>38</th>\n",
       "      <td>2024-03-26</td>\n",
       "      <td>confirmed</td>\n",
       "      <td>217</td>\n",
       "    </tr>\n",
       "    <tr>\n",
       "      <th>39</th>\n",
       "      <td>2024-03-27</td>\n",
       "      <td>confirmed</td>\n",
       "      <td>203</td>\n",
       "    </tr>\n",
       "    <tr>\n",
       "      <th>40</th>\n",
       "      <td>2024-03-28</td>\n",
       "      <td>confirmed</td>\n",
       "      <td>155</td>\n",
       "    </tr>\n",
       "    <tr>\n",
       "      <th>41</th>\n",
       "      <td>2024-03-29</td>\n",
       "      <td>confirmed</td>\n",
       "      <td>241</td>\n",
       "    </tr>\n",
       "    <tr>\n",
       "      <th>42</th>\n",
       "      <td>2024-03-30</td>\n",
       "      <td>confirmed</td>\n",
       "      <td>20</td>\n",
       "    </tr>\n",
       "    <tr>\n",
       "      <th>43</th>\n",
       "      <td>2024-03-31</td>\n",
       "      <td>confirmed</td>\n",
       "      <td>10</td>\n",
       "    </tr>\n",
       "  </tbody>\n",
       "</table>\n",
       "</div>"
      ],
      "text/plain": [
       "          date     status  orders_count\n",
       "0   2024-03-01   canceled            29\n",
       "1   2024-03-01  confirmed           273\n",
       "2   2024-03-02  confirmed            30\n",
       "3   2024-03-03  confirmed             8\n",
       "4   2024-03-04  confirmed           143\n",
       "5   2024-03-05  confirmed           222\n",
       "6   2024-03-06   canceled            12\n",
       "7   2024-03-06  confirmed           209\n",
       "8   2024-03-07   canceled             5\n",
       "9   2024-03-07  confirmed           196\n",
       "10  2024-03-08  confirmed             5\n",
       "11  2024-03-09   canceled            18\n",
       "12  2024-03-10   canceled            12\n",
       "13  2024-03-10  confirmed            23\n",
       "14  2024-03-11   canceled            17\n",
       "15  2024-03-11  confirmed           168\n",
       "16  2024-03-12   canceled            31\n",
       "17  2024-03-12  confirmed           172\n",
       "18  2024-03-13   canceled           263\n",
       "19  2024-03-13  confirmed            76\n",
       "20  2024-03-14  confirmed           437\n",
       "21  2024-03-15   canceled            16\n",
       "22  2024-03-15  confirmed           209\n",
       "23  2024-03-16  confirmed            26\n",
       "24  2024-03-17  confirmed            43\n",
       "25  2024-03-18  confirmed           159\n",
       "26  2024-03-19   canceled            22\n",
       "27  2024-03-19  confirmed           150\n",
       "28  2024-03-20   canceled            37\n",
       "29  2024-03-20  confirmed           185\n",
       "30  2024-03-21   canceled            31\n",
       "31  2024-03-21  confirmed           121\n",
       "32  2024-03-22  confirmed           191\n",
       "33  2024-03-23  confirmed            42\n",
       "34  2024-03-24  confirmed            33\n",
       "35  2024-03-25   canceled            13\n",
       "36  2024-03-25  confirmed           116\n",
       "37  2024-03-26   canceled            14\n",
       "38  2024-03-26  confirmed           217\n",
       "39  2024-03-27  confirmed           203\n",
       "40  2024-03-28  confirmed           155\n",
       "41  2024-03-29  confirmed           241\n",
       "42  2024-03-30  confirmed            20\n",
       "43  2024-03-31  confirmed            10"
      ]
     },
     "execution_count": 212,
     "metadata": {},
     "output_type": "execute_result"
    }
   ],
   "source": [
    "# таблица, с количеством подтвержденных и отмененных заказов. \n",
    "# Если заказов в этот день не было, то строчка за эту дату будет отстуствовать\n",
    "orders_status "
   ]
  },
  {
   "cell_type": "code",
   "execution_count": 213,
   "id": "d6b7dd37",
   "metadata": {},
   "outputs": [],
   "source": [
    "orders_status_new = orders_status.pivot(index='date', columns='status', values='orders_count').reset_index().fillna(0)"
   ]
  },
  {
   "cell_type": "code",
   "execution_count": 214,
   "id": "0b1cea13",
   "metadata": {},
   "outputs": [
    {
     "data": {
      "text/html": [
       "<div>\n",
       "<style scoped>\n",
       "    .dataframe tbody tr th:only-of-type {\n",
       "        vertical-align: middle;\n",
       "    }\n",
       "\n",
       "    .dataframe tbody tr th {\n",
       "        vertical-align: top;\n",
       "    }\n",
       "\n",
       "    .dataframe thead th {\n",
       "        text-align: right;\n",
       "    }\n",
       "</style>\n",
       "<table border=\"1\" class=\"dataframe\">\n",
       "  <thead>\n",
       "    <tr style=\"text-align: right;\">\n",
       "      <th>status</th>\n",
       "      <th>date</th>\n",
       "      <th>canceled</th>\n",
       "      <th>confirmed</th>\n",
       "    </tr>\n",
       "  </thead>\n",
       "  <tbody>\n",
       "    <tr>\n",
       "      <th>0</th>\n",
       "      <td>2024-03-01</td>\n",
       "      <td>29.0</td>\n",
       "      <td>273.0</td>\n",
       "    </tr>\n",
       "    <tr>\n",
       "      <th>1</th>\n",
       "      <td>2024-03-02</td>\n",
       "      <td>0.0</td>\n",
       "      <td>30.0</td>\n",
       "    </tr>\n",
       "    <tr>\n",
       "      <th>2</th>\n",
       "      <td>2024-03-03</td>\n",
       "      <td>0.0</td>\n",
       "      <td>8.0</td>\n",
       "    </tr>\n",
       "    <tr>\n",
       "      <th>3</th>\n",
       "      <td>2024-03-04</td>\n",
       "      <td>0.0</td>\n",
       "      <td>143.0</td>\n",
       "    </tr>\n",
       "    <tr>\n",
       "      <th>4</th>\n",
       "      <td>2024-03-05</td>\n",
       "      <td>0.0</td>\n",
       "      <td>222.0</td>\n",
       "    </tr>\n",
       "    <tr>\n",
       "      <th>5</th>\n",
       "      <td>2024-03-06</td>\n",
       "      <td>12.0</td>\n",
       "      <td>209.0</td>\n",
       "    </tr>\n",
       "    <tr>\n",
       "      <th>6</th>\n",
       "      <td>2024-03-07</td>\n",
       "      <td>5.0</td>\n",
       "      <td>196.0</td>\n",
       "    </tr>\n",
       "    <tr>\n",
       "      <th>7</th>\n",
       "      <td>2024-03-08</td>\n",
       "      <td>0.0</td>\n",
       "      <td>5.0</td>\n",
       "    </tr>\n",
       "    <tr>\n",
       "      <th>8</th>\n",
       "      <td>2024-03-09</td>\n",
       "      <td>18.0</td>\n",
       "      <td>0.0</td>\n",
       "    </tr>\n",
       "    <tr>\n",
       "      <th>9</th>\n",
       "      <td>2024-03-10</td>\n",
       "      <td>12.0</td>\n",
       "      <td>23.0</td>\n",
       "    </tr>\n",
       "    <tr>\n",
       "      <th>10</th>\n",
       "      <td>2024-03-11</td>\n",
       "      <td>17.0</td>\n",
       "      <td>168.0</td>\n",
       "    </tr>\n",
       "    <tr>\n",
       "      <th>11</th>\n",
       "      <td>2024-03-12</td>\n",
       "      <td>31.0</td>\n",
       "      <td>172.0</td>\n",
       "    </tr>\n",
       "    <tr>\n",
       "      <th>12</th>\n",
       "      <td>2024-03-13</td>\n",
       "      <td>263.0</td>\n",
       "      <td>76.0</td>\n",
       "    </tr>\n",
       "    <tr>\n",
       "      <th>13</th>\n",
       "      <td>2024-03-14</td>\n",
       "      <td>0.0</td>\n",
       "      <td>437.0</td>\n",
       "    </tr>\n",
       "    <tr>\n",
       "      <th>14</th>\n",
       "      <td>2024-03-15</td>\n",
       "      <td>16.0</td>\n",
       "      <td>209.0</td>\n",
       "    </tr>\n",
       "    <tr>\n",
       "      <th>15</th>\n",
       "      <td>2024-03-16</td>\n",
       "      <td>0.0</td>\n",
       "      <td>26.0</td>\n",
       "    </tr>\n",
       "    <tr>\n",
       "      <th>16</th>\n",
       "      <td>2024-03-17</td>\n",
       "      <td>0.0</td>\n",
       "      <td>43.0</td>\n",
       "    </tr>\n",
       "    <tr>\n",
       "      <th>17</th>\n",
       "      <td>2024-03-18</td>\n",
       "      <td>0.0</td>\n",
       "      <td>159.0</td>\n",
       "    </tr>\n",
       "    <tr>\n",
       "      <th>18</th>\n",
       "      <td>2024-03-19</td>\n",
       "      <td>22.0</td>\n",
       "      <td>150.0</td>\n",
       "    </tr>\n",
       "    <tr>\n",
       "      <th>19</th>\n",
       "      <td>2024-03-20</td>\n",
       "      <td>37.0</td>\n",
       "      <td>185.0</td>\n",
       "    </tr>\n",
       "    <tr>\n",
       "      <th>20</th>\n",
       "      <td>2024-03-21</td>\n",
       "      <td>31.0</td>\n",
       "      <td>121.0</td>\n",
       "    </tr>\n",
       "    <tr>\n",
       "      <th>21</th>\n",
       "      <td>2024-03-22</td>\n",
       "      <td>0.0</td>\n",
       "      <td>191.0</td>\n",
       "    </tr>\n",
       "    <tr>\n",
       "      <th>22</th>\n",
       "      <td>2024-03-23</td>\n",
       "      <td>0.0</td>\n",
       "      <td>42.0</td>\n",
       "    </tr>\n",
       "    <tr>\n",
       "      <th>23</th>\n",
       "      <td>2024-03-24</td>\n",
       "      <td>0.0</td>\n",
       "      <td>33.0</td>\n",
       "    </tr>\n",
       "    <tr>\n",
       "      <th>24</th>\n",
       "      <td>2024-03-25</td>\n",
       "      <td>13.0</td>\n",
       "      <td>116.0</td>\n",
       "    </tr>\n",
       "    <tr>\n",
       "      <th>25</th>\n",
       "      <td>2024-03-26</td>\n",
       "      <td>14.0</td>\n",
       "      <td>217.0</td>\n",
       "    </tr>\n",
       "    <tr>\n",
       "      <th>26</th>\n",
       "      <td>2024-03-27</td>\n",
       "      <td>0.0</td>\n",
       "      <td>203.0</td>\n",
       "    </tr>\n",
       "    <tr>\n",
       "      <th>27</th>\n",
       "      <td>2024-03-28</td>\n",
       "      <td>0.0</td>\n",
       "      <td>155.0</td>\n",
       "    </tr>\n",
       "    <tr>\n",
       "      <th>28</th>\n",
       "      <td>2024-03-29</td>\n",
       "      <td>0.0</td>\n",
       "      <td>241.0</td>\n",
       "    </tr>\n",
       "    <tr>\n",
       "      <th>29</th>\n",
       "      <td>2024-03-30</td>\n",
       "      <td>0.0</td>\n",
       "      <td>20.0</td>\n",
       "    </tr>\n",
       "    <tr>\n",
       "      <th>30</th>\n",
       "      <td>2024-03-31</td>\n",
       "      <td>0.0</td>\n",
       "      <td>10.0</td>\n",
       "    </tr>\n",
       "  </tbody>\n",
       "</table>\n",
       "</div>"
      ],
      "text/plain": [
       "status        date  canceled  confirmed\n",
       "0       2024-03-01      29.0      273.0\n",
       "1       2024-03-02       0.0       30.0\n",
       "2       2024-03-03       0.0        8.0\n",
       "3       2024-03-04       0.0      143.0\n",
       "4       2024-03-05       0.0      222.0\n",
       "5       2024-03-06      12.0      209.0\n",
       "6       2024-03-07       5.0      196.0\n",
       "7       2024-03-08       0.0        5.0\n",
       "8       2024-03-09      18.0        0.0\n",
       "9       2024-03-10      12.0       23.0\n",
       "10      2024-03-11      17.0      168.0\n",
       "11      2024-03-12      31.0      172.0\n",
       "12      2024-03-13     263.0       76.0\n",
       "13      2024-03-14       0.0      437.0\n",
       "14      2024-03-15      16.0      209.0\n",
       "15      2024-03-16       0.0       26.0\n",
       "16      2024-03-17       0.0       43.0\n",
       "17      2024-03-18       0.0      159.0\n",
       "18      2024-03-19      22.0      150.0\n",
       "19      2024-03-20      37.0      185.0\n",
       "20      2024-03-21      31.0      121.0\n",
       "21      2024-03-22       0.0      191.0\n",
       "22      2024-03-23       0.0       42.0\n",
       "23      2024-03-24       0.0       33.0\n",
       "24      2024-03-25      13.0      116.0\n",
       "25      2024-03-26      14.0      217.0\n",
       "26      2024-03-27       0.0      203.0\n",
       "27      2024-03-28       0.0      155.0\n",
       "28      2024-03-29       0.0      241.0\n",
       "29      2024-03-30       0.0       20.0\n",
       "30      2024-03-31       0.0       10.0"
      ]
     },
     "execution_count": 214,
     "metadata": {},
     "output_type": "execute_result"
    }
   ],
   "source": [
    "orders_status_new # Перевернули таблицу таким образом, чтобы все данные были представлены без пропусков"
   ]
  },
  {
   "cell_type": "markdown",
   "id": "f9fb562e",
   "metadata": {},
   "source": [
    "### Можем заметить, что перед днем с наибольшим количеством заказов, было много отмен.\n",
    "Построим линейный график, чтобы наглядно продемонстрировать динамику подтверждений и отказов."
   ]
  },
  {
   "cell_type": "code",
   "execution_count": 215,
   "id": "d19f5d59",
   "metadata": {},
   "outputs": [
    {
     "data": {
      "image/png": "[encoded data removed]",
      "text/plain": [
       "<Figure size 1080x576 with 1 Axes>"
      ]
     },
     "metadata": {
      "needs_background": "light"
     },
     "output_type": "display_data"
    }
   ],
   "source": [
    "fig, ax = plt.subplots(figsize=(15, 8))\n",
    "ax = sns.lineplot(data=orders_status, x='date', y='orders_count', hue='status');\n",
    "plt.grid() \n",
    "plt.xticks(rotation=45)\n",
    "plt.show()"
   ]
  },
  {
   "cell_type": "markdown",
   "id": "11149169",
   "metadata": {},
   "source": [
    "### Рассмотрим отдельно день с наибольшим числом заказов, который мы определили ранее, и день, предшествующий ему. Выявим причины.\n",
    "Проверим не повторяются ли отмененные заказы 2024-03-13 с подтвержденными 2024-03-14. сли заказ один и тот же, у него будут совпадать параметры: клиент, менеджер, количество уникальных товаров в заказе и общее число товаров в штуках, но номера заказов будут разными."
   ]
  },
  {
   "cell_type": "code",
   "execution_count": 216,
   "id": "ff8c36dc",
   "metadata": {},
   "outputs": [
    {
     "data": {
      "text/html": [
       "<div>\n",
       "<style scoped>\n",
       "    .dataframe tbody tr th:only-of-type {\n",
       "        vertical-align: middle;\n",
       "    }\n",
       "\n",
       "    .dataframe tbody tr th {\n",
       "        vertical-align: top;\n",
       "    }\n",
       "\n",
       "    .dataframe thead th {\n",
       "        text-align: right;\n",
       "    }\n",
       "</style>\n",
       "<table border=\"1\" class=\"dataframe\">\n",
       "  <thead>\n",
       "    <tr style=\"text-align: right;\">\n",
       "      <th></th>\n",
       "      <th>order_id</th>\n",
       "      <th>product_id</th>\n",
       "      <th>quantity</th>\n",
       "      <th>manager</th>\n",
       "      <th>date</th>\n",
       "      <th>client_id</th>\n",
       "      <th>status</th>\n",
       "    </tr>\n",
       "  </thead>\n",
       "  <tbody>\n",
       "    <tr>\n",
       "      <th>0</th>\n",
       "      <td>QPLK-54839036</td>\n",
       "      <td>489</td>\n",
       "      <td>11</td>\n",
       "      <td>Владимир Ударников</td>\n",
       "      <td>2024-03-10</td>\n",
       "      <td>52</td>\n",
       "      <td>confirmed</td>\n",
       "    </tr>\n",
       "    <tr>\n",
       "      <th>1</th>\n",
       "      <td>QPLK-54839036</td>\n",
       "      <td>594</td>\n",
       "      <td>6</td>\n",
       "      <td>Владимир Ударников</td>\n",
       "      <td>2024-03-10</td>\n",
       "      <td>52</td>\n",
       "      <td>confirmed</td>\n",
       "    </tr>\n",
       "    <tr>\n",
       "      <th>2</th>\n",
       "      <td>QPLK-54839036</td>\n",
       "      <td>670</td>\n",
       "      <td>16</td>\n",
       "      <td>Владимир Ударников</td>\n",
       "      <td>2024-03-10</td>\n",
       "      <td>52</td>\n",
       "      <td>confirmed</td>\n",
       "    </tr>\n",
       "    <tr>\n",
       "      <th>3</th>\n",
       "      <td>QPLK-54839036</td>\n",
       "      <td>469</td>\n",
       "      <td>9</td>\n",
       "      <td>Владимир Ударников</td>\n",
       "      <td>2024-03-10</td>\n",
       "      <td>52</td>\n",
       "      <td>confirmed</td>\n",
       "    </tr>\n",
       "    <tr>\n",
       "      <th>4</th>\n",
       "      <td>QPLK-54839036</td>\n",
       "      <td>1302</td>\n",
       "      <td>5</td>\n",
       "      <td>Владимир Ударников</td>\n",
       "      <td>2024-03-10</td>\n",
       "      <td>52</td>\n",
       "      <td>confirmed</td>\n",
       "    </tr>\n",
       "  </tbody>\n",
       "</table>\n",
       "</div>"
      ],
      "text/plain": [
       "        order_id  product_id  quantity             manager        date  \\\n",
       "0  QPLK-54839036         489        11  Владимир Ударников  2024-03-10   \n",
       "1  QPLK-54839036         594         6  Владимир Ударников  2024-03-10   \n",
       "2  QPLK-54839036         670        16  Владимир Ударников  2024-03-10   \n",
       "3  QPLK-54839036         469         9  Владимир Ударников  2024-03-10   \n",
       "4  QPLK-54839036        1302         5  Владимир Ударников  2024-03-10   \n",
       "\n",
       "   client_id     status  \n",
       "0         52  confirmed  \n",
       "1         52  confirmed  \n",
       "2         52  confirmed  \n",
       "3         52  confirmed  \n",
       "4         52  confirmed  "
      ]
     },
     "execution_count": 216,
     "metadata": {},
     "output_type": "execute_result"
    }
   ],
   "source": [
    "df = pd.read_csv('/mnt/HC_Volume_18315164/home-jupyter/jupyter-alena-semechkova-p-96bf1/lesson_9/orders_status.csv')\n",
    "\n",
    "df.head()"
   ]
  },
  {
   "cell_type": "code",
   "execution_count": 217,
   "id": "aaf5c8e9",
   "metadata": {},
   "outputs": [
    {
     "data": {
      "text/html": [
       "<div>\n",
       "<style scoped>\n",
       "    .dataframe tbody tr th:only-of-type {\n",
       "        vertical-align: middle;\n",
       "    }\n",
       "\n",
       "    .dataframe tbody tr th {\n",
       "        vertical-align: top;\n",
       "    }\n",
       "\n",
       "    .dataframe thead th {\n",
       "        text-align: right;\n",
       "    }\n",
       "</style>\n",
       "<table border=\"1\" class=\"dataframe\">\n",
       "  <thead>\n",
       "    <tr style=\"text-align: right;\">\n",
       "      <th></th>\n",
       "      <th>order_id</th>\n",
       "      <th>product_id</th>\n",
       "      <th>quantity</th>\n",
       "      <th>manager</th>\n",
       "      <th>date</th>\n",
       "      <th>client_id</th>\n",
       "      <th>status</th>\n",
       "    </tr>\n",
       "  </thead>\n",
       "  <tbody>\n",
       "    <tr>\n",
       "      <th>1604</th>\n",
       "      <td>IMND-92004620</td>\n",
       "      <td>1634</td>\n",
       "      <td>20</td>\n",
       "      <td>Владимир Ударников</td>\n",
       "      <td>2024-03-14</td>\n",
       "      <td>38</td>\n",
       "      <td>confirmed</td>\n",
       "    </tr>\n",
       "    <tr>\n",
       "      <th>1605</th>\n",
       "      <td>IMND-92004620</td>\n",
       "      <td>259</td>\n",
       "      <td>9</td>\n",
       "      <td>Владимир Ударников</td>\n",
       "      <td>2024-03-14</td>\n",
       "      <td>38</td>\n",
       "      <td>confirmed</td>\n",
       "    </tr>\n",
       "    <tr>\n",
       "      <th>1606</th>\n",
       "      <td>IMND-92004620</td>\n",
       "      <td>812</td>\n",
       "      <td>24</td>\n",
       "      <td>Владимир Ударников</td>\n",
       "      <td>2024-03-14</td>\n",
       "      <td>38</td>\n",
       "      <td>confirmed</td>\n",
       "    </tr>\n",
       "    <tr>\n",
       "      <th>1607</th>\n",
       "      <td>IMND-92004620</td>\n",
       "      <td>652</td>\n",
       "      <td>10</td>\n",
       "      <td>Владимир Ударников</td>\n",
       "      <td>2024-03-14</td>\n",
       "      <td>38</td>\n",
       "      <td>confirmed</td>\n",
       "    </tr>\n",
       "    <tr>\n",
       "      <th>1608</th>\n",
       "      <td>IMND-92004620</td>\n",
       "      <td>516</td>\n",
       "      <td>8</td>\n",
       "      <td>Владимир Ударников</td>\n",
       "      <td>2024-03-14</td>\n",
       "      <td>38</td>\n",
       "      <td>confirmed</td>\n",
       "    </tr>\n",
       "    <tr>\n",
       "      <th>...</th>\n",
       "      <td>...</td>\n",
       "      <td>...</td>\n",
       "      <td>...</td>\n",
       "      <td>...</td>\n",
       "      <td>...</td>\n",
       "      <td>...</td>\n",
       "      <td>...</td>\n",
       "    </tr>\n",
       "    <tr>\n",
       "      <th>3520</th>\n",
       "      <td>BBFJ-27674101</td>\n",
       "      <td>447</td>\n",
       "      <td>18</td>\n",
       "      <td>Ксения Балалайкина</td>\n",
       "      <td>2024-03-13</td>\n",
       "      <td>73</td>\n",
       "      <td>canceled</td>\n",
       "    </tr>\n",
       "    <tr>\n",
       "      <th>3521</th>\n",
       "      <td>GHGB-88045656</td>\n",
       "      <td>898</td>\n",
       "      <td>10</td>\n",
       "      <td>Ксения Балалайкина</td>\n",
       "      <td>2024-03-13</td>\n",
       "      <td>7</td>\n",
       "      <td>canceled</td>\n",
       "    </tr>\n",
       "    <tr>\n",
       "      <th>3522</th>\n",
       "      <td>GHGB-88045656</td>\n",
       "      <td>1401</td>\n",
       "      <td>12</td>\n",
       "      <td>Ксения Балалайкина</td>\n",
       "      <td>2024-03-13</td>\n",
       "      <td>7</td>\n",
       "      <td>canceled</td>\n",
       "    </tr>\n",
       "    <tr>\n",
       "      <th>3523</th>\n",
       "      <td>GHGB-88045656</td>\n",
       "      <td>658</td>\n",
       "      <td>12</td>\n",
       "      <td>Ксения Балалайкина</td>\n",
       "      <td>2024-03-13</td>\n",
       "      <td>7</td>\n",
       "      <td>canceled</td>\n",
       "    </tr>\n",
       "    <tr>\n",
       "      <th>3524</th>\n",
       "      <td>GHGB-88045656</td>\n",
       "      <td>1255</td>\n",
       "      <td>8</td>\n",
       "      <td>Ксения Балалайкина</td>\n",
       "      <td>2024-03-13</td>\n",
       "      <td>7</td>\n",
       "      <td>canceled</td>\n",
       "    </tr>\n",
       "  </tbody>\n",
       "</table>\n",
       "<p>776 rows × 7 columns</p>\n",
       "</div>"
      ],
      "text/plain": [
       "           order_id  product_id  quantity             manager        date  \\\n",
       "1604  IMND-92004620        1634        20  Владимир Ударников  2024-03-14   \n",
       "1605  IMND-92004620         259         9  Владимир Ударников  2024-03-14   \n",
       "1606  IMND-92004620         812        24  Владимир Ударников  2024-03-14   \n",
       "1607  IMND-92004620         652        10  Владимир Ударников  2024-03-14   \n",
       "1608  IMND-92004620         516         8  Владимир Ударников  2024-03-14   \n",
       "...             ...         ...       ...                 ...         ...   \n",
       "3520  BBFJ-27674101         447        18  Ксения Балалайкина  2024-03-13   \n",
       "3521  GHGB-88045656         898        10  Ксения Балалайкина  2024-03-13   \n",
       "3522  GHGB-88045656        1401        12  Ксения Балалайкина  2024-03-13   \n",
       "3523  GHGB-88045656         658        12  Ксения Балалайкина  2024-03-13   \n",
       "3524  GHGB-88045656        1255         8  Ксения Балалайкина  2024-03-13   \n",
       "\n",
       "      client_id     status  \n",
       "1604         38  confirmed  \n",
       "1605         38  confirmed  \n",
       "1606         38  confirmed  \n",
       "1607         38  confirmed  \n",
       "1608         38  confirmed  \n",
       "...         ...        ...  \n",
       "3520         73   canceled  \n",
       "3521          7   canceled  \n",
       "3522          7   canceled  \n",
       "3523          7   canceled  \n",
       "3524          7   canceled  \n",
       "\n",
       "[776 rows x 7 columns]"
      ]
     },
     "execution_count": 217,
     "metadata": {},
     "output_type": "execute_result"
    }
   ],
   "source": [
    "df.query('date==\"2024-03-13\" or date==\"2024-03-14\"') "
   ]
  },
  {
   "cell_type": "code",
   "execution_count": 218,
   "id": "eaae46b0",
   "metadata": {},
   "outputs": [],
   "source": [
    "df_14 = df.query('date==\"2024-03-14\"')"
   ]
  },
  {
   "cell_type": "code",
   "execution_count": 219,
   "id": "900ffff5",
   "metadata": {
    "scrolled": true
   },
   "outputs": [
    {
     "data": {
      "text/html": [
       "<div>\n",
       "<style scoped>\n",
       "    .dataframe tbody tr th:only-of-type {\n",
       "        vertical-align: middle;\n",
       "    }\n",
       "\n",
       "    .dataframe tbody tr th {\n",
       "        vertical-align: top;\n",
       "    }\n",
       "\n",
       "    .dataframe thead th {\n",
       "        text-align: right;\n",
       "    }\n",
       "</style>\n",
       "<table border=\"1\" class=\"dataframe\">\n",
       "  <thead>\n",
       "    <tr style=\"text-align: right;\">\n",
       "      <th></th>\n",
       "      <th>order_id</th>\n",
       "      <th>product_id</th>\n",
       "      <th>quantity</th>\n",
       "      <th>manager</th>\n",
       "      <th>date</th>\n",
       "      <th>client_id</th>\n",
       "      <th>status</th>\n",
       "    </tr>\n",
       "  </thead>\n",
       "  <tbody>\n",
       "    <tr>\n",
       "      <th>1604</th>\n",
       "      <td>IMND-92004620</td>\n",
       "      <td>1634</td>\n",
       "      <td>20</td>\n",
       "      <td>Владимир Ударников</td>\n",
       "      <td>2024-03-14</td>\n",
       "      <td>38</td>\n",
       "      <td>confirmed</td>\n",
       "    </tr>\n",
       "    <tr>\n",
       "      <th>1605</th>\n",
       "      <td>IMND-92004620</td>\n",
       "      <td>259</td>\n",
       "      <td>9</td>\n",
       "      <td>Владимир Ударников</td>\n",
       "      <td>2024-03-14</td>\n",
       "      <td>38</td>\n",
       "      <td>confirmed</td>\n",
       "    </tr>\n",
       "    <tr>\n",
       "      <th>1606</th>\n",
       "      <td>IMND-92004620</td>\n",
       "      <td>812</td>\n",
       "      <td>24</td>\n",
       "      <td>Владимир Ударников</td>\n",
       "      <td>2024-03-14</td>\n",
       "      <td>38</td>\n",
       "      <td>confirmed</td>\n",
       "    </tr>\n",
       "    <tr>\n",
       "      <th>1607</th>\n",
       "      <td>IMND-92004620</td>\n",
       "      <td>652</td>\n",
       "      <td>10</td>\n",
       "      <td>Владимир Ударников</td>\n",
       "      <td>2024-03-14</td>\n",
       "      <td>38</td>\n",
       "      <td>confirmed</td>\n",
       "    </tr>\n",
       "    <tr>\n",
       "      <th>1608</th>\n",
       "      <td>IMND-92004620</td>\n",
       "      <td>516</td>\n",
       "      <td>8</td>\n",
       "      <td>Владимир Ударников</td>\n",
       "      <td>2024-03-14</td>\n",
       "      <td>38</td>\n",
       "      <td>confirmed</td>\n",
       "    </tr>\n",
       "  </tbody>\n",
       "</table>\n",
       "</div>"
      ],
      "text/plain": [
       "           order_id  product_id  quantity             manager        date  \\\n",
       "1604  IMND-92004620        1634        20  Владимир Ударников  2024-03-14   \n",
       "1605  IMND-92004620         259         9  Владимир Ударников  2024-03-14   \n",
       "1606  IMND-92004620         812        24  Владимир Ударников  2024-03-14   \n",
       "1607  IMND-92004620         652        10  Владимир Ударников  2024-03-14   \n",
       "1608  IMND-92004620         516         8  Владимир Ударников  2024-03-14   \n",
       "\n",
       "      client_id     status  \n",
       "1604         38  confirmed  \n",
       "1605         38  confirmed  \n",
       "1606         38  confirmed  \n",
       "1607         38  confirmed  \n",
       "1608         38  confirmed  "
      ]
     },
     "execution_count": 219,
     "metadata": {},
     "output_type": "execute_result"
    }
   ],
   "source": [
    "df_14.head()"
   ]
  },
  {
   "cell_type": "code",
   "execution_count": 220,
   "id": "55d36adc",
   "metadata": {
    "scrolled": true
   },
   "outputs": [
    {
     "data": {
      "text/html": [
       "<div>\n",
       "<style scoped>\n",
       "    .dataframe tbody tr th:only-of-type {\n",
       "        vertical-align: middle;\n",
       "    }\n",
       "\n",
       "    .dataframe tbody tr th {\n",
       "        vertical-align: top;\n",
       "    }\n",
       "\n",
       "    .dataframe thead th {\n",
       "        text-align: right;\n",
       "    }\n",
       "</style>\n",
       "<table border=\"1\" class=\"dataframe\">\n",
       "  <thead>\n",
       "    <tr style=\"text-align: right;\">\n",
       "      <th></th>\n",
       "      <th>order_id</th>\n",
       "      <th>product_id</th>\n",
       "      <th>quantity</th>\n",
       "      <th>manager</th>\n",
       "      <th>date</th>\n",
       "      <th>client_id</th>\n",
       "      <th>status</th>\n",
       "    </tr>\n",
       "  </thead>\n",
       "  <tbody>\n",
       "    <tr>\n",
       "      <th>3186</th>\n",
       "      <td>NENO-68279828</td>\n",
       "      <td>1634</td>\n",
       "      <td>20</td>\n",
       "      <td>Владимир Ударников</td>\n",
       "      <td>2024-03-13</td>\n",
       "      <td>38</td>\n",
       "      <td>canceled</td>\n",
       "    </tr>\n",
       "    <tr>\n",
       "      <th>3187</th>\n",
       "      <td>NENO-68279828</td>\n",
       "      <td>259</td>\n",
       "      <td>9</td>\n",
       "      <td>Владимир Ударников</td>\n",
       "      <td>2024-03-13</td>\n",
       "      <td>38</td>\n",
       "      <td>canceled</td>\n",
       "    </tr>\n",
       "    <tr>\n",
       "      <th>3188</th>\n",
       "      <td>NENO-68279828</td>\n",
       "      <td>812</td>\n",
       "      <td>24</td>\n",
       "      <td>Владимир Ударников</td>\n",
       "      <td>2024-03-13</td>\n",
       "      <td>38</td>\n",
       "      <td>canceled</td>\n",
       "    </tr>\n",
       "    <tr>\n",
       "      <th>3189</th>\n",
       "      <td>NENO-68279828</td>\n",
       "      <td>652</td>\n",
       "      <td>10</td>\n",
       "      <td>Владимир Ударников</td>\n",
       "      <td>2024-03-13</td>\n",
       "      <td>38</td>\n",
       "      <td>canceled</td>\n",
       "    </tr>\n",
       "    <tr>\n",
       "      <th>3190</th>\n",
       "      <td>NENO-68279828</td>\n",
       "      <td>516</td>\n",
       "      <td>8</td>\n",
       "      <td>Владимир Ударников</td>\n",
       "      <td>2024-03-13</td>\n",
       "      <td>38</td>\n",
       "      <td>canceled</td>\n",
       "    </tr>\n",
       "  </tbody>\n",
       "</table>\n",
       "</div>"
      ],
      "text/plain": [
       "           order_id  product_id  quantity             manager        date  \\\n",
       "3186  NENO-68279828        1634        20  Владимир Ударников  2024-03-13   \n",
       "3187  NENO-68279828         259         9  Владимир Ударников  2024-03-13   \n",
       "3188  NENO-68279828         812        24  Владимир Ударников  2024-03-13   \n",
       "3189  NENO-68279828         652        10  Владимир Ударников  2024-03-13   \n",
       "3190  NENO-68279828         516         8  Владимир Ударников  2024-03-13   \n",
       "\n",
       "      client_id    status  \n",
       "3186         38  canceled  \n",
       "3187         38  canceled  \n",
       "3188         38  canceled  \n",
       "3189         38  canceled  \n",
       "3190         38  canceled  "
      ]
     },
     "execution_count": 220,
     "metadata": {},
     "output_type": "execute_result"
    }
   ],
   "source": [
    "df_13 = df.query('date==\"2024-03-13\"')\n",
    "df_13.head()"
   ]
  },
  {
   "cell_type": "code",
   "execution_count": 221,
   "id": "51de7a5c",
   "metadata": {},
   "outputs": [
    {
     "data": {
      "text/html": [
       "<div>\n",
       "<style scoped>\n",
       "    .dataframe tbody tr th:only-of-type {\n",
       "        vertical-align: middle;\n",
       "    }\n",
       "\n",
       "    .dataframe tbody tr th {\n",
       "        vertical-align: top;\n",
       "    }\n",
       "\n",
       "    .dataframe thead th {\n",
       "        text-align: right;\n",
       "    }\n",
       "</style>\n",
       "<table border=\"1\" class=\"dataframe\">\n",
       "  <thead>\n",
       "    <tr style=\"text-align: right;\">\n",
       "      <th></th>\n",
       "      <th>order_id_x</th>\n",
       "      <th>product_id</th>\n",
       "      <th>quantity</th>\n",
       "      <th>manager</th>\n",
       "      <th>date_x</th>\n",
       "      <th>client_id</th>\n",
       "      <th>status_x</th>\n",
       "      <th>order_id_y</th>\n",
       "      <th>date_y</th>\n",
       "      <th>status_y</th>\n",
       "    </tr>\n",
       "  </thead>\n",
       "  <tbody>\n",
       "    <tr>\n",
       "      <th>0</th>\n",
       "      <td>NENO-68279828</td>\n",
       "      <td>1634</td>\n",
       "      <td>20</td>\n",
       "      <td>Владимир Ударников</td>\n",
       "      <td>2024-03-13</td>\n",
       "      <td>38</td>\n",
       "      <td>canceled</td>\n",
       "      <td>IMND-92004620</td>\n",
       "      <td>2024-03-14</td>\n",
       "      <td>confirmed</td>\n",
       "    </tr>\n",
       "    <tr>\n",
       "      <th>1</th>\n",
       "      <td>NENO-68279828</td>\n",
       "      <td>259</td>\n",
       "      <td>9</td>\n",
       "      <td>Владимир Ударников</td>\n",
       "      <td>2024-03-13</td>\n",
       "      <td>38</td>\n",
       "      <td>canceled</td>\n",
       "      <td>IMND-92004620</td>\n",
       "      <td>2024-03-14</td>\n",
       "      <td>confirmed</td>\n",
       "    </tr>\n",
       "    <tr>\n",
       "      <th>2</th>\n",
       "      <td>NENO-68279828</td>\n",
       "      <td>812</td>\n",
       "      <td>24</td>\n",
       "      <td>Владимир Ударников</td>\n",
       "      <td>2024-03-13</td>\n",
       "      <td>38</td>\n",
       "      <td>canceled</td>\n",
       "      <td>IMND-92004620</td>\n",
       "      <td>2024-03-14</td>\n",
       "      <td>confirmed</td>\n",
       "    </tr>\n",
       "    <tr>\n",
       "      <th>3</th>\n",
       "      <td>NENO-68279828</td>\n",
       "      <td>652</td>\n",
       "      <td>10</td>\n",
       "      <td>Владимир Ударников</td>\n",
       "      <td>2024-03-13</td>\n",
       "      <td>38</td>\n",
       "      <td>canceled</td>\n",
       "      <td>IMND-92004620</td>\n",
       "      <td>2024-03-14</td>\n",
       "      <td>confirmed</td>\n",
       "    </tr>\n",
       "    <tr>\n",
       "      <th>4</th>\n",
       "      <td>NENO-68279828</td>\n",
       "      <td>516</td>\n",
       "      <td>8</td>\n",
       "      <td>Владимир Ударников</td>\n",
       "      <td>2024-03-13</td>\n",
       "      <td>38</td>\n",
       "      <td>canceled</td>\n",
       "      <td>IMND-92004620</td>\n",
       "      <td>2024-03-14</td>\n",
       "      <td>confirmed</td>\n",
       "    </tr>\n",
       "    <tr>\n",
       "      <th>...</th>\n",
       "      <td>...</td>\n",
       "      <td>...</td>\n",
       "      <td>...</td>\n",
       "      <td>...</td>\n",
       "      <td>...</td>\n",
       "      <td>...</td>\n",
       "      <td>...</td>\n",
       "      <td>...</td>\n",
       "      <td>...</td>\n",
       "      <td>...</td>\n",
       "    </tr>\n",
       "    <tr>\n",
       "      <th>548</th>\n",
       "      <td>NaN</td>\n",
       "      <td>1667</td>\n",
       "      <td>44</td>\n",
       "      <td>Ксения Балалайкина</td>\n",
       "      <td>NaN</td>\n",
       "      <td>67</td>\n",
       "      <td>NaN</td>\n",
       "      <td>JDDH-90010417</td>\n",
       "      <td>2024-03-14</td>\n",
       "      <td>confirmed</td>\n",
       "    </tr>\n",
       "    <tr>\n",
       "      <th>549</th>\n",
       "      <td>NaN</td>\n",
       "      <td>1607</td>\n",
       "      <td>4</td>\n",
       "      <td>Ксения Балалайкина</td>\n",
       "      <td>NaN</td>\n",
       "      <td>67</td>\n",
       "      <td>NaN</td>\n",
       "      <td>JDDH-90010417</td>\n",
       "      <td>2024-03-14</td>\n",
       "      <td>confirmed</td>\n",
       "    </tr>\n",
       "    <tr>\n",
       "      <th>550</th>\n",
       "      <td>NaN</td>\n",
       "      <td>644</td>\n",
       "      <td>34</td>\n",
       "      <td>Ксения Балалайкина</td>\n",
       "      <td>NaN</td>\n",
       "      <td>67</td>\n",
       "      <td>NaN</td>\n",
       "      <td>JDDH-90010417</td>\n",
       "      <td>2024-03-14</td>\n",
       "      <td>confirmed</td>\n",
       "    </tr>\n",
       "    <tr>\n",
       "      <th>551</th>\n",
       "      <td>NaN</td>\n",
       "      <td>65</td>\n",
       "      <td>15</td>\n",
       "      <td>Ксения Балалайкина</td>\n",
       "      <td>NaN</td>\n",
       "      <td>67</td>\n",
       "      <td>NaN</td>\n",
       "      <td>JDDH-90010417</td>\n",
       "      <td>2024-03-14</td>\n",
       "      <td>confirmed</td>\n",
       "    </tr>\n",
       "    <tr>\n",
       "      <th>552</th>\n",
       "      <td>NaN</td>\n",
       "      <td>1276</td>\n",
       "      <td>22</td>\n",
       "      <td>Ксения Балалайкина</td>\n",
       "      <td>NaN</td>\n",
       "      <td>67</td>\n",
       "      <td>NaN</td>\n",
       "      <td>JDDH-90010417</td>\n",
       "      <td>2024-03-14</td>\n",
       "      <td>confirmed</td>\n",
       "    </tr>\n",
       "  </tbody>\n",
       "</table>\n",
       "<p>553 rows × 10 columns</p>\n",
       "</div>"
      ],
      "text/plain": [
       "        order_id_x  product_id  quantity             manager      date_x  \\\n",
       "0    NENO-68279828        1634        20  Владимир Ударников  2024-03-13   \n",
       "1    NENO-68279828         259         9  Владимир Ударников  2024-03-13   \n",
       "2    NENO-68279828         812        24  Владимир Ударников  2024-03-13   \n",
       "3    NENO-68279828         652        10  Владимир Ударников  2024-03-13   \n",
       "4    NENO-68279828         516         8  Владимир Ударников  2024-03-13   \n",
       "..             ...         ...       ...                 ...         ...   \n",
       "548            NaN        1667        44  Ксения Балалайкина         NaN   \n",
       "549            NaN        1607         4  Ксения Балалайкина         NaN   \n",
       "550            NaN         644        34  Ксения Балалайкина         NaN   \n",
       "551            NaN          65        15  Ксения Балалайкина         NaN   \n",
       "552            NaN        1276        22  Ксения Балалайкина         NaN   \n",
       "\n",
       "     client_id  status_x     order_id_y      date_y   status_y  \n",
       "0           38  canceled  IMND-92004620  2024-03-14  confirmed  \n",
       "1           38  canceled  IMND-92004620  2024-03-14  confirmed  \n",
       "2           38  canceled  IMND-92004620  2024-03-14  confirmed  \n",
       "3           38  canceled  IMND-92004620  2024-03-14  confirmed  \n",
       "4           38  canceled  IMND-92004620  2024-03-14  confirmed  \n",
       "..         ...       ...            ...         ...        ...  \n",
       "548         67       NaN  JDDH-90010417  2024-03-14  confirmed  \n",
       "549         67       NaN  JDDH-90010417  2024-03-14  confirmed  \n",
       "550         67       NaN  JDDH-90010417  2024-03-14  confirmed  \n",
       "551         67       NaN  JDDH-90010417  2024-03-14  confirmed  \n",
       "552         67       NaN  JDDH-90010417  2024-03-14  confirmed  \n",
       "\n",
       "[553 rows x 10 columns]"
      ]
     },
     "execution_count": 221,
     "metadata": {},
     "output_type": "execute_result"
    }
   ],
   "source": [
    "df_13.merge(df_14, how='outer', on=['client_id', 'manager', 'product_id', 'quantity']) \n",
    "# Соединяем датафреймы по тем параметрам, которые должы совпасть. Все строки получившейся таблицы - это повторяющиеся заказы."
   ]
  },
  {
   "cell_type": "markdown",
   "id": "0dd5dbe2",
   "metadata": {},
   "source": [
    "### Можем сделать вывод, что в CRM системе произошел сбой, и отмененные заказы 2014-03-13 перенеслись на следующий день 2014-03-14"
   ]
  },
  {
   "cell_type": "markdown",
   "id": "66ba3602",
   "metadata": {},
   "source": [
    "## 3. Посчитаем ключевые метрики, посмотрим на их динамику и составим небольшой отчет"
   ]
  },
  {
   "cell_type": "markdown",
   "id": "925026ba",
   "metadata": {},
   "source": [
    "Для расчта метрик нам потребуется расчитать среднее значение курса доллара за месяц, тк закупки товаров происходили в долларах, а продажи в рублях."
   ]
  },
  {
   "cell_type": "code",
   "execution_count": 222,
   "id": "8bc5a193",
   "metadata": {},
   "outputs": [],
   "source": [
    "currency_rate = open('usd_rate.txt')\n"
   ]
  },
  {
   "cell_type": "code",
   "execution_count": 223,
   "id": "3938eaf1",
   "metadata": {},
   "outputs": [],
   "source": [
    "currency_rate = currency_rate.readlines()"
   ]
  },
  {
   "cell_type": "code",
   "execution_count": 224,
   "id": "3dca8363",
   "metadata": {},
   "outputs": [
    {
     "data": {
      "text/html": [
       "<div>\n",
       "<style scoped>\n",
       "    .dataframe tbody tr th:only-of-type {\n",
       "        vertical-align: middle;\n",
       "    }\n",
       "\n",
       "    .dataframe tbody tr th {\n",
       "        vertical-align: top;\n",
       "    }\n",
       "\n",
       "    .dataframe thead th {\n",
       "        text-align: right;\n",
       "    }\n",
       "</style>\n",
       "<table border=\"1\" class=\"dataframe\">\n",
       "  <thead>\n",
       "    <tr style=\"text-align: right;\">\n",
       "      <th></th>\n",
       "      <th>full</th>\n",
       "    </tr>\n",
       "  </thead>\n",
       "  <tbody>\n",
       "    <tr>\n",
       "      <th>0</th>\n",
       "      <td>2024-03-01,90.8423,Доллар США\\n</td>\n",
       "    </tr>\n",
       "    <tr>\n",
       "      <th>1</th>\n",
       "      <td>2024-03-02,91.3336,Доллар США\\n</td>\n",
       "    </tr>\n",
       "    <tr>\n",
       "      <th>2</th>\n",
       "      <td>2024-03-03,91.3336,Доллар США\\n</td>\n",
       "    </tr>\n",
       "    <tr>\n",
       "      <th>3</th>\n",
       "      <td>2024-03-04,91.3336,Доллар США\\n</td>\n",
       "    </tr>\n",
       "    <tr>\n",
       "      <th>4</th>\n",
       "      <td>2024-03-05,91.3534,Доллар США\\n</td>\n",
       "    </tr>\n",
       "  </tbody>\n",
       "</table>\n",
       "</div>"
      ],
      "text/plain": [
       "                              full\n",
       "0  2024-03-01,90.8423,Доллар США\\n\n",
       "1  2024-03-02,91.3336,Доллар США\\n\n",
       "2  2024-03-03,91.3336,Доллар США\\n\n",
       "3  2024-03-04,91.3336,Доллар США\\n\n",
       "4  2024-03-05,91.3534,Доллар США\\n"
      ]
     },
     "execution_count": 224,
     "metadata": {},
     "output_type": "execute_result"
    }
   ],
   "source": [
    "currency_rate = pd.DataFrame(currency_rate, columns=['full'])\n",
    "currency_rate.head()"
   ]
  },
  {
   "cell_type": "code",
   "execution_count": 225,
   "id": "b0b6f71a",
   "metadata": {},
   "outputs": [],
   "source": [
    "currency_rate['date'] = currency_rate['full'].str.split(',').str[0]\n",
    "currency_rate['currency_rate'] = currency_rate['full'].str.split(',').str[1] "
   ]
  },
  {
   "cell_type": "code",
   "execution_count": 226,
   "id": "fdd9fc45",
   "metadata": {},
   "outputs": [
    {
     "data": {
      "text/html": [
       "<div>\n",
       "<style scoped>\n",
       "    .dataframe tbody tr th:only-of-type {\n",
       "        vertical-align: middle;\n",
       "    }\n",
       "\n",
       "    .dataframe tbody tr th {\n",
       "        vertical-align: top;\n",
       "    }\n",
       "\n",
       "    .dataframe thead th {\n",
       "        text-align: right;\n",
       "    }\n",
       "</style>\n",
       "<table border=\"1\" class=\"dataframe\">\n",
       "  <thead>\n",
       "    <tr style=\"text-align: right;\">\n",
       "      <th></th>\n",
       "      <th>date</th>\n",
       "      <th>currency_rate</th>\n",
       "    </tr>\n",
       "  </thead>\n",
       "  <tbody>\n",
       "    <tr>\n",
       "      <th>0</th>\n",
       "      <td>2024-03-01</td>\n",
       "      <td>90.8423</td>\n",
       "    </tr>\n",
       "    <tr>\n",
       "      <th>1</th>\n",
       "      <td>2024-03-02</td>\n",
       "      <td>91.3336</td>\n",
       "    </tr>\n",
       "    <tr>\n",
       "      <th>2</th>\n",
       "      <td>2024-03-03</td>\n",
       "      <td>91.3336</td>\n",
       "    </tr>\n",
       "    <tr>\n",
       "      <th>3</th>\n",
       "      <td>2024-03-04</td>\n",
       "      <td>91.3336</td>\n",
       "    </tr>\n",
       "    <tr>\n",
       "      <th>4</th>\n",
       "      <td>2024-03-05</td>\n",
       "      <td>91.3534</td>\n",
       "    </tr>\n",
       "  </tbody>\n",
       "</table>\n",
       "</div>"
      ],
      "text/plain": [
       "         date currency_rate\n",
       "0  2024-03-01       90.8423\n",
       "1  2024-03-02       91.3336\n",
       "2  2024-03-03       91.3336\n",
       "3  2024-03-04       91.3336\n",
       "4  2024-03-05       91.3534"
      ]
     },
     "execution_count": 226,
     "metadata": {},
     "output_type": "execute_result"
    }
   ],
   "source": [
    "currency_rate = currency_rate.drop(columns = ['full']) \n",
    "currency_rate.head()"
   ]
  },
  {
   "cell_type": "code",
   "execution_count": 227,
   "id": "3bd41d55",
   "metadata": {},
   "outputs": [],
   "source": [
    "currency_rate = currency_rate.astype({'date': 'datetime64', 'currency_rate': 'float'}) \n",
    "# Переводим колонку date в удобный для работы тип datetime64"
   ]
  },
  {
   "cell_type": "markdown",
   "id": "09e3591b",
   "metadata": {},
   "source": [
    "### 3.1 Расчет общей выручки:"
   ]
  },
  {
   "cell_type": "code",
   "execution_count": 228,
   "id": "9b60e35d",
   "metadata": {},
   "outputs": [],
   "source": [
    "orders_status = pd.read_csv('orders_status.csv')"
   ]
  },
  {
   "cell_type": "code",
   "execution_count": 229,
   "id": "75e35adf",
   "metadata": {},
   "outputs": [],
   "source": [
    "orders_status = orders_status.astype({'date': 'datetime64'}) "
   ]
  },
  {
   "cell_type": "code",
   "execution_count": 230,
   "id": "0c856d8b",
   "metadata": {},
   "outputs": [],
   "source": [
    "df_full = orders_status.merge(df_products, how='inner', left_on='product_id', right_on='id')"
   ]
  },
  {
   "cell_type": "code",
   "execution_count": 231,
   "id": "ba6bed6f",
   "metadata": {},
   "outputs": [],
   "source": [
    "df_full = df_full.merge(currency_rate, how='inner', on='date')"
   ]
  },
  {
   "cell_type": "code",
   "execution_count": 232,
   "id": "a47bb15e",
   "metadata": {},
   "outputs": [],
   "source": [
    "df_full['cost_doll'] = df_full.quantity * df_full.price\n",
    "df_full['cost_rub'] = df_full.cost_doll * df_full.currency_rate"
   ]
  },
  {
   "cell_type": "code",
   "execution_count": 233,
   "id": "2c7ca990",
   "metadata": {},
   "outputs": [
    {
     "data": {
      "text/html": [
       "<div>\n",
       "<style scoped>\n",
       "    .dataframe tbody tr th:only-of-type {\n",
       "        vertical-align: middle;\n",
       "    }\n",
       "\n",
       "    .dataframe tbody tr th {\n",
       "        vertical-align: top;\n",
       "    }\n",
       "\n",
       "    .dataframe thead th {\n",
       "        text-align: right;\n",
       "    }\n",
       "</style>\n",
       "<table border=\"1\" class=\"dataframe\">\n",
       "  <thead>\n",
       "    <tr style=\"text-align: right;\">\n",
       "      <th></th>\n",
       "      <th>order_id</th>\n",
       "      <th>product_id</th>\n",
       "      <th>quantity</th>\n",
       "      <th>manager</th>\n",
       "      <th>date</th>\n",
       "      <th>client_id</th>\n",
       "      <th>status</th>\n",
       "      <th>id</th>\n",
       "      <th>name</th>\n",
       "      <th>price</th>\n",
       "      <th>category</th>\n",
       "      <th>currency_rate</th>\n",
       "      <th>cost_doll</th>\n",
       "      <th>cost_rub</th>\n",
       "    </tr>\n",
       "  </thead>\n",
       "  <tbody>\n",
       "    <tr>\n",
       "      <th>0</th>\n",
       "      <td>QPLK-54839036</td>\n",
       "      <td>489</td>\n",
       "      <td>11</td>\n",
       "      <td>Владимир Ударников</td>\n",
       "      <td>2024-03-10</td>\n",
       "      <td>52</td>\n",
       "      <td>confirmed</td>\n",
       "      <td>489</td>\n",
       "      <td>Heco, Ambient 33F</td>\n",
       "      <td>290.74</td>\n",
       "      <td>Настенная акустика</td>\n",
       "      <td>90.7493</td>\n",
       "      <td>3198.14</td>\n",
       "      <td>2.902290e+05</td>\n",
       "    </tr>\n",
       "    <tr>\n",
       "      <th>1</th>\n",
       "      <td>QPLK-54839036</td>\n",
       "      <td>594</td>\n",
       "      <td>6</td>\n",
       "      <td>Владимир Ударников</td>\n",
       "      <td>2024-03-10</td>\n",
       "      <td>52</td>\n",
       "      <td>confirmed</td>\n",
       "      <td>594</td>\n",
       "      <td>JBL, Control 28-1</td>\n",
       "      <td>301.85</td>\n",
       "      <td>Настенная акустика</td>\n",
       "      <td>90.7493</td>\n",
       "      <td>1811.10</td>\n",
       "      <td>1.643561e+05</td>\n",
       "    </tr>\n",
       "    <tr>\n",
       "      <th>2</th>\n",
       "      <td>QPLK-54839036</td>\n",
       "      <td>670</td>\n",
       "      <td>16</td>\n",
       "      <td>Владимир Ударников</td>\n",
       "      <td>2024-03-10</td>\n",
       "      <td>52</td>\n",
       "      <td>confirmed</td>\n",
       "      <td>670</td>\n",
       "      <td>KEF, LSX Wireless</td>\n",
       "      <td>810.17</td>\n",
       "      <td>Беспроводная акустика</td>\n",
       "      <td>90.7493</td>\n",
       "      <td>12962.72</td>\n",
       "      <td>1.176358e+06</td>\n",
       "    </tr>\n",
       "    <tr>\n",
       "      <th>3</th>\n",
       "      <td>QPLK-54839036</td>\n",
       "      <td>469</td>\n",
       "      <td>9</td>\n",
       "      <td>Владимир Ударников</td>\n",
       "      <td>2024-03-10</td>\n",
       "      <td>52</td>\n",
       "      <td>confirmed</td>\n",
       "      <td>469</td>\n",
       "      <td>Heco, Studio Pro 10</td>\n",
       "      <td>82.34</td>\n",
       "      <td>Конденсаторный микрофон</td>\n",
       "      <td>90.7493</td>\n",
       "      <td>741.06</td>\n",
       "      <td>6.725068e+04</td>\n",
       "    </tr>\n",
       "    <tr>\n",
       "      <th>4</th>\n",
       "      <td>QPLK-54839036</td>\n",
       "      <td>1302</td>\n",
       "      <td>5</td>\n",
       "      <td>Владимир Ударников</td>\n",
       "      <td>2024-03-10</td>\n",
       "      <td>52</td>\n",
       "      <td>confirmed</td>\n",
       "      <td>1302</td>\n",
       "      <td>Rode, NT1-A</td>\n",
       "      <td>191.86</td>\n",
       "      <td>Конденсаторный микрофон</td>\n",
       "      <td>90.7493</td>\n",
       "      <td>959.30</td>\n",
       "      <td>8.705580e+04</td>\n",
       "    </tr>\n",
       "  </tbody>\n",
       "</table>\n",
       "</div>"
      ],
      "text/plain": [
       "        order_id  product_id  quantity             manager       date  \\\n",
       "0  QPLK-54839036         489        11  Владимир Ударников 2024-03-10   \n",
       "1  QPLK-54839036         594         6  Владимир Ударников 2024-03-10   \n",
       "2  QPLK-54839036         670        16  Владимир Ударников 2024-03-10   \n",
       "3  QPLK-54839036         469         9  Владимир Ударников 2024-03-10   \n",
       "4  QPLK-54839036        1302         5  Владимир Ударников 2024-03-10   \n",
       "\n",
       "   client_id     status    id                 name   price  \\\n",
       "0         52  confirmed   489    Heco, Ambient 33F  290.74   \n",
       "1         52  confirmed   594    JBL, Control 28-1  301.85   \n",
       "2         52  confirmed   670    KEF, LSX Wireless  810.17   \n",
       "3         52  confirmed   469  Heco, Studio Pro 10   82.34   \n",
       "4         52  confirmed  1302          Rode, NT1-A  191.86   \n",
       "\n",
       "                  category  currency_rate  cost_doll      cost_rub  \n",
       "0       Настенная акустика        90.7493    3198.14  2.902290e+05  \n",
       "1       Настенная акустика        90.7493    1811.10  1.643561e+05  \n",
       "2    Беспроводная акустика        90.7493   12962.72  1.176358e+06  \n",
       "3  Конденсаторный микрофон        90.7493     741.06  6.725068e+04  \n",
       "4  Конденсаторный микрофон        90.7493     959.30  8.705580e+04  "
      ]
     },
     "execution_count": 233,
     "metadata": {},
     "output_type": "execute_result"
    }
   ],
   "source": [
    "df_full.head()"
   ]
  },
  {
   "cell_type": "code",
   "execution_count": 234,
   "id": "8f5f6968",
   "metadata": {},
   "outputs": [],
   "source": [
    "df_success = df_full.query('status == \"confirmed\"')"
   ]
  },
  {
   "cell_type": "code",
   "execution_count": 235,
   "id": "656c88be",
   "metadata": {},
   "outputs": [
    {
     "name": "stdout",
     "output_type": "stream",
     "text": [
      "Общая выручка = 2038231821.56\n"
     ]
    }
   ],
   "source": [
    "revenue = round((df_success.cost_rub.sum()), 2)\n",
    "print(f'Общая выручка = {revenue}')"
   ]
  },
  {
   "cell_type": "markdown",
   "id": "3a1a34bd",
   "metadata": {},
   "source": [
    "### 3.2 Средний чек:"
   ]
  },
  {
   "cell_type": "code",
   "execution_count": 236,
   "id": "d5be6a8b",
   "metadata": {},
   "outputs": [
    {
     "name": "stdout",
     "output_type": "stream",
     "text": [
      "Средний чек = 6596219.49\n"
     ]
    }
   ],
   "source": [
    "average_bill = round((2038231821.564864 / 309), 2)\n",
    "print(f'Средний чек = {average_bill}')"
   ]
  },
  {
   "cell_type": "markdown",
   "id": "cfdf0766",
   "metadata": {},
   "source": [
    "### 3.3 Посмотрим на динамику этих метрик внутри месяца по дням"
   ]
  },
  {
   "cell_type": "code",
   "execution_count": 237,
   "id": "f32892c1",
   "metadata": {},
   "outputs": [],
   "source": [
    "orders_by_day = df_full.groupby(['date', 'order_id'], as_index=False)  \\\n",
    "    .agg({'product_id': 'count', 'cost_rub': 'sum'}) \n",
    "\n",
    "orders_by_day = orders_by_day.drop(columns = ['product_id'])"
   ]
  },
  {
   "cell_type": "code",
   "execution_count": 238,
   "id": "baf0c3cb",
   "metadata": {},
   "outputs": [
    {
     "data": {
      "text/html": [
       "<div>\n",
       "<style scoped>\n",
       "    .dataframe tbody tr th:only-of-type {\n",
       "        vertical-align: middle;\n",
       "    }\n",
       "\n",
       "    .dataframe tbody tr th {\n",
       "        vertical-align: top;\n",
       "    }\n",
       "\n",
       "    .dataframe thead th {\n",
       "        text-align: right;\n",
       "    }\n",
       "</style>\n",
       "<table border=\"1\" class=\"dataframe\">\n",
       "  <thead>\n",
       "    <tr style=\"text-align: right;\">\n",
       "      <th></th>\n",
       "      <th>date</th>\n",
       "      <th>order_id</th>\n",
       "      <th>cost_rub</th>\n",
       "    </tr>\n",
       "  </thead>\n",
       "  <tbody>\n",
       "    <tr>\n",
       "      <th>0</th>\n",
       "      <td>2024-03-01</td>\n",
       "      <td>AWYQ-42527250</td>\n",
       "      <td>5.945688e+06</td>\n",
       "    </tr>\n",
       "    <tr>\n",
       "      <th>1</th>\n",
       "      <td>2024-03-01</td>\n",
       "      <td>BWJC-51197045</td>\n",
       "      <td>3.742466e+06</td>\n",
       "    </tr>\n",
       "    <tr>\n",
       "      <th>2</th>\n",
       "      <td>2024-03-01</td>\n",
       "      <td>BXYD-83177339</td>\n",
       "      <td>3.346265e+06</td>\n",
       "    </tr>\n",
       "    <tr>\n",
       "      <th>3</th>\n",
       "      <td>2024-03-01</td>\n",
       "      <td>BZHU-92977894</td>\n",
       "      <td>1.016148e+07</td>\n",
       "    </tr>\n",
       "    <tr>\n",
       "      <th>4</th>\n",
       "      <td>2024-03-01</td>\n",
       "      <td>CGLU-02678560</td>\n",
       "      <td>2.207839e+06</td>\n",
       "    </tr>\n",
       "  </tbody>\n",
       "</table>\n",
       "</div>"
      ],
      "text/plain": [
       "        date       order_id      cost_rub\n",
       "0 2024-03-01  AWYQ-42527250  5.945688e+06\n",
       "1 2024-03-01  BWJC-51197045  3.742466e+06\n",
       "2 2024-03-01  BXYD-83177339  3.346265e+06\n",
       "3 2024-03-01  BZHU-92977894  1.016148e+07\n",
       "4 2024-03-01  CGLU-02678560  2.207839e+06"
      ]
     },
     "execution_count": 238,
     "metadata": {},
     "output_type": "execute_result"
    }
   ],
   "source": [
    "orders_by_day.head()"
   ]
  },
  {
   "cell_type": "code",
   "execution_count": 239,
   "id": "d92158ed",
   "metadata": {},
   "outputs": [],
   "source": [
    "all_orders_by_day = orders_by_day.groupby('date').agg({'order_id': 'count', 'cost_rub': 'sum'})\n",
    "# Считаем количчество заказов и сумму на каждый день "
   ]
  },
  {
   "cell_type": "code",
   "execution_count": 240,
   "id": "a3a552a4",
   "metadata": {},
   "outputs": [],
   "source": [
    "all_orders_by_day = all_orders_by_day.rename(columns = {'order_id': 'all_orders'}) "
   ]
  },
  {
   "cell_type": "code",
   "execution_count": 241,
   "id": "18eee7f5",
   "metadata": {},
   "outputs": [
    {
     "data": {
      "text/html": [
       "<div>\n",
       "<style scoped>\n",
       "    .dataframe tbody tr th:only-of-type {\n",
       "        vertical-align: middle;\n",
       "    }\n",
       "\n",
       "    .dataframe tbody tr th {\n",
       "        vertical-align: top;\n",
       "    }\n",
       "\n",
       "    .dataframe thead th {\n",
       "        text-align: right;\n",
       "    }\n",
       "</style>\n",
       "<table border=\"1\" class=\"dataframe\">\n",
       "  <thead>\n",
       "    <tr style=\"text-align: right;\">\n",
       "      <th></th>\n",
       "      <th>all_orders</th>\n",
       "      <th>cost_rub</th>\n",
       "    </tr>\n",
       "    <tr>\n",
       "      <th>date</th>\n",
       "      <th></th>\n",
       "      <th></th>\n",
       "    </tr>\n",
       "  </thead>\n",
       "  <tbody>\n",
       "    <tr>\n",
       "      <th>2024-03-01</th>\n",
       "      <td>22</td>\n",
       "      <td>1.677811e+08</td>\n",
       "    </tr>\n",
       "    <tr>\n",
       "      <th>2024-03-02</th>\n",
       "      <td>2</td>\n",
       "      <td>1.197167e+07</td>\n",
       "    </tr>\n",
       "    <tr>\n",
       "      <th>2024-03-03</th>\n",
       "      <td>1</td>\n",
       "      <td>2.548418e+06</td>\n",
       "    </tr>\n",
       "    <tr>\n",
       "      <th>2024-03-04</th>\n",
       "      <td>10</td>\n",
       "      <td>6.404993e+07</td>\n",
       "    </tr>\n",
       "    <tr>\n",
       "      <th>2024-03-05</th>\n",
       "      <td>18</td>\n",
       "      <td>8.952724e+07</td>\n",
       "    </tr>\n",
       "  </tbody>\n",
       "</table>\n",
       "</div>"
      ],
      "text/plain": [
       "            all_orders      cost_rub\n",
       "date                                \n",
       "2024-03-01          22  1.677811e+08\n",
       "2024-03-02           2  1.197167e+07\n",
       "2024-03-03           1  2.548418e+06\n",
       "2024-03-04          10  6.404993e+07\n",
       "2024-03-05          18  8.952724e+07"
      ]
     },
     "execution_count": 241,
     "metadata": {},
     "output_type": "execute_result"
    }
   ],
   "source": [
    "all_orders_by_day.head()"
   ]
  },
  {
   "cell_type": "code",
   "execution_count": 242,
   "id": "66b9be74",
   "metadata": {},
   "outputs": [],
   "source": [
    "# Оставляем только успешные заказы\n",
    "df_success = df_full.query('status == \"confirmed\"')"
   ]
  },
  {
   "cell_type": "code",
   "execution_count": 243,
   "id": "862bd0b8",
   "metadata": {},
   "outputs": [],
   "source": [
    "# Считаем количество успешных заказов на каждый день\n",
    "success_orders_by_day = df_success.groupby(['date', 'order_id'], as_index=False)  \\\n",
    "    .agg({'product_id': 'count', 'cost_rub': 'sum'}) \n",
    "\n",
    "success_orders_by_day = success_orders_by_day.drop(columns = ['product_id'])"
   ]
  },
  {
   "cell_type": "code",
   "execution_count": 244,
   "id": "e50ec8d8",
   "metadata": {},
   "outputs": [],
   "source": [
    "# Групируем по дате\n",
    "success_orders_by_day = success_orders_by_day.groupby('date').agg({'order_id': 'count'})"
   ]
  },
  {
   "cell_type": "code",
   "execution_count": 245,
   "id": "fe963a20",
   "metadata": {},
   "outputs": [],
   "source": [
    "success_orders_by_day = success_orders_by_day.rename(columns={'order_id': 'success_orders'})"
   ]
  },
  {
   "cell_type": "code",
   "execution_count": 246,
   "id": "fb807933",
   "metadata": {},
   "outputs": [],
   "source": [
    "# Объединяем с таблицей, где посчитали количество всез заказов и сумму продаж\n",
    "orders_by_day = success_orders_by_day.merge(all_orders_by_day, how='inner', on='date')"
   ]
  },
  {
   "cell_type": "code",
   "execution_count": 247,
   "id": "7d7ae84f",
   "metadata": {},
   "outputs": [],
   "source": [
    "# Расчитываем выручку в каждый день\n",
    "orders_by_day = orders_by_day.rename(columns={'cost_rub': 'revenue_by_day'})"
   ]
  },
  {
   "cell_type": "code",
   "execution_count": 248,
   "id": "02e0ae5a",
   "metadata": {},
   "outputs": [],
   "source": [
    "# Расчитываем средний чек в каждый день\n",
    "orders_by_day['average_bill'] = (orders_by_day.revenue_by_day / orders_by_day.success_orders).round(2)"
   ]
  },
  {
   "cell_type": "code",
   "execution_count": 249,
   "id": "cdc17acd",
   "metadata": {},
   "outputs": [],
   "source": [
    "# Собираем таблицу с данными по количсетву успешных заказов\n",
    "orders_count_by_day = orders_by_day.drop(columns = ['revenue_by_day', 'average_bill'])"
   ]
  },
  {
   "cell_type": "code",
   "execution_count": 250,
   "id": "e295361e",
   "metadata": {},
   "outputs": [],
   "source": [
    "orders_by_day = orders_by_day.drop(columns = ['success_orders', 'all_orders'])"
   ]
  },
  {
   "cell_type": "code",
   "execution_count": 251,
   "id": "71d09395",
   "metadata": {},
   "outputs": [
    {
     "data": {
      "text/html": [
       "<div>\n",
       "<style scoped>\n",
       "    .dataframe tbody tr th:only-of-type {\n",
       "        vertical-align: middle;\n",
       "    }\n",
       "\n",
       "    .dataframe tbody tr th {\n",
       "        vertical-align: top;\n",
       "    }\n",
       "\n",
       "    .dataframe thead th {\n",
       "        text-align: right;\n",
       "    }\n",
       "</style>\n",
       "<table border=\"1\" class=\"dataframe\">\n",
       "  <thead>\n",
       "    <tr style=\"text-align: right;\">\n",
       "      <th></th>\n",
       "      <th>success_orders</th>\n",
       "      <th>all_orders</th>\n",
       "    </tr>\n",
       "    <tr>\n",
       "      <th>date</th>\n",
       "      <th></th>\n",
       "      <th></th>\n",
       "    </tr>\n",
       "  </thead>\n",
       "  <tbody>\n",
       "    <tr>\n",
       "      <th>2024-03-01</th>\n",
       "      <td>20</td>\n",
       "      <td>22</td>\n",
       "    </tr>\n",
       "    <tr>\n",
       "      <th>2024-03-02</th>\n",
       "      <td>2</td>\n",
       "      <td>2</td>\n",
       "    </tr>\n",
       "    <tr>\n",
       "      <th>2024-03-03</th>\n",
       "      <td>1</td>\n",
       "      <td>1</td>\n",
       "    </tr>\n",
       "    <tr>\n",
       "      <th>2024-03-04</th>\n",
       "      <td>10</td>\n",
       "      <td>10</td>\n",
       "    </tr>\n",
       "    <tr>\n",
       "      <th>2024-03-05</th>\n",
       "      <td>18</td>\n",
       "      <td>18</td>\n",
       "    </tr>\n",
       "  </tbody>\n",
       "</table>\n",
       "</div>"
      ],
      "text/plain": [
       "            success_orders  all_orders\n",
       "date                                  \n",
       "2024-03-01              20          22\n",
       "2024-03-02               2           2\n",
       "2024-03-03               1           1\n",
       "2024-03-04              10          10\n",
       "2024-03-05              18          18"
      ]
     },
     "execution_count": 251,
     "metadata": {},
     "output_type": "execute_result"
    }
   ],
   "source": [
    "orders_count_by_day.head()"
   ]
  },
  {
   "cell_type": "code",
   "execution_count": 252,
   "id": "118e3d48",
   "metadata": {},
   "outputs": [],
   "source": [
    "import plotly.express as px"
   ]
  },
  {
   "cell_type": "code",
   "execution_count": 253,
   "id": "c16248c7",
   "metadata": {},
   "outputs": [
    {
     "data": {
      "application/vnd.plotly.v1+json": {
       "config": {
        "plotlyServerURL": "https://plot.ly"
       },
       "data": [
        {
         "hovertemplate": "variable=success_orders<br>date=%{x}<br>value=%{y}<extra></extra>",
         "legendgroup": "success_orders",
         "line": {
          "color": "#636efa",
          "dash": "solid"
         },
         "mode": "lines",
         "name": "success_orders",
         "orientation": "v",
         "showlegend": true,
         "type": "scatter",
         "x": [
          "2024-03-01T00:00:00",
          "2024-03-02T00:00:00",
          "2024-03-03T00:00:00",
          "2024-03-04T00:00:00",
          "2024-03-05T00:00:00",
          "2024-03-06T00:00:00",
          "2024-03-07T00:00:00",
          "2024-03-08T00:00:00",
          "2024-03-10T00:00:00",
          "2024-03-11T00:00:00",
          "2024-03-12T00:00:00",
          "2024-03-13T00:00:00",
          "2024-03-14T00:00:00",
          "2024-03-15T00:00:00",
          "2024-03-16T00:00:00",
          "2024-03-17T00:00:00",
          "2024-03-18T00:00:00",
          "2024-03-19T00:00:00",
          "2024-03-20T00:00:00",
          "2024-03-21T00:00:00",
          "2024-03-22T00:00:00",
          "2024-03-23T00:00:00",
          "2024-03-24T00:00:00",
          "2024-03-25T00:00:00",
          "2024-03-26T00:00:00",
          "2024-03-27T00:00:00",
          "2024-03-28T00:00:00",
          "2024-03-29T00:00:00",
          "2024-03-30T00:00:00",
          "2024-03-31T00:00:00"
         ],
         "xaxis": "x",
         "y": [
          20,
          2,
          1,
          10,
          18,
          13,
          13,
          1,
          2,
          11,
          13,
          5,
          34,
          16,
          2,
          3,
          12,
          13,
          12,
          11,
          16,
          3,
          2,
          8,
          16,
          18,
          12,
          19,
          2,
          1
         ],
         "yaxis": "y"
        },
        {
         "hovertemplate": "variable=all_orders<br>date=%{x}<br>value=%{y}<extra></extra>",
         "legendgroup": "all_orders",
         "line": {
          "color": "#EF553B",
          "dash": "solid"
         },
         "mode": "lines",
         "name": "all_orders",
         "orientation": "v",
         "showlegend": true,
         "type": "scatter",
         "x": [
          "2024-03-01T00:00:00",
          "2024-03-02T00:00:00",
          "2024-03-03T00:00:00",
          "2024-03-04T00:00:00",
          "2024-03-05T00:00:00",
          "2024-03-06T00:00:00",
          "2024-03-07T00:00:00",
          "2024-03-08T00:00:00",
          "2024-03-10T00:00:00",
          "2024-03-11T00:00:00",
          "2024-03-12T00:00:00",
          "2024-03-13T00:00:00",
          "2024-03-14T00:00:00",
          "2024-03-15T00:00:00",
          "2024-03-16T00:00:00",
          "2024-03-17T00:00:00",
          "2024-03-18T00:00:00",
          "2024-03-19T00:00:00",
          "2024-03-20T00:00:00",
          "2024-03-21T00:00:00",
          "2024-03-22T00:00:00",
          "2024-03-23T00:00:00",
          "2024-03-24T00:00:00",
          "2024-03-25T00:00:00",
          "2024-03-26T00:00:00",
          "2024-03-27T00:00:00",
          "2024-03-28T00:00:00",
          "2024-03-29T00:00:00",
          "2024-03-30T00:00:00",
          "2024-03-31T00:00:00"
         ],
         "xaxis": "x",
         "y": [
          22,
          2,
          1,
          10,
          18,
          14,
          14,
          1,
          3,
          12,
          15,
          24,
          34,
          17,
          2,
          3,
          12,
          15,
          14,
          13,
          16,
          3,
          2,
          9,
          17,
          18,
          12,
          19,
          2,
          1
         ],
         "yaxis": "y"
        }
       ],
       "layout": {
        "legend": {
         "title": {
          "text": "variable"
         },
         "tracegroupgap": 0
        },
        "margin": {
         "t": 60
        },
        "template": {
         "data": {
          "bar": [
           {
            "error_x": {
             "color": "#2a3f5f"
            },
            "error_y": {
             "color": "#2a3f5f"
            },
            "marker": {
             "line": {
              "color": "#E5ECF6",
              "width": 0.5
             }
            },
            "type": "bar"
           }
          ],
          "barpolar": [
           {
            "marker": {
             "line": {
              "color": "#E5ECF6",
              "width": 0.5
             }
            },
            "type": "barpolar"
           }
          ],
          "carpet": [
           {
            "aaxis": {
             "endlinecolor": "#2a3f5f",
             "gridcolor": "white",
             "linecolor": "white",
             "minorgridcolor": "white",
             "startlinecolor": "#2a3f5f"
            },
            "baxis": {
             "endlinecolor": "#2a3f5f",
             "gridcolor": "white",
             "linecolor": "white",
             "minorgridcolor": "white",
             "startlinecolor": "#2a3f5f"
            },
            "type": "carpet"
           }
          ],
          "choropleth": [
           {
            "colorbar": {
             "outlinewidth": 0,
             "ticks": ""
            },
            "type": "choropleth"
           }
          ],
          "contour": [
           {
            "colorbar": {
             "outlinewidth": 0,
             "ticks": ""
            },
            "colorscale": [
             [
              0,
              "#0d0887"
             ],
             [
              0.1111111111111111,
              "#46039f"
             ],
             [
              0.2222222222222222,
              "#7201a8"
             ],
             [
              0.3333333333333333,
              "#9c179e"
             ],
             [
              0.4444444444444444,
              "#bd3786"
             ],
             [
              0.5555555555555556,
              "#d8576b"
             ],
             [
              0.6666666666666666,
              "#ed7953"
             ],
             [
              0.7777777777777778,
              "#fb9f3a"
             ],
             [
              0.8888888888888888,
              "#fdca26"
             ],
             [
              1,
              "#f0f921"
             ]
            ],
            "type": "contour"
           }
          ],
          "contourcarpet": [
           {
            "colorbar": {
             "outlinewidth": 0,
             "ticks": ""
            },
            "type": "contourcarpet"
           }
          ],
          "heatmap": [
           {
            "colorbar": {
             "outlinewidth": 0,
             "ticks": ""
            },
            "colorscale": [
             [
              0,
              "#0d0887"
             ],
             [
              0.1111111111111111,
              "#46039f"
             ],
             [
              0.2222222222222222,
              "#7201a8"
             ],
             [
              0.3333333333333333,
              "#9c179e"
             ],
             [
              0.4444444444444444,
              "#bd3786"
             ],
             [
              0.5555555555555556,
              "#d8576b"
             ],
             [
              0.6666666666666666,
              "#ed7953"
             ],
             [
              0.7777777777777778,
              "#fb9f3a"
             ],
             [
              0.8888888888888888,
              "#fdca26"
             ],
             [
              1,
              "#f0f921"
             ]
            ],
            "type": "heatmap"
           }
          ],
          "heatmapgl": [
           {
            "colorbar": {
             "outlinewidth": 0,
             "ticks": ""
            },
            "colorscale": [
             [
              0,
              "#0d0887"
             ],
             [
              0.1111111111111111,
              "#46039f"
             ],
             [
              0.2222222222222222,
              "#7201a8"
             ],
             [
              0.3333333333333333,
              "#9c179e"
             ],
             [
              0.4444444444444444,
              "#bd3786"
             ],
             [
              0.5555555555555556,
              "#d8576b"
             ],
             [
              0.6666666666666666,
              "#ed7953"
             ],
             [
              0.7777777777777778,
              "#fb9f3a"
             ],
             [
              0.8888888888888888,
              "#fdca26"
             ],
             [
              1,
              "#f0f921"
             ]
            ],
            "type": "heatmapgl"
           }
          ],
          "histogram": [
           {
            "marker": {
             "colorbar": {
              "outlinewidth": 0,
              "ticks": ""
             }
            },
            "type": "histogram"
           }
          ],
          "histogram2d": [
           {
            "colorbar": {
             "outlinewidth": 0,
             "ticks": ""
            },
            "colorscale": [
             [
              0,
              "#0d0887"
             ],
             [
              0.1111111111111111,
              "#46039f"
             ],
             [
              0.2222222222222222,
              "#7201a8"
             ],
             [
              0.3333333333333333,
              "#9c179e"
             ],
             [
              0.4444444444444444,
              "#bd3786"
             ],
             [
              0.5555555555555556,
              "#d8576b"
             ],
             [
              0.6666666666666666,
              "#ed7953"
             ],
             [
              0.7777777777777778,
              "#fb9f3a"
             ],
             [
              0.8888888888888888,
              "#fdca26"
             ],
             [
              1,
              "#f0f921"
             ]
            ],
            "type": "histogram2d"
           }
          ],
          "histogram2dcontour": [
           {
            "colorbar": {
             "outlinewidth": 0,
             "ticks": ""
            },
            "colorscale": [
             [
              0,
              "#0d0887"
             ],
             [
              0.1111111111111111,
              "#46039f"
             ],
             [
              0.2222222222222222,
              "#7201a8"
             ],
             [
              0.3333333333333333,
              "#9c179e"
             ],
             [
              0.4444444444444444,
              "#bd3786"
             ],
             [
              0.5555555555555556,
              "#d8576b"
             ],
             [
              0.6666666666666666,
              "#ed7953"
             ],
             [
              0.7777777777777778,
              "#fb9f3a"
             ],
             [
              0.8888888888888888,
              "#fdca26"
             ],
             [
              1,
              "#f0f921"
             ]
            ],
            "type": "histogram2dcontour"
           }
          ],
          "mesh3d": [
           {
            "colorbar": {
             "outlinewidth": 0,
             "ticks": ""
            },
            "type": "mesh3d"
           }
          ],
          "parcoords": [
           {
            "line": {
             "colorbar": {
              "outlinewidth": 0,
              "ticks": ""
             }
            },
            "type": "parcoords"
           }
          ],
          "pie": [
           {
            "automargin": true,
            "type": "pie"
           }
          ],
          "scatter": [
           {
            "marker": {
             "colorbar": {
              "outlinewidth": 0,
              "ticks": ""
             }
            },
            "type": "scatter"
           }
          ],
          "scatter3d": [
           {
            "line": {
             "colorbar": {
              "outlinewidth": 0,
              "ticks": ""
             }
            },
            "marker": {
             "colorbar": {
              "outlinewidth": 0,
              "ticks": ""
             }
            },
            "type": "scatter3d"
           }
          ],
          "scattercarpet": [
           {
            "marker": {
             "colorbar": {
              "outlinewidth": 0,
              "ticks": ""
             }
            },
            "type": "scattercarpet"
           }
          ],
          "scattergeo": [
           {
            "marker": {
             "colorbar": {
              "outlinewidth": 0,
              "ticks": ""
             }
            },
            "type": "scattergeo"
           }
          ],
          "scattergl": [
           {
            "marker": {
             "colorbar": {
              "outlinewidth": 0,
              "ticks": ""
             }
            },
            "type": "scattergl"
           }
          ],
          "scattermapbox": [
           {
            "marker": {
             "colorbar": {
              "outlinewidth": 0,
              "ticks": ""
             }
            },
            "type": "scattermapbox"
           }
          ],
          "scatterpolar": [
           {
            "marker": {
             "colorbar": {
              "outlinewidth": 0,
              "ticks": ""
             }
            },
            "type": "scatterpolar"
           }
          ],
          "scatterpolargl": [
           {
            "marker": {
             "colorbar": {
              "outlinewidth": 0,
              "ticks": ""
             }
            },
            "type": "scatterpolargl"
           }
          ],
          "scatterternary": [
           {
            "marker": {
             "colorbar": {
              "outlinewidth": 0,
              "ticks": ""
             }
            },
            "type": "scatterternary"
           }
          ],
          "surface": [
           {
            "colorbar": {
             "outlinewidth": 0,
             "ticks": ""
            },
            "colorscale": [
             [
              0,
              "#0d0887"
             ],
             [
              0.1111111111111111,
              "#46039f"
             ],
             [
              0.2222222222222222,
              "#7201a8"
             ],
             [
              0.3333333333333333,
              "#9c179e"
             ],
             [
              0.4444444444444444,
              "#bd3786"
             ],
             [
              0.5555555555555556,
              "#d8576b"
             ],
             [
              0.6666666666666666,
              "#ed7953"
             ],
             [
              0.7777777777777778,
              "#fb9f3a"
             ],
             [
              0.8888888888888888,
              "#fdca26"
             ],
             [
              1,
              "#f0f921"
             ]
            ],
            "type": "surface"
           }
          ],
          "table": [
           {
            "cells": {
             "fill": {
              "color": "#EBF0F8"
             },
             "line": {
              "color": "white"
             }
            },
            "header": {
             "fill": {
              "color": "#C8D4E3"
             },
             "line": {
              "color": "white"
             }
            },
            "type": "table"
           }
          ]
         },
         "layout": {
          "annotationdefaults": {
           "arrowcolor": "#2a3f5f",
           "arrowhead": 0,
           "arrowwidth": 1
          },
          "coloraxis": {
           "colorbar": {
            "outlinewidth": 0,
            "ticks": ""
           }
          },
          "colorscale": {
           "diverging": [
            [
             0,
             "#8e0152"
            ],
            [
             0.1,
             "#c51b7d"
            ],
            [
             0.2,
             "#de77ae"
            ],
            [
             0.3,
             "#f1b6da"
            ],
            [
             0.4,
             "#fde0ef"
            ],
            [
             0.5,
             "#f7f7f7"
            ],
            [
             0.6,
             "#e6f5d0"
            ],
            [
             0.7,
             "#b8e186"
            ],
            [
             0.8,
             "#7fbc41"
            ],
            [
             0.9,
             "#4d9221"
            ],
            [
             1,
             "#276419"
            ]
           ],
           "sequential": [
            [
             0,
             "#0d0887"
            ],
            [
             0.1111111111111111,
             "#46039f"
            ],
            [
             0.2222222222222222,
             "#7201a8"
            ],
            [
             0.3333333333333333,
             "#9c179e"
            ],
            [
             0.4444444444444444,
             "#bd3786"
            ],
            [
             0.5555555555555556,
             "#d8576b"
            ],
            [
             0.6666666666666666,
             "#ed7953"
            ],
            [
             0.7777777777777778,
             "#fb9f3a"
            ],
            [
             0.8888888888888888,
             "#fdca26"
            ],
            [
             1,
             "#f0f921"
            ]
           ],
           "sequentialminus": [
            [
             0,
             "#0d0887"
            ],
            [
             0.1111111111111111,
             "#46039f"
            ],
            [
             0.2222222222222222,
             "#7201a8"
            ],
            [
             0.3333333333333333,
             "#9c179e"
            ],
            [
             0.4444444444444444,
             "#bd3786"
            ],
            [
             0.5555555555555556,
             "#d8576b"
            ],
            [
             0.6666666666666666,
             "#ed7953"
            ],
            [
             0.7777777777777778,
             "#fb9f3a"
            ],
            [
             0.8888888888888888,
             "#fdca26"
            ],
            [
             1,
             "#f0f921"
            ]
           ]
          },
          "colorway": [
           "#636efa",
           "#EF553B",
           "#00cc96",
           "#ab63fa",
           "#FFA15A",
           "#19d3f3",
           "#FF6692",
           "#B6E880",
           "#FF97FF",
           "#FECB52"
          ],
          "font": {
           "color": "#2a3f5f"
          },
          "geo": {
           "bgcolor": "white",
           "lakecolor": "white",
           "landcolor": "#E5ECF6",
           "showlakes": true,
           "showland": true,
           "subunitcolor": "white"
          },
          "hoverlabel": {
           "align": "left"
          },
          "hovermode": "closest",
          "mapbox": {
           "style": "light"
          },
          "paper_bgcolor": "white",
          "plot_bgcolor": "#E5ECF6",
          "polar": {
           "angularaxis": {
            "gridcolor": "white",
            "linecolor": "white",
            "ticks": ""
           },
           "bgcolor": "#E5ECF6",
           "radialaxis": {
            "gridcolor": "white",
            "linecolor": "white",
            "ticks": ""
           }
          },
          "scene": {
           "xaxis": {
            "backgroundcolor": "#E5ECF6",
            "gridcolor": "white",
            "gridwidth": 2,
            "linecolor": "white",
            "showbackground": true,
            "ticks": "",
            "zerolinecolor": "white"
           },
           "yaxis": {
            "backgroundcolor": "#E5ECF6",
            "gridcolor": "white",
            "gridwidth": 2,
            "linecolor": "white",
            "showbackground": true,
            "ticks": "",
            "zerolinecolor": "white"
           },
           "zaxis": {
            "backgroundcolor": "#E5ECF6",
            "gridcolor": "white",
            "gridwidth": 2,
            "linecolor": "white",
            "showbackground": true,
            "ticks": "",
            "zerolinecolor": "white"
           }
          },
          "shapedefaults": {
           "line": {
            "color": "#2a3f5f"
           }
          },
          "ternary": {
           "aaxis": {
            "gridcolor": "white",
            "linecolor": "white",
            "ticks": ""
           },
           "baxis": {
            "gridcolor": "white",
            "linecolor": "white",
            "ticks": ""
           },
           "bgcolor": "#E5ECF6",
           "caxis": {
            "gridcolor": "white",
            "linecolor": "white",
            "ticks": ""
           }
          },
          "title": {
           "x": 0.05
          },
          "xaxis": {
           "automargin": true,
           "gridcolor": "white",
           "linecolor": "white",
           "ticks": "",
           "title": {
            "standoff": 15
           },
           "zerolinecolor": "white",
           "zerolinewidth": 2
          },
          "yaxis": {
           "automargin": true,
           "gridcolor": "white",
           "linecolor": "white",
           "ticks": "",
           "title": {
            "standoff": 15
           },
           "zerolinecolor": "white",
           "zerolinewidth": 2
          }
         }
        },
        "xaxis": {
         "anchor": "y",
         "domain": [
          0,
          1
         ],
         "title": {
          "text": "date"
         }
        },
        "yaxis": {
         "anchor": "x",
         "domain": [
          0,
          1
         ],
         "title": {
          "text": "value"
         }
        }
       }
      },
      "text/html": [
       "<div>\n",
       "        \n",
       "        \n",
       "            <div id=\"982738f5-61d4-4050-b36c-0ee8c99546f8\" class=\"plotly-graph-div\" style=\"height:525px; width:100%;\"></div>\n",
       "            <script type=\"text/javascript\">\n",
       "                require([\"plotly\"], function(Plotly) {\n",
       "                    window.PLOTLYENV=window.PLOTLYENV || {};\n",
       "                    \n",
       "                if (document.getElementById(\"982738f5-61d4-4050-b36c-0ee8c99546f8\")) {\n",
       "                    Plotly.newPlot(\n",
       "                        '982738f5-61d4-4050-b36c-0ee8c99546f8',\n",
       "                        [{\"hovertemplate\": \"variable=success_orders<br>date=%{x}<br>value=%{y}<extra></extra>\", \"legendgroup\": \"success_orders\", \"line\": {\"color\": \"#636efa\", \"dash\": \"solid\"}, \"mode\": \"lines\", \"name\": \"success_orders\", \"orientation\": \"v\", \"showlegend\": true, \"type\": \"scatter\", \"x\": [\"2024-03-01T00:00:00\", \"2024-03-02T00:00:00\", \"2024-03-03T00:00:00\", \"2024-03-04T00:00:00\", \"2024-03-05T00:00:00\", \"2024-03-06T00:00:00\", \"2024-03-07T00:00:00\", \"2024-03-08T00:00:00\", \"2024-03-10T00:00:00\", \"2024-03-11T00:00:00\", \"2024-03-12T00:00:00\", \"2024-03-13T00:00:00\", \"2024-03-14T00:00:00\", \"2024-03-15T00:00:00\", \"2024-03-16T00:00:00\", \"2024-03-17T00:00:00\", \"2024-03-18T00:00:00\", \"2024-03-19T00:00:00\", \"2024-03-20T00:00:00\", \"2024-03-21T00:00:00\", \"2024-03-22T00:00:00\", \"2024-03-23T00:00:00\", \"2024-03-24T00:00:00\", \"2024-03-25T00:00:00\", \"2024-03-26T00:00:00\", \"2024-03-27T00:00:00\", \"2024-03-28T00:00:00\", \"2024-03-29T00:00:00\", \"2024-03-30T00:00:00\", \"2024-03-31T00:00:00\"], \"xaxis\": \"x\", \"y\": [20, 2, 1, 10, 18, 13, 13, 1, 2, 11, 13, 5, 34, 16, 2, 3, 12, 13, 12, 11, 16, 3, 2, 8, 16, 18, 12, 19, 2, 1], \"yaxis\": \"y\"}, {\"hovertemplate\": \"variable=all_orders<br>date=%{x}<br>value=%{y}<extra></extra>\", \"legendgroup\": \"all_orders\", \"line\": {\"color\": \"#EF553B\", \"dash\": \"solid\"}, \"mode\": \"lines\", \"name\": \"all_orders\", \"orientation\": \"v\", \"showlegend\": true, \"type\": \"scatter\", \"x\": [\"2024-03-01T00:00:00\", \"2024-03-02T00:00:00\", \"2024-03-03T00:00:00\", \"2024-03-04T00:00:00\", \"2024-03-05T00:00:00\", \"2024-03-06T00:00:00\", \"2024-03-07T00:00:00\", \"2024-03-08T00:00:00\", \"2024-03-10T00:00:00\", \"2024-03-11T00:00:00\", \"2024-03-12T00:00:00\", \"2024-03-13T00:00:00\", \"2024-03-14T00:00:00\", \"2024-03-15T00:00:00\", \"2024-03-16T00:00:00\", \"2024-03-17T00:00:00\", \"2024-03-18T00:00:00\", \"2024-03-19T00:00:00\", \"2024-03-20T00:00:00\", \"2024-03-21T00:00:00\", \"2024-03-22T00:00:00\", \"2024-03-23T00:00:00\", \"2024-03-24T00:00:00\", \"2024-03-25T00:00:00\", \"2024-03-26T00:00:00\", \"2024-03-27T00:00:00\", \"2024-03-28T00:00:00\", \"2024-03-29T00:00:00\", \"2024-03-30T00:00:00\", \"2024-03-31T00:00:00\"], \"xaxis\": \"x\", \"y\": [22, 2, 1, 10, 18, 14, 14, 1, 3, 12, 15, 24, 34, 17, 2, 3, 12, 15, 14, 13, 16, 3, 2, 9, 17, 18, 12, 19, 2, 1], \"yaxis\": \"y\"}],\n",
       "                        {\"legend\": {\"title\": {\"text\": \"variable\"}, \"tracegroupgap\": 0}, \"margin\": {\"t\": 60}, \"template\": {\"data\": {\"bar\": [{\"error_x\": {\"color\": \"#2a3f5f\"}, \"error_y\": {\"color\": \"#2a3f5f\"}, \"marker\": {\"line\": {\"color\": \"#E5ECF6\", \"width\": 0.5}}, \"type\": \"bar\"}], \"barpolar\": [{\"marker\": {\"line\": {\"color\": \"#E5ECF6\", \"width\": 0.5}}, \"type\": \"barpolar\"}], \"carpet\": [{\"aaxis\": {\"endlinecolor\": \"#2a3f5f\", \"gridcolor\": \"white\", \"linecolor\": \"white\", \"minorgridcolor\": \"white\", \"startlinecolor\": \"#2a3f5f\"}, \"baxis\": {\"endlinecolor\": \"#2a3f5f\", \"gridcolor\": \"white\", \"linecolor\": \"white\", \"minorgridcolor\": \"white\", \"startlinecolor\": \"#2a3f5f\"}, \"type\": \"carpet\"}], \"choropleth\": [{\"colorbar\": {\"outlinewidth\": 0, \"ticks\": \"\"}, \"type\": \"choropleth\"}], \"contour\": [{\"colorbar\": {\"outlinewidth\": 0, \"ticks\": \"\"}, \"colorscale\": [[0.0, \"#0d0887\"], [0.1111111111111111, \"#46039f\"], [0.2222222222222222, \"#7201a8\"], [0.3333333333333333, \"#9c179e\"], [0.4444444444444444, \"#bd3786\"], [0.5555555555555556, \"#d8576b\"], [0.6666666666666666, \"#ed7953\"], [0.7777777777777778, \"#fb9f3a\"], [0.8888888888888888, \"#fdca26\"], [1.0, \"#f0f921\"]], \"type\": \"contour\"}], \"contourcarpet\": [{\"colorbar\": {\"outlinewidth\": 0, \"ticks\": \"\"}, \"type\": \"contourcarpet\"}], \"heatmap\": [{\"colorbar\": {\"outlinewidth\": 0, \"ticks\": \"\"}, \"colorscale\": [[0.0, \"#0d0887\"], [0.1111111111111111, \"#46039f\"], [0.2222222222222222, \"#7201a8\"], [0.3333333333333333, \"#9c179e\"], [0.4444444444444444, \"#bd3786\"], [0.5555555555555556, \"#d8576b\"], [0.6666666666666666, \"#ed7953\"], [0.7777777777777778, \"#fb9f3a\"], [0.8888888888888888, \"#fdca26\"], [1.0, \"#f0f921\"]], \"type\": \"heatmap\"}], \"heatmapgl\": [{\"colorbar\": {\"outlinewidth\": 0, \"ticks\": \"\"}, \"colorscale\": [[0.0, \"#0d0887\"], [0.1111111111111111, \"#46039f\"], [0.2222222222222222, \"#7201a8\"], [0.3333333333333333, \"#9c179e\"], [0.4444444444444444, \"#bd3786\"], [0.5555555555555556, \"#d8576b\"], [0.6666666666666666, \"#ed7953\"], [0.7777777777777778, \"#fb9f3a\"], [0.8888888888888888, \"#fdca26\"], [1.0, \"#f0f921\"]], \"type\": \"heatmapgl\"}], \"histogram\": [{\"marker\": {\"colorbar\": {\"outlinewidth\": 0, \"ticks\": \"\"}}, \"type\": \"histogram\"}], \"histogram2d\": [{\"colorbar\": {\"outlinewidth\": 0, \"ticks\": \"\"}, \"colorscale\": [[0.0, \"#0d0887\"], [0.1111111111111111, \"#46039f\"], [0.2222222222222222, \"#7201a8\"], [0.3333333333333333, \"#9c179e\"], [0.4444444444444444, \"#bd3786\"], [0.5555555555555556, \"#d8576b\"], [0.6666666666666666, \"#ed7953\"], [0.7777777777777778, \"#fb9f3a\"], [0.8888888888888888, \"#fdca26\"], [1.0, \"#f0f921\"]], \"type\": \"histogram2d\"}], \"histogram2dcontour\": [{\"colorbar\": {\"outlinewidth\": 0, \"ticks\": \"\"}, \"colorscale\": [[0.0, \"#0d0887\"], [0.1111111111111111, \"#46039f\"], [0.2222222222222222, \"#7201a8\"], [0.3333333333333333, \"#9c179e\"], [0.4444444444444444, \"#bd3786\"], [0.5555555555555556, \"#d8576b\"], [0.6666666666666666, \"#ed7953\"], [0.7777777777777778, \"#fb9f3a\"], [0.8888888888888888, \"#fdca26\"], [1.0, \"#f0f921\"]], \"type\": \"histogram2dcontour\"}], \"mesh3d\": [{\"colorbar\": {\"outlinewidth\": 0, \"ticks\": \"\"}, \"type\": \"mesh3d\"}], \"parcoords\": [{\"line\": {\"colorbar\": {\"outlinewidth\": 0, \"ticks\": \"\"}}, \"type\": \"parcoords\"}], \"pie\": [{\"automargin\": true, \"type\": \"pie\"}], \"scatter\": [{\"marker\": {\"colorbar\": {\"outlinewidth\": 0, \"ticks\": \"\"}}, \"type\": \"scatter\"}], \"scatter3d\": [{\"line\": {\"colorbar\": {\"outlinewidth\": 0, \"ticks\": \"\"}}, \"marker\": {\"colorbar\": {\"outlinewidth\": 0, \"ticks\": \"\"}}, \"type\": \"scatter3d\"}], \"scattercarpet\": [{\"marker\": {\"colorbar\": {\"outlinewidth\": 0, \"ticks\": \"\"}}, \"type\": \"scattercarpet\"}], \"scattergeo\": [{\"marker\": {\"colorbar\": {\"outlinewidth\": 0, \"ticks\": \"\"}}, \"type\": \"scattergeo\"}], \"scattergl\": [{\"marker\": {\"colorbar\": {\"outlinewidth\": 0, \"ticks\": \"\"}}, \"type\": \"scattergl\"}], \"scattermapbox\": [{\"marker\": {\"colorbar\": {\"outlinewidth\": 0, \"ticks\": \"\"}}, \"type\": \"scattermapbox\"}], \"scatterpolar\": [{\"marker\": {\"colorbar\": {\"outlinewidth\": 0, \"ticks\": \"\"}}, \"type\": \"scatterpolar\"}], \"scatterpolargl\": [{\"marker\": {\"colorbar\": {\"outlinewidth\": 0, \"ticks\": \"\"}}, \"type\": \"scatterpolargl\"}], \"scatterternary\": [{\"marker\": {\"colorbar\": {\"outlinewidth\": 0, \"ticks\": \"\"}}, \"type\": \"scatterternary\"}], \"surface\": [{\"colorbar\": {\"outlinewidth\": 0, \"ticks\": \"\"}, \"colorscale\": [[0.0, \"#0d0887\"], [0.1111111111111111, \"#46039f\"], [0.2222222222222222, \"#7201a8\"], [0.3333333333333333, \"#9c179e\"], [0.4444444444444444, \"#bd3786\"], [0.5555555555555556, \"#d8576b\"], [0.6666666666666666, \"#ed7953\"], [0.7777777777777778, \"#fb9f3a\"], [0.8888888888888888, \"#fdca26\"], [1.0, \"#f0f921\"]], \"type\": \"surface\"}], \"table\": [{\"cells\": {\"fill\": {\"color\": \"#EBF0F8\"}, \"line\": {\"color\": \"white\"}}, \"header\": {\"fill\": {\"color\": \"#C8D4E3\"}, \"line\": {\"color\": \"white\"}}, \"type\": \"table\"}]}, \"layout\": {\"annotationdefaults\": {\"arrowcolor\": \"#2a3f5f\", \"arrowhead\": 0, \"arrowwidth\": 1}, \"coloraxis\": {\"colorbar\": {\"outlinewidth\": 0, \"ticks\": \"\"}}, \"colorscale\": {\"diverging\": [[0, \"#8e0152\"], [0.1, \"#c51b7d\"], [0.2, \"#de77ae\"], [0.3, \"#f1b6da\"], [0.4, \"#fde0ef\"], [0.5, \"#f7f7f7\"], [0.6, \"#e6f5d0\"], [0.7, \"#b8e186\"], [0.8, \"#7fbc41\"], [0.9, \"#4d9221\"], [1, \"#276419\"]], \"sequential\": [[0.0, \"#0d0887\"], [0.1111111111111111, \"#46039f\"], [0.2222222222222222, \"#7201a8\"], [0.3333333333333333, \"#9c179e\"], [0.4444444444444444, \"#bd3786\"], [0.5555555555555556, \"#d8576b\"], [0.6666666666666666, \"#ed7953\"], [0.7777777777777778, \"#fb9f3a\"], [0.8888888888888888, \"#fdca26\"], [1.0, \"#f0f921\"]], \"sequentialminus\": [[0.0, \"#0d0887\"], [0.1111111111111111, \"#46039f\"], [0.2222222222222222, \"#7201a8\"], [0.3333333333333333, \"#9c179e\"], [0.4444444444444444, \"#bd3786\"], [0.5555555555555556, \"#d8576b\"], [0.6666666666666666, \"#ed7953\"], [0.7777777777777778, \"#fb9f3a\"], [0.8888888888888888, \"#fdca26\"], [1.0, \"#f0f921\"]]}, \"colorway\": [\"#636efa\", \"#EF553B\", \"#00cc96\", \"#ab63fa\", \"#FFA15A\", \"#19d3f3\", \"#FF6692\", \"#B6E880\", \"#FF97FF\", \"#FECB52\"], \"font\": {\"color\": \"#2a3f5f\"}, \"geo\": {\"bgcolor\": \"white\", \"lakecolor\": \"white\", \"landcolor\": \"#E5ECF6\", \"showlakes\": true, \"showland\": true, \"subunitcolor\": \"white\"}, \"hoverlabel\": {\"align\": \"left\"}, \"hovermode\": \"closest\", \"mapbox\": {\"style\": \"light\"}, \"paper_bgcolor\": \"white\", \"plot_bgcolor\": \"#E5ECF6\", \"polar\": {\"angularaxis\": {\"gridcolor\": \"white\", \"linecolor\": \"white\", \"ticks\": \"\"}, \"bgcolor\": \"#E5ECF6\", \"radialaxis\": {\"gridcolor\": \"white\", \"linecolor\": \"white\", \"ticks\": \"\"}}, \"scene\": {\"xaxis\": {\"backgroundcolor\": \"#E5ECF6\", \"gridcolor\": \"white\", \"gridwidth\": 2, \"linecolor\": \"white\", \"showbackground\": true, \"ticks\": \"\", \"zerolinecolor\": \"white\"}, \"yaxis\": {\"backgroundcolor\": \"#E5ECF6\", \"gridcolor\": \"white\", \"gridwidth\": 2, \"linecolor\": \"white\", \"showbackground\": true, \"ticks\": \"\", \"zerolinecolor\": \"white\"}, \"zaxis\": {\"backgroundcolor\": \"#E5ECF6\", \"gridcolor\": \"white\", \"gridwidth\": 2, \"linecolor\": \"white\", \"showbackground\": true, \"ticks\": \"\", \"zerolinecolor\": \"white\"}}, \"shapedefaults\": {\"line\": {\"color\": \"#2a3f5f\"}}, \"ternary\": {\"aaxis\": {\"gridcolor\": \"white\", \"linecolor\": \"white\", \"ticks\": \"\"}, \"baxis\": {\"gridcolor\": \"white\", \"linecolor\": \"white\", \"ticks\": \"\"}, \"bgcolor\": \"#E5ECF6\", \"caxis\": {\"gridcolor\": \"white\", \"linecolor\": \"white\", \"ticks\": \"\"}}, \"title\": {\"x\": 0.05}, \"xaxis\": {\"automargin\": true, \"gridcolor\": \"white\", \"linecolor\": \"white\", \"ticks\": \"\", \"title\": {\"standoff\": 15}, \"zerolinecolor\": \"white\", \"zerolinewidth\": 2}, \"yaxis\": {\"automargin\": true, \"gridcolor\": \"white\", \"linecolor\": \"white\", \"ticks\": \"\", \"title\": {\"standoff\": 15}, \"zerolinecolor\": \"white\", \"zerolinewidth\": 2}}}, \"xaxis\": {\"anchor\": \"y\", \"domain\": [0.0, 1.0], \"title\": {\"text\": \"date\"}}, \"yaxis\": {\"anchor\": \"x\", \"domain\": [0.0, 1.0], \"title\": {\"text\": \"value\"}}},\n",
       "                        {\"responsive\": true}\n",
       "                    ).then(function(){\n",
       "                            \n",
       "var gd = document.getElementById('982738f5-61d4-4050-b36c-0ee8c99546f8');\n",
       "var x = new MutationObserver(function (mutations, observer) {{\n",
       "        var display = window.getComputedStyle(gd).display;\n",
       "        if (!display || display === 'none') {{\n",
       "            console.log([gd, 'removed!']);\n",
       "            Plotly.purge(gd);\n",
       "            observer.disconnect();\n",
       "        }}\n",
       "}});\n",
       "\n",
       "// Listen for the removal of the full notebook cells\n",
       "var notebookContainer = gd.closest('#notebook-container');\n",
       "if (notebookContainer) {{\n",
       "    x.observe(notebookContainer, {childList: true});\n",
       "}}\n",
       "\n",
       "// Listen for the clearing of the current output cell\n",
       "var outputEl = gd.closest('.output');\n",
       "if (outputEl) {{\n",
       "    x.observe(outputEl, {childList: true});\n",
       "}}\n",
       "\n",
       "                        })\n",
       "                };\n",
       "                });\n",
       "            </script>\n",
       "        </div>"
      ]
     },
     "metadata": {},
     "output_type": "display_data"
    }
   ],
   "source": [
    "# Строим график с количеством успешных заказов\n",
    "px.line(orders_count_by_day)"
   ]
  },
  {
   "cell_type": "code",
   "execution_count": 254,
   "id": "f730c8a4",
   "metadata": {},
   "outputs": [
    {
     "data": {
      "application/vnd.plotly.v1+json": {
       "config": {
        "plotlyServerURL": "https://plot.ly"
       },
       "data": [
        {
         "hovertemplate": "variable=revenue_by_day<br>date=%{x}<br>value=%{y}<extra></extra>",
         "legendgroup": "revenue_by_day",
         "line": {
          "color": "#636efa",
          "dash": "solid"
         },
         "mode": "lines",
         "name": "revenue_by_day",
         "orientation": "v",
         "showlegend": true,
         "type": "scatter",
         "x": [
          "2024-03-01T00:00:00",
          "2024-03-02T00:00:00",
          "2024-03-03T00:00:00",
          "2024-03-04T00:00:00",
          "2024-03-05T00:00:00",
          "2024-03-06T00:00:00",
          "2024-03-07T00:00:00",
          "2024-03-08T00:00:00",
          "2024-03-10T00:00:00",
          "2024-03-11T00:00:00",
          "2024-03-12T00:00:00",
          "2024-03-13T00:00:00",
          "2024-03-14T00:00:00",
          "2024-03-15T00:00:00",
          "2024-03-16T00:00:00",
          "2024-03-17T00:00:00",
          "2024-03-18T00:00:00",
          "2024-03-19T00:00:00",
          "2024-03-20T00:00:00",
          "2024-03-21T00:00:00",
          "2024-03-22T00:00:00",
          "2024-03-23T00:00:00",
          "2024-03-24T00:00:00",
          "2024-03-25T00:00:00",
          "2024-03-26T00:00:00",
          "2024-03-27T00:00:00",
          "2024-03-28T00:00:00",
          "2024-03-29T00:00:00",
          "2024-03-30T00:00:00",
          "2024-03-31T00:00:00"
         ],
         "xaxis": "x",
         "y": [
          167781069.706856,
          11971668.527008,
          2548418.420616,
          64049925.586536,
          89527238.22572799,
          113246478.258444,
          91750907.57351199,
          1609146.622754,
          12762189.310611002,
          94354743.37170301,
          103850293.12384798,
          168860186.586094,
          222270057.8094479,
          106180556.22877501,
          9047641.478300001,
          19409703.794600002,
          85975454.5153,
          70696277.07088502,
          132703535.470394,
          71889832.41608998,
          95688851.427708,
          28376479.640556,
          12420834.376842001,
          60094219.841046,
          104426506.073311,
          110628934.43699999,
          73695073.75672498,
          126546479.206672,
          11066043.48436,
          5332318.73712
         ],
         "yaxis": "y"
        },
        {
         "hovertemplate": "variable=average_bill<br>date=%{x}<br>value=%{y}<extra></extra>",
         "legendgroup": "average_bill",
         "line": {
          "color": "#EF553B",
          "dash": "solid"
         },
         "mode": "lines",
         "name": "average_bill",
         "orientation": "v",
         "showlegend": true,
         "type": "scatter",
         "x": [
          "2024-03-01T00:00:00",
          "2024-03-02T00:00:00",
          "2024-03-03T00:00:00",
          "2024-03-04T00:00:00",
          "2024-03-05T00:00:00",
          "2024-03-06T00:00:00",
          "2024-03-07T00:00:00",
          "2024-03-08T00:00:00",
          "2024-03-10T00:00:00",
          "2024-03-11T00:00:00",
          "2024-03-12T00:00:00",
          "2024-03-13T00:00:00",
          "2024-03-14T00:00:00",
          "2024-03-15T00:00:00",
          "2024-03-16T00:00:00",
          "2024-03-17T00:00:00",
          "2024-03-18T00:00:00",
          "2024-03-19T00:00:00",
          "2024-03-20T00:00:00",
          "2024-03-21T00:00:00",
          "2024-03-22T00:00:00",
          "2024-03-23T00:00:00",
          "2024-03-24T00:00:00",
          "2024-03-25T00:00:00",
          "2024-03-26T00:00:00",
          "2024-03-27T00:00:00",
          "2024-03-28T00:00:00",
          "2024-03-29T00:00:00",
          "2024-03-30T00:00:00",
          "2024-03-31T00:00:00"
         ],
         "xaxis": "x",
         "y": [
          8389053.49,
          5985834.26,
          2548418.42,
          6404992.56,
          4973735.46,
          8711267.56,
          7057762.12,
          1609146.62,
          6381094.66,
          8577703.94,
          7988484.09,
          33772037.32,
          6537354.64,
          6636284.76,
          4523820.74,
          6469901.26,
          7164621.21,
          5438175.16,
          11058627.96,
          6535439.31,
          5980553.21,
          9458826.55,
          6210417.19,
          7511777.48,
          6526656.63,
          6146051.91,
          6141256.15,
          6660341.01,
          5533021.74,
          5332318.74
         ],
         "yaxis": "y"
        }
       ],
       "layout": {
        "legend": {
         "title": {
          "text": "variable"
         },
         "tracegroupgap": 0
        },
        "margin": {
         "t": 60
        },
        "template": {
         "data": {
          "bar": [
           {
            "error_x": {
             "color": "#2a3f5f"
            },
            "error_y": {
             "color": "#2a3f5f"
            },
            "marker": {
             "line": {
              "color": "#E5ECF6",
              "width": 0.5
             }
            },
            "type": "bar"
           }
          ],
          "barpolar": [
           {
            "marker": {
             "line": {
              "color": "#E5ECF6",
              "width": 0.5
             }
            },
            "type": "barpolar"
           }
          ],
          "carpet": [
           {
            "aaxis": {
             "endlinecolor": "#2a3f5f",
             "gridcolor": "white",
             "linecolor": "white",
             "minorgridcolor": "white",
             "startlinecolor": "#2a3f5f"
            },
            "baxis": {
             "endlinecolor": "#2a3f5f",
             "gridcolor": "white",
             "linecolor": "white",
             "minorgridcolor": "white",
             "startlinecolor": "#2a3f5f"
            },
            "type": "carpet"
           }
          ],
          "choropleth": [
           {
            "colorbar": {
             "outlinewidth": 0,
             "ticks": ""
            },
            "type": "choropleth"
           }
          ],
          "contour": [
           {
            "colorbar": {
             "outlinewidth": 0,
             "ticks": ""
            },
            "colorscale": [
             [
              0,
              "#0d0887"
             ],
             [
              0.1111111111111111,
              "#46039f"
             ],
             [
              0.2222222222222222,
              "#7201a8"
             ],
             [
              0.3333333333333333,
              "#9c179e"
             ],
             [
              0.4444444444444444,
              "#bd3786"
             ],
             [
              0.5555555555555556,
              "#d8576b"
             ],
             [
              0.6666666666666666,
              "#ed7953"
             ],
             [
              0.7777777777777778,
              "#fb9f3a"
             ],
             [
              0.8888888888888888,
              "#fdca26"
             ],
             [
              1,
              "#f0f921"
             ]
            ],
            "type": "contour"
           }
          ],
          "contourcarpet": [
           {
            "colorbar": {
             "outlinewidth": 0,
             "ticks": ""
            },
            "type": "contourcarpet"
           }
          ],
          "heatmap": [
           {
            "colorbar": {
             "outlinewidth": 0,
             "ticks": ""
            },
            "colorscale": [
             [
              0,
              "#0d0887"
             ],
             [
              0.1111111111111111,
              "#46039f"
             ],
             [
              0.2222222222222222,
              "#7201a8"
             ],
             [
              0.3333333333333333,
              "#9c179e"
             ],
             [
              0.4444444444444444,
              "#bd3786"
             ],
             [
              0.5555555555555556,
              "#d8576b"
             ],
             [
              0.6666666666666666,
              "#ed7953"
             ],
             [
              0.7777777777777778,
              "#fb9f3a"
             ],
             [
              0.8888888888888888,
              "#fdca26"
             ],
             [
              1,
              "#f0f921"
             ]
            ],
            "type": "heatmap"
           }
          ],
          "heatmapgl": [
           {
            "colorbar": {
             "outlinewidth": 0,
             "ticks": ""
            },
            "colorscale": [
             [
              0,
              "#0d0887"
             ],
             [
              0.1111111111111111,
              "#46039f"
             ],
             [
              0.2222222222222222,
              "#7201a8"
             ],
             [
              0.3333333333333333,
              "#9c179e"
             ],
             [
              0.4444444444444444,
              "#bd3786"
             ],
             [
              0.5555555555555556,
              "#d8576b"
             ],
             [
              0.6666666666666666,
              "#ed7953"
             ],
             [
              0.7777777777777778,
              "#fb9f3a"
             ],
             [
              0.8888888888888888,
              "#fdca26"
             ],
             [
              1,
              "#f0f921"
             ]
            ],
            "type": "heatmapgl"
           }
          ],
          "histogram": [
           {
            "marker": {
             "colorbar": {
              "outlinewidth": 0,
              "ticks": ""
             }
            },
            "type": "histogram"
           }
          ],
          "histogram2d": [
           {
            "colorbar": {
             "outlinewidth": 0,
             "ticks": ""
            },
            "colorscale": [
             [
              0,
              "#0d0887"
             ],
             [
              0.1111111111111111,
              "#46039f"
             ],
             [
              0.2222222222222222,
              "#7201a8"
             ],
             [
              0.3333333333333333,
              "#9c179e"
             ],
             [
              0.4444444444444444,
              "#bd3786"
             ],
             [
              0.5555555555555556,
              "#d8576b"
             ],
             [
              0.6666666666666666,
              "#ed7953"
             ],
             [
              0.7777777777777778,
              "#fb9f3a"
             ],
             [
              0.8888888888888888,
              "#fdca26"
             ],
             [
              1,
              "#f0f921"
             ]
            ],
            "type": "histogram2d"
           }
          ],
          "histogram2dcontour": [
           {
            "colorbar": {
             "outlinewidth": 0,
             "ticks": ""
            },
            "colorscale": [
             [
              0,
              "#0d0887"
             ],
             [
              0.1111111111111111,
              "#46039f"
             ],
             [
              0.2222222222222222,
              "#7201a8"
             ],
             [
              0.3333333333333333,
              "#9c179e"
             ],
             [
              0.4444444444444444,
              "#bd3786"
             ],
             [
              0.5555555555555556,
              "#d8576b"
             ],
             [
              0.6666666666666666,
              "#ed7953"
             ],
             [
              0.7777777777777778,
              "#fb9f3a"
             ],
             [
              0.8888888888888888,
              "#fdca26"
             ],
             [
              1,
              "#f0f921"
             ]
            ],
            "type": "histogram2dcontour"
           }
          ],
          "mesh3d": [
           {
            "colorbar": {
             "outlinewidth": 0,
             "ticks": ""
            },
            "type": "mesh3d"
           }
          ],
          "parcoords": [
           {
            "line": {
             "colorbar": {
              "outlinewidth": 0,
              "ticks": ""
             }
            },
            "type": "parcoords"
           }
          ],
          "pie": [
           {
            "automargin": true,
            "type": "pie"
           }
          ],
          "scatter": [
           {
            "marker": {
             "colorbar": {
              "outlinewidth": 0,
              "ticks": ""
             }
            },
            "type": "scatter"
           }
          ],
          "scatter3d": [
           {
            "line": {
             "colorbar": {
              "outlinewidth": 0,
              "ticks": ""
             }
            },
            "marker": {
             "colorbar": {
              "outlinewidth": 0,
              "ticks": ""
             }
            },
            "type": "scatter3d"
           }
          ],
          "scattercarpet": [
           {
            "marker": {
             "colorbar": {
              "outlinewidth": 0,
              "ticks": ""
             }
            },
            "type": "scattercarpet"
           }
          ],
          "scattergeo": [
           {
            "marker": {
             "colorbar": {
              "outlinewidth": 0,
              "ticks": ""
             }
            },
            "type": "scattergeo"
           }
          ],
          "scattergl": [
           {
            "marker": {
             "colorbar": {
              "outlinewidth": 0,
              "ticks": ""
             }
            },
            "type": "scattergl"
           }
          ],
          "scattermapbox": [
           {
            "marker": {
             "colorbar": {
              "outlinewidth": 0,
              "ticks": ""
             }
            },
            "type": "scattermapbox"
           }
          ],
          "scatterpolar": [
           {
            "marker": {
             "colorbar": {
              "outlinewidth": 0,
              "ticks": ""
             }
            },
            "type": "scatterpolar"
           }
          ],
          "scatterpolargl": [
           {
            "marker": {
             "colorbar": {
              "outlinewidth": 0,
              "ticks": ""
             }
            },
            "type": "scatterpolargl"
           }
          ],
          "scatterternary": [
           {
            "marker": {
             "colorbar": {
              "outlinewidth": 0,
              "ticks": ""
             }
            },
            "type": "scatterternary"
           }
          ],
          "surface": [
           {
            "colorbar": {
             "outlinewidth": 0,
             "ticks": ""
            },
            "colorscale": [
             [
              0,
              "#0d0887"
             ],
             [
              0.1111111111111111,
              "#46039f"
             ],
             [
              0.2222222222222222,
              "#7201a8"
             ],
             [
              0.3333333333333333,
              "#9c179e"
             ],
             [
              0.4444444444444444,
              "#bd3786"
             ],
             [
              0.5555555555555556,
              "#d8576b"
             ],
             [
              0.6666666666666666,
              "#ed7953"
             ],
             [
              0.7777777777777778,
              "#fb9f3a"
             ],
             [
              0.8888888888888888,
              "#fdca26"
             ],
             [
              1,
              "#f0f921"
             ]
            ],
            "type": "surface"
           }
          ],
          "table": [
           {
            "cells": {
             "fill": {
              "color": "#EBF0F8"
             },
             "line": {
              "color": "white"
             }
            },
            "header": {
             "fill": {
              "color": "#C8D4E3"
             },
             "line": {
              "color": "white"
             }
            },
            "type": "table"
           }
          ]
         },
         "layout": {
          "annotationdefaults": {
           "arrowcolor": "#2a3f5f",
           "arrowhead": 0,
           "arrowwidth": 1
          },
          "coloraxis": {
           "colorbar": {
            "outlinewidth": 0,
            "ticks": ""
           }
          },
          "colorscale": {
           "diverging": [
            [
             0,
             "#8e0152"
            ],
            [
             0.1,
             "#c51b7d"
            ],
            [
             0.2,
             "#de77ae"
            ],
            [
             0.3,
             "#f1b6da"
            ],
            [
             0.4,
             "#fde0ef"
            ],
            [
             0.5,
             "#f7f7f7"
            ],
            [
             0.6,
             "#e6f5d0"
            ],
            [
             0.7,
             "#b8e186"
            ],
            [
             0.8,
             "#7fbc41"
            ],
            [
             0.9,
             "#4d9221"
            ],
            [
             1,
             "#276419"
            ]
           ],
           "sequential": [
            [
             0,
             "#0d0887"
            ],
            [
             0.1111111111111111,
             "#46039f"
            ],
            [
             0.2222222222222222,
             "#7201a8"
            ],
            [
             0.3333333333333333,
             "#9c179e"
            ],
            [
             0.4444444444444444,
             "#bd3786"
            ],
            [
             0.5555555555555556,
             "#d8576b"
            ],
            [
             0.6666666666666666,
             "#ed7953"
            ],
            [
             0.7777777777777778,
             "#fb9f3a"
            ],
            [
             0.8888888888888888,
             "#fdca26"
            ],
            [
             1,
             "#f0f921"
            ]
           ],
           "sequentialminus": [
            [
             0,
             "#0d0887"
            ],
            [
             0.1111111111111111,
             "#46039f"
            ],
            [
             0.2222222222222222,
             "#7201a8"
            ],
            [
             0.3333333333333333,
             "#9c179e"
            ],
            [
             0.4444444444444444,
             "#bd3786"
            ],
            [
             0.5555555555555556,
             "#d8576b"
            ],
            [
             0.6666666666666666,
             "#ed7953"
            ],
            [
             0.7777777777777778,
             "#fb9f3a"
            ],
            [
             0.8888888888888888,
             "#fdca26"
            ],
            [
             1,
             "#f0f921"
            ]
           ]
          },
          "colorway": [
           "#636efa",
           "#EF553B",
           "#00cc96",
           "#ab63fa",
           "#FFA15A",
           "#19d3f3",
           "#FF6692",
           "#B6E880",
           "#FF97FF",
           "#FECB52"
          ],
          "font": {
           "color": "#2a3f5f"
          },
          "geo": {
           "bgcolor": "white",
           "lakecolor": "white",
           "landcolor": "#E5ECF6",
           "showlakes": true,
           "showland": true,
           "subunitcolor": "white"
          },
          "hoverlabel": {
           "align": "left"
          },
          "hovermode": "closest",
          "mapbox": {
           "style": "light"
          },
          "paper_bgcolor": "white",
          "plot_bgcolor": "#E5ECF6",
          "polar": {
           "angularaxis": {
            "gridcolor": "white",
            "linecolor": "white",
            "ticks": ""
           },
           "bgcolor": "#E5ECF6",
           "radialaxis": {
            "gridcolor": "white",
            "linecolor": "white",
            "ticks": ""
           }
          },
          "scene": {
           "xaxis": {
            "backgroundcolor": "#E5ECF6",
            "gridcolor": "white",
            "gridwidth": 2,
            "linecolor": "white",
            "showbackground": true,
            "ticks": "",
            "zerolinecolor": "white"
           },
           "yaxis": {
            "backgroundcolor": "#E5ECF6",
            "gridcolor": "white",
            "gridwidth": 2,
            "linecolor": "white",
            "showbackground": true,
            "ticks": "",
            "zerolinecolor": "white"
           },
           "zaxis": {
            "backgroundcolor": "#E5ECF6",
            "gridcolor": "white",
            "gridwidth": 2,
            "linecolor": "white",
            "showbackground": true,
            "ticks": "",
            "zerolinecolor": "white"
           }
          },
          "shapedefaults": {
           "line": {
            "color": "#2a3f5f"
           }
          },
          "ternary": {
           "aaxis": {
            "gridcolor": "white",
            "linecolor": "white",
            "ticks": ""
           },
           "baxis": {
            "gridcolor": "white",
            "linecolor": "white",
            "ticks": ""
           },
           "bgcolor": "#E5ECF6",
           "caxis": {
            "gridcolor": "white",
            "linecolor": "white",
            "ticks": ""
           }
          },
          "title": {
           "x": 0.05
          },
          "xaxis": {
           "automargin": true,
           "gridcolor": "white",
           "linecolor": "white",
           "ticks": "",
           "title": {
            "standoff": 15
           },
           "zerolinecolor": "white",
           "zerolinewidth": 2
          },
          "yaxis": {
           "automargin": true,
           "gridcolor": "white",
           "linecolor": "white",
           "ticks": "",
           "title": {
            "standoff": 15
           },
           "zerolinecolor": "white",
           "zerolinewidth": 2
          }
         }
        },
        "xaxis": {
         "anchor": "y",
         "domain": [
          0,
          1
         ],
         "title": {
          "text": "date"
         }
        },
        "yaxis": {
         "anchor": "x",
         "domain": [
          0,
          1
         ],
         "title": {
          "text": "value"
         }
        }
       }
      },
      "text/html": [
       "<div>\n",
       "        \n",
       "        \n",
       "            <div id=\"8196e082-99de-4974-af03-2a158a74cc0c\" class=\"plotly-graph-div\" style=\"height:525px; width:100%;\"></div>\n",
       "            <script type=\"text/javascript\">\n",
       "                require([\"plotly\"], function(Plotly) {\n",
       "                    window.PLOTLYENV=window.PLOTLYENV || {};\n",
       "                    \n",
       "                if (document.getElementById(\"8196e082-99de-4974-af03-2a158a74cc0c\")) {\n",
       "                    Plotly.newPlot(\n",
       "                        '8196e082-99de-4974-af03-2a158a74cc0c',\n",
       "                        [{\"hovertemplate\": \"variable=revenue_by_day<br>date=%{x}<br>value=%{y}<extra></extra>\", \"legendgroup\": \"revenue_by_day\", \"line\": {\"color\": \"#636efa\", \"dash\": \"solid\"}, \"mode\": \"lines\", \"name\": \"revenue_by_day\", \"orientation\": \"v\", \"showlegend\": true, \"type\": \"scatter\", \"x\": [\"2024-03-01T00:00:00\", \"2024-03-02T00:00:00\", \"2024-03-03T00:00:00\", \"2024-03-04T00:00:00\", \"2024-03-05T00:00:00\", \"2024-03-06T00:00:00\", \"2024-03-07T00:00:00\", \"2024-03-08T00:00:00\", \"2024-03-10T00:00:00\", \"2024-03-11T00:00:00\", \"2024-03-12T00:00:00\", \"2024-03-13T00:00:00\", \"2024-03-14T00:00:00\", \"2024-03-15T00:00:00\", \"2024-03-16T00:00:00\", \"2024-03-17T00:00:00\", \"2024-03-18T00:00:00\", \"2024-03-19T00:00:00\", \"2024-03-20T00:00:00\", \"2024-03-21T00:00:00\", \"2024-03-22T00:00:00\", \"2024-03-23T00:00:00\", \"2024-03-24T00:00:00\", \"2024-03-25T00:00:00\", \"2024-03-26T00:00:00\", \"2024-03-27T00:00:00\", \"2024-03-28T00:00:00\", \"2024-03-29T00:00:00\", \"2024-03-30T00:00:00\", \"2024-03-31T00:00:00\"], \"xaxis\": \"x\", \"y\": [167781069.706856, 11971668.527008, 2548418.420616, 64049925.586536, 89527238.22572799, 113246478.258444, 91750907.57351199, 1609146.622754, 12762189.310611002, 94354743.37170301, 103850293.12384798, 168860186.586094, 222270057.8094479, 106180556.22877501, 9047641.478300001, 19409703.794600002, 85975454.5153, 70696277.07088502, 132703535.470394, 71889832.41608998, 95688851.427708, 28376479.640556, 12420834.376842001, 60094219.841046, 104426506.073311, 110628934.43699999, 73695073.75672498, 126546479.206672, 11066043.48436, 5332318.73712], \"yaxis\": \"y\"}, {\"hovertemplate\": \"variable=average_bill<br>date=%{x}<br>value=%{y}<extra></extra>\", \"legendgroup\": \"average_bill\", \"line\": {\"color\": \"#EF553B\", \"dash\": \"solid\"}, \"mode\": \"lines\", \"name\": \"average_bill\", \"orientation\": \"v\", \"showlegend\": true, \"type\": \"scatter\", \"x\": [\"2024-03-01T00:00:00\", \"2024-03-02T00:00:00\", \"2024-03-03T00:00:00\", \"2024-03-04T00:00:00\", \"2024-03-05T00:00:00\", \"2024-03-06T00:00:00\", \"2024-03-07T00:00:00\", \"2024-03-08T00:00:00\", \"2024-03-10T00:00:00\", \"2024-03-11T00:00:00\", \"2024-03-12T00:00:00\", \"2024-03-13T00:00:00\", \"2024-03-14T00:00:00\", \"2024-03-15T00:00:00\", \"2024-03-16T00:00:00\", \"2024-03-17T00:00:00\", \"2024-03-18T00:00:00\", \"2024-03-19T00:00:00\", \"2024-03-20T00:00:00\", \"2024-03-21T00:00:00\", \"2024-03-22T00:00:00\", \"2024-03-23T00:00:00\", \"2024-03-24T00:00:00\", \"2024-03-25T00:00:00\", \"2024-03-26T00:00:00\", \"2024-03-27T00:00:00\", \"2024-03-28T00:00:00\", \"2024-03-29T00:00:00\", \"2024-03-30T00:00:00\", \"2024-03-31T00:00:00\"], \"xaxis\": \"x\", \"y\": [8389053.49, 5985834.26, 2548418.42, 6404992.56, 4973735.46, 8711267.56, 7057762.12, 1609146.62, 6381094.66, 8577703.94, 7988484.09, 33772037.32, 6537354.64, 6636284.76, 4523820.74, 6469901.26, 7164621.21, 5438175.16, 11058627.96, 6535439.31, 5980553.21, 9458826.55, 6210417.19, 7511777.48, 6526656.63, 6146051.91, 6141256.15, 6660341.01, 5533021.74, 5332318.74], \"yaxis\": \"y\"}],\n",
       "                        {\"legend\": {\"title\": {\"text\": \"variable\"}, \"tracegroupgap\": 0}, \"margin\": {\"t\": 60}, \"template\": {\"data\": {\"bar\": [{\"error_x\": {\"color\": \"#2a3f5f\"}, \"error_y\": {\"color\": \"#2a3f5f\"}, \"marker\": {\"line\": {\"color\": \"#E5ECF6\", \"width\": 0.5}}, \"type\": \"bar\"}], \"barpolar\": [{\"marker\": {\"line\": {\"color\": \"#E5ECF6\", \"width\": 0.5}}, \"type\": \"barpolar\"}], \"carpet\": [{\"aaxis\": {\"endlinecolor\": \"#2a3f5f\", \"gridcolor\": \"white\", \"linecolor\": \"white\", \"minorgridcolor\": \"white\", \"startlinecolor\": \"#2a3f5f\"}, \"baxis\": {\"endlinecolor\": \"#2a3f5f\", \"gridcolor\": \"white\", \"linecolor\": \"white\", \"minorgridcolor\": \"white\", \"startlinecolor\": \"#2a3f5f\"}, \"type\": \"carpet\"}], \"choropleth\": [{\"colorbar\": {\"outlinewidth\": 0, \"ticks\": \"\"}, \"type\": \"choropleth\"}], \"contour\": [{\"colorbar\": {\"outlinewidth\": 0, \"ticks\": \"\"}, \"colorscale\": [[0.0, \"#0d0887\"], [0.1111111111111111, \"#46039f\"], [0.2222222222222222, \"#7201a8\"], [0.3333333333333333, \"#9c179e\"], [0.4444444444444444, \"#bd3786\"], [0.5555555555555556, \"#d8576b\"], [0.6666666666666666, \"#ed7953\"], [0.7777777777777778, \"#fb9f3a\"], [0.8888888888888888, \"#fdca26\"], [1.0, \"#f0f921\"]], \"type\": \"contour\"}], \"contourcarpet\": [{\"colorbar\": {\"outlinewidth\": 0, \"ticks\": \"\"}, \"type\": \"contourcarpet\"}], \"heatmap\": [{\"colorbar\": {\"outlinewidth\": 0, \"ticks\": \"\"}, \"colorscale\": [[0.0, \"#0d0887\"], [0.1111111111111111, \"#46039f\"], [0.2222222222222222, \"#7201a8\"], [0.3333333333333333, \"#9c179e\"], [0.4444444444444444, \"#bd3786\"], [0.5555555555555556, \"#d8576b\"], [0.6666666666666666, \"#ed7953\"], [0.7777777777777778, \"#fb9f3a\"], [0.8888888888888888, \"#fdca26\"], [1.0, \"#f0f921\"]], \"type\": \"heatmap\"}], \"heatmapgl\": [{\"colorbar\": {\"outlinewidth\": 0, \"ticks\": \"\"}, \"colorscale\": [[0.0, \"#0d0887\"], [0.1111111111111111, \"#46039f\"], [0.2222222222222222, \"#7201a8\"], [0.3333333333333333, \"#9c179e\"], [0.4444444444444444, \"#bd3786\"], [0.5555555555555556, \"#d8576b\"], [0.6666666666666666, \"#ed7953\"], [0.7777777777777778, \"#fb9f3a\"], [0.8888888888888888, \"#fdca26\"], [1.0, \"#f0f921\"]], \"type\": \"heatmapgl\"}], \"histogram\": [{\"marker\": {\"colorbar\": {\"outlinewidth\": 0, \"ticks\": \"\"}}, \"type\": \"histogram\"}], \"histogram2d\": [{\"colorbar\": {\"outlinewidth\": 0, \"ticks\": \"\"}, \"colorscale\": [[0.0, \"#0d0887\"], [0.1111111111111111, \"#46039f\"], [0.2222222222222222, \"#7201a8\"], [0.3333333333333333, \"#9c179e\"], [0.4444444444444444, \"#bd3786\"], [0.5555555555555556, \"#d8576b\"], [0.6666666666666666, \"#ed7953\"], [0.7777777777777778, \"#fb9f3a\"], [0.8888888888888888, \"#fdca26\"], [1.0, \"#f0f921\"]], \"type\": \"histogram2d\"}], \"histogram2dcontour\": [{\"colorbar\": {\"outlinewidth\": 0, \"ticks\": \"\"}, \"colorscale\": [[0.0, \"#0d0887\"], [0.1111111111111111, \"#46039f\"], [0.2222222222222222, \"#7201a8\"], [0.3333333333333333, \"#9c179e\"], [0.4444444444444444, \"#bd3786\"], [0.5555555555555556, \"#d8576b\"], [0.6666666666666666, \"#ed7953\"], [0.7777777777777778, \"#fb9f3a\"], [0.8888888888888888, \"#fdca26\"], [1.0, \"#f0f921\"]], \"type\": \"histogram2dcontour\"}], \"mesh3d\": [{\"colorbar\": {\"outlinewidth\": 0, \"ticks\": \"\"}, \"type\": \"mesh3d\"}], \"parcoords\": [{\"line\": {\"colorbar\": {\"outlinewidth\": 0, \"ticks\": \"\"}}, \"type\": \"parcoords\"}], \"pie\": [{\"automargin\": true, \"type\": \"pie\"}], \"scatter\": [{\"marker\": {\"colorbar\": {\"outlinewidth\": 0, \"ticks\": \"\"}}, \"type\": \"scatter\"}], \"scatter3d\": [{\"line\": {\"colorbar\": {\"outlinewidth\": 0, \"ticks\": \"\"}}, \"marker\": {\"colorbar\": {\"outlinewidth\": 0, \"ticks\": \"\"}}, \"type\": \"scatter3d\"}], \"scattercarpet\": [{\"marker\": {\"colorbar\": {\"outlinewidth\": 0, \"ticks\": \"\"}}, \"type\": \"scattercarpet\"}], \"scattergeo\": [{\"marker\": {\"colorbar\": {\"outlinewidth\": 0, \"ticks\": \"\"}}, \"type\": \"scattergeo\"}], \"scattergl\": [{\"marker\": {\"colorbar\": {\"outlinewidth\": 0, \"ticks\": \"\"}}, \"type\": \"scattergl\"}], \"scattermapbox\": [{\"marker\": {\"colorbar\": {\"outlinewidth\": 0, \"ticks\": \"\"}}, \"type\": \"scattermapbox\"}], \"scatterpolar\": [{\"marker\": {\"colorbar\": {\"outlinewidth\": 0, \"ticks\": \"\"}}, \"type\": \"scatterpolar\"}], \"scatterpolargl\": [{\"marker\": {\"colorbar\": {\"outlinewidth\": 0, \"ticks\": \"\"}}, \"type\": \"scatterpolargl\"}], \"scatterternary\": [{\"marker\": {\"colorbar\": {\"outlinewidth\": 0, \"ticks\": \"\"}}, \"type\": \"scatterternary\"}], \"surface\": [{\"colorbar\": {\"outlinewidth\": 0, \"ticks\": \"\"}, \"colorscale\": [[0.0, \"#0d0887\"], [0.1111111111111111, \"#46039f\"], [0.2222222222222222, \"#7201a8\"], [0.3333333333333333, \"#9c179e\"], [0.4444444444444444, \"#bd3786\"], [0.5555555555555556, \"#d8576b\"], [0.6666666666666666, \"#ed7953\"], [0.7777777777777778, \"#fb9f3a\"], [0.8888888888888888, \"#fdca26\"], [1.0, \"#f0f921\"]], \"type\": \"surface\"}], \"table\": [{\"cells\": {\"fill\": {\"color\": \"#EBF0F8\"}, \"line\": {\"color\": \"white\"}}, \"header\": {\"fill\": {\"color\": \"#C8D4E3\"}, \"line\": {\"color\": \"white\"}}, \"type\": \"table\"}]}, \"layout\": {\"annotationdefaults\": {\"arrowcolor\": \"#2a3f5f\", \"arrowhead\": 0, \"arrowwidth\": 1}, \"coloraxis\": {\"colorbar\": {\"outlinewidth\": 0, \"ticks\": \"\"}}, \"colorscale\": {\"diverging\": [[0, \"#8e0152\"], [0.1, \"#c51b7d\"], [0.2, \"#de77ae\"], [0.3, \"#f1b6da\"], [0.4, \"#fde0ef\"], [0.5, \"#f7f7f7\"], [0.6, \"#e6f5d0\"], [0.7, \"#b8e186\"], [0.8, \"#7fbc41\"], [0.9, \"#4d9221\"], [1, \"#276419\"]], \"sequential\": [[0.0, \"#0d0887\"], [0.1111111111111111, \"#46039f\"], [0.2222222222222222, \"#7201a8\"], [0.3333333333333333, \"#9c179e\"], [0.4444444444444444, \"#bd3786\"], [0.5555555555555556, \"#d8576b\"], [0.6666666666666666, \"#ed7953\"], [0.7777777777777778, \"#fb9f3a\"], [0.8888888888888888, \"#fdca26\"], [1.0, \"#f0f921\"]], \"sequentialminus\": [[0.0, \"#0d0887\"], [0.1111111111111111, \"#46039f\"], [0.2222222222222222, \"#7201a8\"], [0.3333333333333333, \"#9c179e\"], [0.4444444444444444, \"#bd3786\"], [0.5555555555555556, \"#d8576b\"], [0.6666666666666666, \"#ed7953\"], [0.7777777777777778, \"#fb9f3a\"], [0.8888888888888888, \"#fdca26\"], [1.0, \"#f0f921\"]]}, \"colorway\": [\"#636efa\", \"#EF553B\", \"#00cc96\", \"#ab63fa\", \"#FFA15A\", \"#19d3f3\", \"#FF6692\", \"#B6E880\", \"#FF97FF\", \"#FECB52\"], \"font\": {\"color\": \"#2a3f5f\"}, \"geo\": {\"bgcolor\": \"white\", \"lakecolor\": \"white\", \"landcolor\": \"#E5ECF6\", \"showlakes\": true, \"showland\": true, \"subunitcolor\": \"white\"}, \"hoverlabel\": {\"align\": \"left\"}, \"hovermode\": \"closest\", \"mapbox\": {\"style\": \"light\"}, \"paper_bgcolor\": \"white\", \"plot_bgcolor\": \"#E5ECF6\", \"polar\": {\"angularaxis\": {\"gridcolor\": \"white\", \"linecolor\": \"white\", \"ticks\": \"\"}, \"bgcolor\": \"#E5ECF6\", \"radialaxis\": {\"gridcolor\": \"white\", \"linecolor\": \"white\", \"ticks\": \"\"}}, \"scene\": {\"xaxis\": {\"backgroundcolor\": \"#E5ECF6\", \"gridcolor\": \"white\", \"gridwidth\": 2, \"linecolor\": \"white\", \"showbackground\": true, \"ticks\": \"\", \"zerolinecolor\": \"white\"}, \"yaxis\": {\"backgroundcolor\": \"#E5ECF6\", \"gridcolor\": \"white\", \"gridwidth\": 2, \"linecolor\": \"white\", \"showbackground\": true, \"ticks\": \"\", \"zerolinecolor\": \"white\"}, \"zaxis\": {\"backgroundcolor\": \"#E5ECF6\", \"gridcolor\": \"white\", \"gridwidth\": 2, \"linecolor\": \"white\", \"showbackground\": true, \"ticks\": \"\", \"zerolinecolor\": \"white\"}}, \"shapedefaults\": {\"line\": {\"color\": \"#2a3f5f\"}}, \"ternary\": {\"aaxis\": {\"gridcolor\": \"white\", \"linecolor\": \"white\", \"ticks\": \"\"}, \"baxis\": {\"gridcolor\": \"white\", \"linecolor\": \"white\", \"ticks\": \"\"}, \"bgcolor\": \"#E5ECF6\", \"caxis\": {\"gridcolor\": \"white\", \"linecolor\": \"white\", \"ticks\": \"\"}}, \"title\": {\"x\": 0.05}, \"xaxis\": {\"automargin\": true, \"gridcolor\": \"white\", \"linecolor\": \"white\", \"ticks\": \"\", \"title\": {\"standoff\": 15}, \"zerolinecolor\": \"white\", \"zerolinewidth\": 2}, \"yaxis\": {\"automargin\": true, \"gridcolor\": \"white\", \"linecolor\": \"white\", \"ticks\": \"\", \"title\": {\"standoff\": 15}, \"zerolinecolor\": \"white\", \"zerolinewidth\": 2}}}, \"xaxis\": {\"anchor\": \"y\", \"domain\": [0.0, 1.0], \"title\": {\"text\": \"date\"}}, \"yaxis\": {\"anchor\": \"x\", \"domain\": [0.0, 1.0], \"title\": {\"text\": \"value\"}}},\n",
       "                        {\"responsive\": true}\n",
       "                    ).then(function(){\n",
       "                            \n",
       "var gd = document.getElementById('8196e082-99de-4974-af03-2a158a74cc0c');\n",
       "var x = new MutationObserver(function (mutations, observer) {{\n",
       "        var display = window.getComputedStyle(gd).display;\n",
       "        if (!display || display === 'none') {{\n",
       "            console.log([gd, 'removed!']);\n",
       "            Plotly.purge(gd);\n",
       "            observer.disconnect();\n",
       "        }}\n",
       "}});\n",
       "\n",
       "// Listen for the removal of the full notebook cells\n",
       "var notebookContainer = gd.closest('#notebook-container');\n",
       "if (notebookContainer) {{\n",
       "    x.observe(notebookContainer, {childList: true});\n",
       "}}\n",
       "\n",
       "// Listen for the clearing of the current output cell\n",
       "var outputEl = gd.closest('.output');\n",
       "if (outputEl) {{\n",
       "    x.observe(outputEl, {childList: true});\n",
       "}}\n",
       "\n",
       "                        })\n",
       "                };\n",
       "                });\n",
       "            </script>\n",
       "        </div>"
      ]
     },
     "metadata": {},
     "output_type": "display_data"
    }
   ],
   "source": [
    "# Строим график с динамикой выручки и среднего чека\n",
    "px.line(orders_by_day)"
   ]
  },
  {
   "cell_type": "markdown",
   "id": "da5fbf05",
   "metadata": {},
   "source": [
    "### Что можем заметить:\n",
    "1. число заказов и выручка не каждый день изменяются в одинаковом направлении (если в какой-то день число заказов выросло, то выручка может упасть, и наоборот: число заказов упало — в этот же день выручка выросла)\n",
    "2. средний чек и выручка не каждый день изменяются в одинаковом направлении (если в какой-то день средний чек вырос, то выручка может упасть, и наоборот: средний чек упал — в этот же день выручка выросла)\n",
    "3. в день с наибольшим числом заказов выручка и/или средний чек не показывают максимальное значение\n",
    "4. с течением времени выручка то увеличивается, то уменьшается\n",
    "5. на протяжении всего месяца средний чек то увеличивается, то уменьшается\n",
    "\n",
    "### Вывод:\n",
    "В целом, у динамики продаж и размера среднего чека нет устойчивого роста или падения."
   ]
  },
  {
   "cell_type": "markdown",
   "id": "69c859b1",
   "metadata": {},
   "source": [
    "## 4. Проанализируем интерес клиентов к брендам"
   ]
  },
  {
   "cell_type": "code",
   "execution_count": 255,
   "id": "1b249ae9",
   "metadata": {},
   "outputs": [
    {
     "data": {
      "text/html": [
       "<div>\n",
       "<style scoped>\n",
       "    .dataframe tbody tr th:only-of-type {\n",
       "        vertical-align: middle;\n",
       "    }\n",
       "\n",
       "    .dataframe tbody tr th {\n",
       "        vertical-align: top;\n",
       "    }\n",
       "\n",
       "    .dataframe thead th {\n",
       "        text-align: right;\n",
       "    }\n",
       "</style>\n",
       "<table border=\"1\" class=\"dataframe\">\n",
       "  <thead>\n",
       "    <tr style=\"text-align: right;\">\n",
       "      <th></th>\n",
       "      <th>order_id</th>\n",
       "      <th>product_id</th>\n",
       "      <th>quantity</th>\n",
       "      <th>manager</th>\n",
       "      <th>date</th>\n",
       "      <th>client_id</th>\n",
       "      <th>status</th>\n",
       "      <th>id</th>\n",
       "      <th>name</th>\n",
       "      <th>price</th>\n",
       "      <th>category</th>\n",
       "      <th>currency_rate</th>\n",
       "      <th>cost_doll</th>\n",
       "      <th>cost_rub</th>\n",
       "      <th>brand</th>\n",
       "    </tr>\n",
       "  </thead>\n",
       "  <tbody>\n",
       "    <tr>\n",
       "      <th>0</th>\n",
       "      <td>QPLK-54839036</td>\n",
       "      <td>489</td>\n",
       "      <td>11</td>\n",
       "      <td>Владимир Ударников</td>\n",
       "      <td>2024-03-10</td>\n",
       "      <td>52</td>\n",
       "      <td>confirmed</td>\n",
       "      <td>489</td>\n",
       "      <td>Heco, Ambient 33F</td>\n",
       "      <td>290.74</td>\n",
       "      <td>Настенная акустика</td>\n",
       "      <td>90.7493</td>\n",
       "      <td>3198.14</td>\n",
       "      <td>2.902290e+05</td>\n",
       "      <td>Heco</td>\n",
       "    </tr>\n",
       "    <tr>\n",
       "      <th>1</th>\n",
       "      <td>QPLK-54839036</td>\n",
       "      <td>594</td>\n",
       "      <td>6</td>\n",
       "      <td>Владимир Ударников</td>\n",
       "      <td>2024-03-10</td>\n",
       "      <td>52</td>\n",
       "      <td>confirmed</td>\n",
       "      <td>594</td>\n",
       "      <td>JBL, Control 28-1</td>\n",
       "      <td>301.85</td>\n",
       "      <td>Настенная акустика</td>\n",
       "      <td>90.7493</td>\n",
       "      <td>1811.10</td>\n",
       "      <td>1.643561e+05</td>\n",
       "      <td>JBL</td>\n",
       "    </tr>\n",
       "    <tr>\n",
       "      <th>2</th>\n",
       "      <td>QPLK-54839036</td>\n",
       "      <td>670</td>\n",
       "      <td>16</td>\n",
       "      <td>Владимир Ударников</td>\n",
       "      <td>2024-03-10</td>\n",
       "      <td>52</td>\n",
       "      <td>confirmed</td>\n",
       "      <td>670</td>\n",
       "      <td>KEF, LSX Wireless</td>\n",
       "      <td>810.17</td>\n",
       "      <td>Беспроводная акустика</td>\n",
       "      <td>90.7493</td>\n",
       "      <td>12962.72</td>\n",
       "      <td>1.176358e+06</td>\n",
       "      <td>KEF</td>\n",
       "    </tr>\n",
       "    <tr>\n",
       "      <th>3</th>\n",
       "      <td>QPLK-54839036</td>\n",
       "      <td>469</td>\n",
       "      <td>9</td>\n",
       "      <td>Владимир Ударников</td>\n",
       "      <td>2024-03-10</td>\n",
       "      <td>52</td>\n",
       "      <td>confirmed</td>\n",
       "      <td>469</td>\n",
       "      <td>Heco, Studio Pro 10</td>\n",
       "      <td>82.34</td>\n",
       "      <td>Конденсаторный микрофон</td>\n",
       "      <td>90.7493</td>\n",
       "      <td>741.06</td>\n",
       "      <td>6.725068e+04</td>\n",
       "      <td>Heco</td>\n",
       "    </tr>\n",
       "    <tr>\n",
       "      <th>4</th>\n",
       "      <td>QPLK-54839036</td>\n",
       "      <td>1302</td>\n",
       "      <td>5</td>\n",
       "      <td>Владимир Ударников</td>\n",
       "      <td>2024-03-10</td>\n",
       "      <td>52</td>\n",
       "      <td>confirmed</td>\n",
       "      <td>1302</td>\n",
       "      <td>Rode, NT1-A</td>\n",
       "      <td>191.86</td>\n",
       "      <td>Конденсаторный микрофон</td>\n",
       "      <td>90.7493</td>\n",
       "      <td>959.30</td>\n",
       "      <td>8.705580e+04</td>\n",
       "      <td>Rode</td>\n",
       "    </tr>\n",
       "  </tbody>\n",
       "</table>\n",
       "</div>"
      ],
      "text/plain": [
       "        order_id  product_id  quantity             manager       date  \\\n",
       "0  QPLK-54839036         489        11  Владимир Ударников 2024-03-10   \n",
       "1  QPLK-54839036         594         6  Владимир Ударников 2024-03-10   \n",
       "2  QPLK-54839036         670        16  Владимир Ударников 2024-03-10   \n",
       "3  QPLK-54839036         469         9  Владимир Ударников 2024-03-10   \n",
       "4  QPLK-54839036        1302         5  Владимир Ударников 2024-03-10   \n",
       "\n",
       "   client_id     status    id                 name   price  \\\n",
       "0         52  confirmed   489    Heco, Ambient 33F  290.74   \n",
       "1         52  confirmed   594    JBL, Control 28-1  301.85   \n",
       "2         52  confirmed   670    KEF, LSX Wireless  810.17   \n",
       "3         52  confirmed   469  Heco, Studio Pro 10   82.34   \n",
       "4         52  confirmed  1302          Rode, NT1-A  191.86   \n",
       "\n",
       "                  category  currency_rate  cost_doll      cost_rub brand  \n",
       "0       Настенная акустика        90.7493    3198.14  2.902290e+05  Heco  \n",
       "1       Настенная акустика        90.7493    1811.10  1.643561e+05   JBL  \n",
       "2    Беспроводная акустика        90.7493   12962.72  1.176358e+06   KEF  \n",
       "3  Конденсаторный микрофон        90.7493     741.06  6.725068e+04  Heco  \n",
       "4  Конденсаторный микрофон        90.7493     959.30  8.705580e+04  Rode  "
      ]
     },
     "execution_count": 255,
     "metadata": {},
     "output_type": "execute_result"
    }
   ],
   "source": [
    "df_full['brand'] = df_full['name'].str.split(',').str[0]\n",
    "df_full.head()"
   ]
  },
  {
   "cell_type": "markdown",
   "id": "438d02fe",
   "metadata": {},
   "source": [
    "### 4.1 Найдем бренды с наибольшей выручкой:"
   ]
  },
  {
   "cell_type": "code",
   "execution_count": 256,
   "id": "f401c182",
   "metadata": {},
   "outputs": [],
   "source": [
    "revenue_by_brand = df_full.groupby('brand').agg({'cost_rub': 'sum'})"
   ]
  },
  {
   "cell_type": "code",
   "execution_count": 257,
   "id": "e8853943",
   "metadata": {},
   "outputs": [
    {
     "data": {
      "text/plain": [
       "brand\n",
       "JBL            308011218.7\n",
       "Heco           263204590.2\n",
       "Klipsch        220510731.6\n",
       "Yamaha         179867289.2\n",
       "KEF            161983470.5\n",
       "                  ...     \n",
       "SMSL               38418.0\n",
       "AudioSource        33881.7\n",
       "Fosi Audio         31294.2\n",
       "Bravo Audio        24050.9\n",
       "Creative           10014.2\n",
       "Name: cost_rub, Length: 121, dtype: float64"
      ]
     },
     "execution_count": 257,
     "metadata": {},
     "output_type": "execute_result"
    }
   ],
   "source": [
    "revenue_by_brand.cost_rub.round(1) \\\n",
    "    .sort_values(ascending=False)"
   ]
  },
  {
   "cell_type": "markdown",
   "id": "b24dd3cd",
   "metadata": {},
   "source": [
    "#### Бренд с наибольшей выручкой: JBL"
   ]
  },
  {
   "cell_type": "code",
   "execution_count": 258,
   "id": "49d4747b",
   "metadata": {},
   "outputs": [
    {
     "data": {
      "text/html": [
       "<div>\n",
       "<style scoped>\n",
       "    .dataframe tbody tr th:only-of-type {\n",
       "        vertical-align: middle;\n",
       "    }\n",
       "\n",
       "    .dataframe tbody tr th {\n",
       "        vertical-align: top;\n",
       "    }\n",
       "\n",
       "    .dataframe thead th {\n",
       "        text-align: right;\n",
       "    }\n",
       "</style>\n",
       "<table border=\"1\" class=\"dataframe\">\n",
       "  <thead>\n",
       "    <tr style=\"text-align: right;\">\n",
       "      <th></th>\n",
       "      <th>order_id</th>\n",
       "    </tr>\n",
       "    <tr>\n",
       "      <th>brand</th>\n",
       "      <th></th>\n",
       "    </tr>\n",
       "  </thead>\n",
       "  <tbody>\n",
       "    <tr>\n",
       "      <th>JBL</th>\n",
       "      <td>683</td>\n",
       "    </tr>\n",
       "    <tr>\n",
       "      <th>Heco</th>\n",
       "      <td>494</td>\n",
       "    </tr>\n",
       "    <tr>\n",
       "      <th>Yamaha</th>\n",
       "      <td>431</td>\n",
       "    </tr>\n",
       "    <tr>\n",
       "      <th>Klipsch</th>\n",
       "      <td>352</td>\n",
       "    </tr>\n",
       "    <tr>\n",
       "      <th>Magnat</th>\n",
       "      <td>231</td>\n",
       "    </tr>\n",
       "  </tbody>\n",
       "</table>\n",
       "</div>"
      ],
      "text/plain": [
       "         order_id\n",
       "brand            \n",
       "JBL           683\n",
       "Heco          494\n",
       "Yamaha        431\n",
       "Klipsch       352\n",
       "Magnat        231"
      ]
     },
     "execution_count": 258,
     "metadata": {},
     "output_type": "execute_result"
    }
   ],
   "source": [
    "df_full.groupby('brand').agg({'order_id': 'count'})\\\n",
    "    .sort_values(by='order_id', ascending=False)\\\n",
    "    .head()\n"
   ]
  },
  {
   "cell_type": "markdown",
   "id": "92fc4964",
   "metadata": {},
   "source": [
    "#### Бренд с наибольшим количеством заказов: JBL"
   ]
  },
  {
   "cell_type": "markdown",
   "id": "e1f9e412",
   "metadata": {},
   "source": [
    "### 4.2 Определим бренды, которые представлены широким ассортиментом, но редко попадают в заказы"
   ]
  },
  {
   "cell_type": "markdown",
   "id": "bc96c128",
   "metadata": {},
   "source": [
    "У одних брендов большинство товаров востребовано клиентами, а у других — клиенты заказывают только небольшую часть товаров, а остальные зря занимают виртуальную «полку» в перечне товаров, продаваемых вашей компанией. **Вам нужно определить, какие бренды редко попадают в заказы, хотя товаров таких брендов на самом деле много.**\n",
    "\n",
    "Начнем с того, что определим, какие товары из имеющихся в продаже хоть раз заказывали, а какие — нет. Для этого соберите список из перечня уникальных идентификаторов товаров, которые встречаются в датафрейме `df_confirmed`. После этого для каждого товара в датафрейме `df_products` определите, был ли этот товар в списке заказанных товаров в этом месяце или нет: создайте новую колонку `is_in_orders` и заполните её соответственно значениями `yes` или `no` для каждого товара.\n",
    "\n",
    "**В ответе укажите, сколько товаров были заказаны, а сколько — не были**"
   ]
  },
  {
   "cell_type": "markdown",
   "id": "cda34cce",
   "metadata": {},
   "source": [
    "<details>\n",
    "<summary>&#9658; Нажмите сюда, чтобы увидеть подсказку</summary>\n",
    "  <p>\n",
    "      \n",
    "1) Сохраните в список `products_in_orders` уникальные идентификаторы товаров из датафрейма `df_confirmed`.\n",
    "      \n",
    "2) Создайте в датафрейме `df_products` новую колонку `is_in_orders`, в которой будет значение `yes`, если значение из колонки `id` этого датафрейма есть в списке `products_in_orders`. Если его в этом списке нет - в новую колонку для этой строчки запишите значение `no`.\n",
    "      \n",
    "3) Посчитайте количество встречающихся значений `yes` и  `no` в колонке `is_in_orders`.\n",
    "      \n",
    "</p>\n",
    "</details>"
   ]
  },
  {
   "cell_type": "code",
   "execution_count": 259,
   "id": "bfaa2030",
   "metadata": {},
   "outputs": [
    {
     "data": {
      "text/html": [
       "<div>\n",
       "<style scoped>\n",
       "    .dataframe tbody tr th:only-of-type {\n",
       "        vertical-align: middle;\n",
       "    }\n",
       "\n",
       "    .dataframe tbody tr th {\n",
       "        vertical-align: top;\n",
       "    }\n",
       "\n",
       "    .dataframe thead th {\n",
       "        text-align: right;\n",
       "    }\n",
       "</style>\n",
       "<table border=\"1\" class=\"dataframe\">\n",
       "  <thead>\n",
       "    <tr style=\"text-align: right;\">\n",
       "      <th></th>\n",
       "      <th>order_id</th>\n",
       "      <th>product_id</th>\n",
       "      <th>quantity</th>\n",
       "      <th>manager</th>\n",
       "      <th>date</th>\n",
       "      <th>client_id</th>\n",
       "      <th>status</th>\n",
       "      <th>id</th>\n",
       "      <th>name</th>\n",
       "      <th>price</th>\n",
       "      <th>category</th>\n",
       "      <th>currency_rate</th>\n",
       "      <th>cost_doll</th>\n",
       "      <th>cost_rub</th>\n",
       "      <th>brand</th>\n",
       "    </tr>\n",
       "  </thead>\n",
       "  <tbody>\n",
       "    <tr>\n",
       "      <th>0</th>\n",
       "      <td>QPLK-54839036</td>\n",
       "      <td>489</td>\n",
       "      <td>11</td>\n",
       "      <td>Владимир Ударников</td>\n",
       "      <td>2024-03-10</td>\n",
       "      <td>52</td>\n",
       "      <td>confirmed</td>\n",
       "      <td>489</td>\n",
       "      <td>Heco, Ambient 33F</td>\n",
       "      <td>290.74</td>\n",
       "      <td>Настенная акустика</td>\n",
       "      <td>90.7493</td>\n",
       "      <td>3198.14</td>\n",
       "      <td>2.902290e+05</td>\n",
       "      <td>Heco</td>\n",
       "    </tr>\n",
       "    <tr>\n",
       "      <th>1</th>\n",
       "      <td>QPLK-54839036</td>\n",
       "      <td>594</td>\n",
       "      <td>6</td>\n",
       "      <td>Владимир Ударников</td>\n",
       "      <td>2024-03-10</td>\n",
       "      <td>52</td>\n",
       "      <td>confirmed</td>\n",
       "      <td>594</td>\n",
       "      <td>JBL, Control 28-1</td>\n",
       "      <td>301.85</td>\n",
       "      <td>Настенная акустика</td>\n",
       "      <td>90.7493</td>\n",
       "      <td>1811.10</td>\n",
       "      <td>1.643561e+05</td>\n",
       "      <td>JBL</td>\n",
       "    </tr>\n",
       "    <tr>\n",
       "      <th>2</th>\n",
       "      <td>QPLK-54839036</td>\n",
       "      <td>670</td>\n",
       "      <td>16</td>\n",
       "      <td>Владимир Ударников</td>\n",
       "      <td>2024-03-10</td>\n",
       "      <td>52</td>\n",
       "      <td>confirmed</td>\n",
       "      <td>670</td>\n",
       "      <td>KEF, LSX Wireless</td>\n",
       "      <td>810.17</td>\n",
       "      <td>Беспроводная акустика</td>\n",
       "      <td>90.7493</td>\n",
       "      <td>12962.72</td>\n",
       "      <td>1.176358e+06</td>\n",
       "      <td>KEF</td>\n",
       "    </tr>\n",
       "    <tr>\n",
       "      <th>3</th>\n",
       "      <td>QPLK-54839036</td>\n",
       "      <td>469</td>\n",
       "      <td>9</td>\n",
       "      <td>Владимир Ударников</td>\n",
       "      <td>2024-03-10</td>\n",
       "      <td>52</td>\n",
       "      <td>confirmed</td>\n",
       "      <td>469</td>\n",
       "      <td>Heco, Studio Pro 10</td>\n",
       "      <td>82.34</td>\n",
       "      <td>Конденсаторный микрофон</td>\n",
       "      <td>90.7493</td>\n",
       "      <td>741.06</td>\n",
       "      <td>6.725068e+04</td>\n",
       "      <td>Heco</td>\n",
       "    </tr>\n",
       "    <tr>\n",
       "      <th>4</th>\n",
       "      <td>QPLK-54839036</td>\n",
       "      <td>1302</td>\n",
       "      <td>5</td>\n",
       "      <td>Владимир Ударников</td>\n",
       "      <td>2024-03-10</td>\n",
       "      <td>52</td>\n",
       "      <td>confirmed</td>\n",
       "      <td>1302</td>\n",
       "      <td>Rode, NT1-A</td>\n",
       "      <td>191.86</td>\n",
       "      <td>Конденсаторный микрофон</td>\n",
       "      <td>90.7493</td>\n",
       "      <td>959.30</td>\n",
       "      <td>8.705580e+04</td>\n",
       "      <td>Rode</td>\n",
       "    </tr>\n",
       "  </tbody>\n",
       "</table>\n",
       "</div>"
      ],
      "text/plain": [
       "        order_id  product_id  quantity             manager       date  \\\n",
       "0  QPLK-54839036         489        11  Владимир Ударников 2024-03-10   \n",
       "1  QPLK-54839036         594         6  Владимир Ударников 2024-03-10   \n",
       "2  QPLK-54839036         670        16  Владимир Ударников 2024-03-10   \n",
       "3  QPLK-54839036         469         9  Владимир Ударников 2024-03-10   \n",
       "4  QPLK-54839036        1302         5  Владимир Ударников 2024-03-10   \n",
       "\n",
       "   client_id     status    id                 name   price  \\\n",
       "0         52  confirmed   489    Heco, Ambient 33F  290.74   \n",
       "1         52  confirmed   594    JBL, Control 28-1  301.85   \n",
       "2         52  confirmed   670    KEF, LSX Wireless  810.17   \n",
       "3         52  confirmed   469  Heco, Studio Pro 10   82.34   \n",
       "4         52  confirmed  1302          Rode, NT1-A  191.86   \n",
       "\n",
       "                  category  currency_rate  cost_doll      cost_rub brand  \n",
       "0       Настенная акустика        90.7493    3198.14  2.902290e+05  Heco  \n",
       "1       Настенная акустика        90.7493    1811.10  1.643561e+05   JBL  \n",
       "2    Беспроводная акустика        90.7493   12962.72  1.176358e+06   KEF  \n",
       "3  Конденсаторный микрофон        90.7493     741.06  6.725068e+04  Heco  \n",
       "4  Конденсаторный микрофон        90.7493     959.30  8.705580e+04  Rode  "
      ]
     },
     "execution_count": 259,
     "metadata": {},
     "output_type": "execute_result"
    }
   ],
   "source": [
    "# Оставляем только те товары, которые были заказаны\n",
    "df_confirmed = df_full.query('status == \"confirmed\"')\n",
    "df_confirmed.head()"
   ]
  },
  {
   "cell_type": "code",
   "execution_count": 260,
   "id": "c4280c88",
   "metadata": {},
   "outputs": [],
   "source": [
    "product_in_orders = df_confirmed.groupby('product_id', as_index=False).agg({'order_id': 'count'})"
   ]
  },
  {
   "cell_type": "code",
   "execution_count": 261,
   "id": "ef361e67",
   "metadata": {},
   "outputs": [
    {
     "data": {
      "text/html": [
       "<div>\n",
       "<style scoped>\n",
       "    .dataframe tbody tr th:only-of-type {\n",
       "        vertical-align: middle;\n",
       "    }\n",
       "\n",
       "    .dataframe tbody tr th {\n",
       "        vertical-align: top;\n",
       "    }\n",
       "\n",
       "    .dataframe thead th {\n",
       "        text-align: right;\n",
       "    }\n",
       "</style>\n",
       "<table border=\"1\" class=\"dataframe\">\n",
       "  <thead>\n",
       "    <tr style=\"text-align: right;\">\n",
       "      <th></th>\n",
       "      <th>product_id</th>\n",
       "      <th>order_id</th>\n",
       "    </tr>\n",
       "  </thead>\n",
       "  <tbody>\n",
       "    <tr>\n",
       "      <th>0</th>\n",
       "      <td>2</td>\n",
       "      <td>4</td>\n",
       "    </tr>\n",
       "    <tr>\n",
       "      <th>1</th>\n",
       "      <td>4</td>\n",
       "      <td>1</td>\n",
       "    </tr>\n",
       "    <tr>\n",
       "      <th>2</th>\n",
       "      <td>9</td>\n",
       "      <td>3</td>\n",
       "    </tr>\n",
       "    <tr>\n",
       "      <th>3</th>\n",
       "      <td>10</td>\n",
       "      <td>4</td>\n",
       "    </tr>\n",
       "    <tr>\n",
       "      <th>4</th>\n",
       "      <td>11</td>\n",
       "      <td>8</td>\n",
       "    </tr>\n",
       "  </tbody>\n",
       "</table>\n",
       "</div>"
      ],
      "text/plain": [
       "   product_id  order_id\n",
       "0           2         4\n",
       "1           4         1\n",
       "2           9         3\n",
       "3          10         4\n",
       "4          11         8"
      ]
     },
     "execution_count": 261,
     "metadata": {},
     "output_type": "execute_result"
    }
   ],
   "source": [
    "product_in_orders.drop(columns=['order_id'])\n",
    "product_in_orders.head()"
   ]
  },
  {
   "cell_type": "code",
   "execution_count": 262,
   "id": "939e9b60",
   "metadata": {},
   "outputs": [],
   "source": [
    "# Добавляем флаг о том, что товар был заказан хотя бы раз\n",
    "product_in_orders['in_orders'] = 'yes'"
   ]
  },
  {
   "cell_type": "code",
   "execution_count": 263,
   "id": "d865a13f",
   "metadata": {},
   "outputs": [
    {
     "data": {
      "text/html": [
       "<div>\n",
       "<style scoped>\n",
       "    .dataframe tbody tr th:only-of-type {\n",
       "        vertical-align: middle;\n",
       "    }\n",
       "\n",
       "    .dataframe tbody tr th {\n",
       "        vertical-align: top;\n",
       "    }\n",
       "\n",
       "    .dataframe thead th {\n",
       "        text-align: right;\n",
       "    }\n",
       "</style>\n",
       "<table border=\"1\" class=\"dataframe\">\n",
       "  <thead>\n",
       "    <tr style=\"text-align: right;\">\n",
       "      <th></th>\n",
       "      <th>product_id</th>\n",
       "      <th>order_id</th>\n",
       "      <th>in_orders</th>\n",
       "    </tr>\n",
       "  </thead>\n",
       "  <tbody>\n",
       "    <tr>\n",
       "      <th>0</th>\n",
       "      <td>2</td>\n",
       "      <td>4</td>\n",
       "      <td>yes</td>\n",
       "    </tr>\n",
       "    <tr>\n",
       "      <th>1</th>\n",
       "      <td>4</td>\n",
       "      <td>1</td>\n",
       "      <td>yes</td>\n",
       "    </tr>\n",
       "    <tr>\n",
       "      <th>2</th>\n",
       "      <td>9</td>\n",
       "      <td>3</td>\n",
       "      <td>yes</td>\n",
       "    </tr>\n",
       "    <tr>\n",
       "      <th>3</th>\n",
       "      <td>10</td>\n",
       "      <td>4</td>\n",
       "      <td>yes</td>\n",
       "    </tr>\n",
       "    <tr>\n",
       "      <th>4</th>\n",
       "      <td>11</td>\n",
       "      <td>8</td>\n",
       "      <td>yes</td>\n",
       "    </tr>\n",
       "  </tbody>\n",
       "</table>\n",
       "</div>"
      ],
      "text/plain": [
       "   product_id  order_id in_orders\n",
       "0           2         4       yes\n",
       "1           4         1       yes\n",
       "2           9         3       yes\n",
       "3          10         4       yes\n",
       "4          11         8       yes"
      ]
     },
     "execution_count": 263,
     "metadata": {},
     "output_type": "execute_result"
    }
   ],
   "source": [
    "product_in_orders.head()"
   ]
  },
  {
   "cell_type": "code",
   "execution_count": 264,
   "id": "283f7cf8",
   "metadata": {},
   "outputs": [],
   "source": [
    "# Соединяем с таблицей, где есть все товары\n",
    "product_in_orders_full = df_products.merge(product_in_orders, how='left', left_on='id', right_on='product_id')"
   ]
  },
  {
   "cell_type": "code",
   "execution_count": 265,
   "id": "0e8e0282",
   "metadata": {},
   "outputs": [],
   "source": [
    "# Вместо пропусков ставим флаг - нет (товар ни разу не был заказан)\n",
    "product_in_orders_full = product_in_orders_full.fillna('no')"
   ]
  },
  {
   "cell_type": "code",
   "execution_count": 266,
   "id": "b046b5a7",
   "metadata": {},
   "outputs": [
    {
     "data": {
      "text/html": [
       "<div>\n",
       "<style scoped>\n",
       "    .dataframe tbody tr th:only-of-type {\n",
       "        vertical-align: middle;\n",
       "    }\n",
       "\n",
       "    .dataframe tbody tr th {\n",
       "        vertical-align: top;\n",
       "    }\n",
       "\n",
       "    .dataframe thead th {\n",
       "        text-align: right;\n",
       "    }\n",
       "</style>\n",
       "<table border=\"1\" class=\"dataframe\">\n",
       "  <thead>\n",
       "    <tr style=\"text-align: right;\">\n",
       "      <th></th>\n",
       "      <th>id</th>\n",
       "    </tr>\n",
       "    <tr>\n",
       "      <th>in_orders</th>\n",
       "      <th></th>\n",
       "    </tr>\n",
       "  </thead>\n",
       "  <tbody>\n",
       "    <tr>\n",
       "      <th>no</th>\n",
       "      <td>497</td>\n",
       "    </tr>\n",
       "    <tr>\n",
       "      <th>yes</th>\n",
       "      <td>1180</td>\n",
       "    </tr>\n",
       "  </tbody>\n",
       "</table>\n",
       "</div>"
      ],
      "text/plain": [
       "             id\n",
       "in_orders      \n",
       "no          497\n",
       "yes        1180"
      ]
     },
     "execution_count": 266,
     "metadata": {},
     "output_type": "execute_result"
    }
   ],
   "source": [
    "# Считаем количество заказанных и не заказанных товаров \n",
    "product_in_orders_full.groupby('in_orders').agg({'id': 'count'})"
   ]
  },
  {
   "cell_type": "code",
   "execution_count": 267,
   "id": "a5f21d85",
   "metadata": {},
   "outputs": [
    {
     "data": {
      "text/html": [
       "<div>\n",
       "<style scoped>\n",
       "    .dataframe tbody tr th:only-of-type {\n",
       "        vertical-align: middle;\n",
       "    }\n",
       "\n",
       "    .dataframe tbody tr th {\n",
       "        vertical-align: top;\n",
       "    }\n",
       "\n",
       "    .dataframe thead th {\n",
       "        text-align: right;\n",
       "    }\n",
       "</style>\n",
       "<table border=\"1\" class=\"dataframe\">\n",
       "  <thead>\n",
       "    <tr style=\"text-align: right;\">\n",
       "      <th></th>\n",
       "      <th>id</th>\n",
       "      <th>name</th>\n",
       "      <th>price</th>\n",
       "      <th>category</th>\n",
       "      <th>product_id</th>\n",
       "      <th>order_id</th>\n",
       "      <th>in_orders</th>\n",
       "    </tr>\n",
       "  </thead>\n",
       "  <tbody>\n",
       "    <tr>\n",
       "      <th>0</th>\n",
       "      <td>207</td>\n",
       "      <td>Denon, AVR-S540BT</td>\n",
       "      <td>243.52</td>\n",
       "      <td>AV-ресивер</td>\n",
       "      <td>207</td>\n",
       "      <td>2</td>\n",
       "      <td>yes</td>\n",
       "    </tr>\n",
       "    <tr>\n",
       "      <th>1</th>\n",
       "      <td>208</td>\n",
       "      <td>Denon, AVR-X3700H</td>\n",
       "      <td>1305.52</td>\n",
       "      <td>AV-ресивер</td>\n",
       "      <td>208</td>\n",
       "      <td>3</td>\n",
       "      <td>yes</td>\n",
       "    </tr>\n",
       "    <tr>\n",
       "      <th>2</th>\n",
       "      <td>209</td>\n",
       "      <td>Denon, AVR-X4700H</td>\n",
       "      <td>1620.21</td>\n",
       "      <td>AV-ресивер</td>\n",
       "      <td>209</td>\n",
       "      <td>1</td>\n",
       "      <td>yes</td>\n",
       "    </tr>\n",
       "    <tr>\n",
       "      <th>3</th>\n",
       "      <td>210</td>\n",
       "      <td>Denon, AVR-X6700H</td>\n",
       "      <td>2050.31</td>\n",
       "      <td>AV-ресивер</td>\n",
       "      <td>210</td>\n",
       "      <td>2</td>\n",
       "      <td>yes</td>\n",
       "    </tr>\n",
       "    <tr>\n",
       "      <th>4</th>\n",
       "      <td>211</td>\n",
       "      <td>Denon, AVC-X4700H</td>\n",
       "      <td>1496.81</td>\n",
       "      <td>AV-ресивер</td>\n",
       "      <td>211</td>\n",
       "      <td>4</td>\n",
       "      <td>yes</td>\n",
       "    </tr>\n",
       "  </tbody>\n",
       "</table>\n",
       "</div>"
      ],
      "text/plain": [
       "    id               name    price    category product_id order_id in_orders\n",
       "0  207  Denon, AVR-S540BT   243.52  AV-ресивер        207        2       yes\n",
       "1  208  Denon, AVR-X3700H  1305.52  AV-ресивер        208        3       yes\n",
       "2  209  Denon, AVR-X4700H  1620.21  AV-ресивер        209        1       yes\n",
       "3  210  Denon, AVR-X6700H  2050.31  AV-ресивер        210        2       yes\n",
       "4  211  Denon, AVC-X4700H  1496.81  AV-ресивер        211        4       yes"
      ]
     },
     "execution_count": 267,
     "metadata": {},
     "output_type": "execute_result"
    }
   ],
   "source": [
    "product_in_orders_full.head()"
   ]
  },
  {
   "cell_type": "code",
   "execution_count": 268,
   "id": "13372130",
   "metadata": {},
   "outputs": [],
   "source": [
    "# Добавляем колонку с информацией о бренде\n",
    "product_in_orders_full['brand'] = product_in_orders_full['name'].str.split(',').str[0]"
   ]
  },
  {
   "cell_type": "code",
   "execution_count": 269,
   "id": "c5e833ec",
   "metadata": {},
   "outputs": [
    {
     "data": {
      "text/html": [
       "<div>\n",
       "<style scoped>\n",
       "    .dataframe tbody tr th:only-of-type {\n",
       "        vertical-align: middle;\n",
       "    }\n",
       "\n",
       "    .dataframe tbody tr th {\n",
       "        vertical-align: top;\n",
       "    }\n",
       "\n",
       "    .dataframe thead th {\n",
       "        text-align: right;\n",
       "    }\n",
       "</style>\n",
       "<table border=\"1\" class=\"dataframe\">\n",
       "  <thead>\n",
       "    <tr style=\"text-align: right;\">\n",
       "      <th></th>\n",
       "      <th>id</th>\n",
       "      <th>name</th>\n",
       "      <th>price</th>\n",
       "      <th>category</th>\n",
       "      <th>product_id</th>\n",
       "      <th>order_id</th>\n",
       "      <th>in_orders</th>\n",
       "      <th>brand</th>\n",
       "    </tr>\n",
       "  </thead>\n",
       "  <tbody>\n",
       "    <tr>\n",
       "      <th>0</th>\n",
       "      <td>207</td>\n",
       "      <td>Denon, AVR-S540BT</td>\n",
       "      <td>243.52</td>\n",
       "      <td>AV-ресивер</td>\n",
       "      <td>207</td>\n",
       "      <td>2</td>\n",
       "      <td>yes</td>\n",
       "      <td>Denon</td>\n",
       "    </tr>\n",
       "    <tr>\n",
       "      <th>1</th>\n",
       "      <td>208</td>\n",
       "      <td>Denon, AVR-X3700H</td>\n",
       "      <td>1305.52</td>\n",
       "      <td>AV-ресивер</td>\n",
       "      <td>208</td>\n",
       "      <td>3</td>\n",
       "      <td>yes</td>\n",
       "      <td>Denon</td>\n",
       "    </tr>\n",
       "    <tr>\n",
       "      <th>2</th>\n",
       "      <td>209</td>\n",
       "      <td>Denon, AVR-X4700H</td>\n",
       "      <td>1620.21</td>\n",
       "      <td>AV-ресивер</td>\n",
       "      <td>209</td>\n",
       "      <td>1</td>\n",
       "      <td>yes</td>\n",
       "      <td>Denon</td>\n",
       "    </tr>\n",
       "    <tr>\n",
       "      <th>3</th>\n",
       "      <td>210</td>\n",
       "      <td>Denon, AVR-X6700H</td>\n",
       "      <td>2050.31</td>\n",
       "      <td>AV-ресивер</td>\n",
       "      <td>210</td>\n",
       "      <td>2</td>\n",
       "      <td>yes</td>\n",
       "      <td>Denon</td>\n",
       "    </tr>\n",
       "    <tr>\n",
       "      <th>4</th>\n",
       "      <td>211</td>\n",
       "      <td>Denon, AVC-X4700H</td>\n",
       "      <td>1496.81</td>\n",
       "      <td>AV-ресивер</td>\n",
       "      <td>211</td>\n",
       "      <td>4</td>\n",
       "      <td>yes</td>\n",
       "      <td>Denon</td>\n",
       "    </tr>\n",
       "  </tbody>\n",
       "</table>\n",
       "</div>"
      ],
      "text/plain": [
       "    id               name    price    category product_id order_id in_orders  \\\n",
       "0  207  Denon, AVR-S540BT   243.52  AV-ресивер        207        2       yes   \n",
       "1  208  Denon, AVR-X3700H  1305.52  AV-ресивер        208        3       yes   \n",
       "2  209  Denon, AVR-X4700H  1620.21  AV-ресивер        209        1       yes   \n",
       "3  210  Denon, AVR-X6700H  2050.31  AV-ресивер        210        2       yes   \n",
       "4  211  Denon, AVC-X4700H  1496.81  AV-ресивер        211        4       yes   \n",
       "\n",
       "   brand  \n",
       "0  Denon  \n",
       "1  Denon  \n",
       "2  Denon  \n",
       "3  Denon  \n",
       "4  Denon  "
      ]
     },
     "execution_count": 269,
     "metadata": {},
     "output_type": "execute_result"
    }
   ],
   "source": [
    "product_in_orders_full.head()"
   ]
  },
  {
   "cell_type": "code",
   "execution_count": 270,
   "id": "8df0abce",
   "metadata": {},
   "outputs": [],
   "source": [
    "# Считаем сколькими позициями представлен каждый бренд\n",
    "count_products = product_in_orders_full.groupby('brand', as_index=False).agg({'id': 'count'})"
   ]
  },
  {
   "cell_type": "code",
   "execution_count": 271,
   "id": "d8bb8352",
   "metadata": {},
   "outputs": [],
   "source": [
    "# Фильтруем те бренды, у которых более 15 позиций \n",
    "big_brand = count_products.query('id > 15') "
   ]
  },
  {
   "cell_type": "code",
   "execution_count": 272,
   "id": "b1c9e031",
   "metadata": {},
   "outputs": [
    {
     "data": {
      "text/html": [
       "<div>\n",
       "<style scoped>\n",
       "    .dataframe tbody tr th:only-of-type {\n",
       "        vertical-align: middle;\n",
       "    }\n",
       "\n",
       "    .dataframe tbody tr th {\n",
       "        vertical-align: top;\n",
       "    }\n",
       "\n",
       "    .dataframe thead th {\n",
       "        text-align: right;\n",
       "    }\n",
       "</style>\n",
       "<table border=\"1\" class=\"dataframe\">\n",
       "  <thead>\n",
       "    <tr style=\"text-align: right;\">\n",
       "      <th></th>\n",
       "      <th>brand</th>\n",
       "      <th>id</th>\n",
       "    </tr>\n",
       "  </thead>\n",
       "  <tbody>\n",
       "    <tr>\n",
       "      <th>17</th>\n",
       "      <td>Bose</td>\n",
       "      <td>21</td>\n",
       "    </tr>\n",
       "    <tr>\n",
       "      <th>32</th>\n",
       "      <td>Dali</td>\n",
       "      <td>67</td>\n",
       "    </tr>\n",
       "    <tr>\n",
       "      <th>36</th>\n",
       "      <td>Denon</td>\n",
       "      <td>41</td>\n",
       "    </tr>\n",
       "    <tr>\n",
       "      <th>39</th>\n",
       "      <td>Edifier</td>\n",
       "      <td>73</td>\n",
       "    </tr>\n",
       "    <tr>\n",
       "      <th>53</th>\n",
       "      <td>Harman Kardon</td>\n",
       "      <td>80</td>\n",
       "    </tr>\n",
       "  </tbody>\n",
       "</table>\n",
       "</div>"
      ],
      "text/plain": [
       "            brand  id\n",
       "17           Bose  21\n",
       "32           Dali  67\n",
       "36          Denon  41\n",
       "39        Edifier  73\n",
       "53  Harman Kardon  80"
      ]
     },
     "execution_count": 272,
     "metadata": {},
     "output_type": "execute_result"
    }
   ],
   "source": [
    "big_brand.head()"
   ]
  },
  {
   "cell_type": "markdown",
   "id": "9821e44b",
   "metadata": {},
   "source": [
    "#### Посчитаем количество заказанных и не заказанных ни разу позиций у крупных брендов"
   ]
  },
  {
   "cell_type": "code",
   "execution_count": 273,
   "id": "9720d839",
   "metadata": {},
   "outputs": [],
   "source": [
    "big_brand_list = big_brand['brand']"
   ]
  },
  {
   "cell_type": "code",
   "execution_count": 274,
   "id": "f5e988c4",
   "metadata": {},
   "outputs": [],
   "source": [
    "big_brand_part = product_in_orders_full.query('brand in @big_brand_list') \\\n",
    "    .groupby(['brand', 'in_orders']).agg({'id': 'count'})"
   ]
  },
  {
   "cell_type": "code",
   "execution_count": 275,
   "id": "b2e134be",
   "metadata": {},
   "outputs": [],
   "source": [
    "big_brand_part = big_brand_part.reset_index().pivot(index='brand', columns='in_orders', values='id')"
   ]
  },
  {
   "cell_type": "code",
   "execution_count": 276,
   "id": "326dff74",
   "metadata": {},
   "outputs": [],
   "source": [
    "# Считаем какую часть товаров от всего ассортимента бренда ни разу не покупали \n",
    "big_brand_part['part'] = ((big_brand_part.no / (big_brand_part.no + big_brand_part.yes)) * 100).round(2)"
   ]
  },
  {
   "cell_type": "code",
   "execution_count": 277,
   "id": "f54871c5",
   "metadata": {},
   "outputs": [
    {
     "data": {
      "text/html": [
       "<div>\n",
       "<style scoped>\n",
       "    .dataframe tbody tr th:only-of-type {\n",
       "        vertical-align: middle;\n",
       "    }\n",
       "\n",
       "    .dataframe tbody tr th {\n",
       "        vertical-align: top;\n",
       "    }\n",
       "\n",
       "    .dataframe thead th {\n",
       "        text-align: right;\n",
       "    }\n",
       "</style>\n",
       "<table border=\"1\" class=\"dataframe\">\n",
       "  <thead>\n",
       "    <tr style=\"text-align: right;\">\n",
       "      <th>in_orders</th>\n",
       "      <th>no</th>\n",
       "      <th>yes</th>\n",
       "      <th>part</th>\n",
       "    </tr>\n",
       "    <tr>\n",
       "      <th>brand</th>\n",
       "      <th></th>\n",
       "      <th></th>\n",
       "      <th></th>\n",
       "    </tr>\n",
       "  </thead>\n",
       "  <tbody>\n",
       "    <tr>\n",
       "      <th>Marantz</th>\n",
       "      <td>19</td>\n",
       "      <td>3</td>\n",
       "      <td>86.36</td>\n",
       "    </tr>\n",
       "    <tr>\n",
       "      <th>Dali</th>\n",
       "      <td>49</td>\n",
       "      <td>18</td>\n",
       "      <td>73.13</td>\n",
       "    </tr>\n",
       "    <tr>\n",
       "      <th>Pioneer</th>\n",
       "      <td>70</td>\n",
       "      <td>33</td>\n",
       "      <td>67.96</td>\n",
       "    </tr>\n",
       "    <tr>\n",
       "      <th>KEF</th>\n",
       "      <td>54</td>\n",
       "      <td>28</td>\n",
       "      <td>65.85</td>\n",
       "    </tr>\n",
       "    <tr>\n",
       "      <th>Onkyo</th>\n",
       "      <td>9</td>\n",
       "      <td>21</td>\n",
       "      <td>30.00</td>\n",
       "    </tr>\n",
       "    <tr>\n",
       "      <th>Bose</th>\n",
       "      <td>6</td>\n",
       "      <td>15</td>\n",
       "      <td>28.57</td>\n",
       "    </tr>\n",
       "    <tr>\n",
       "      <th>Edifier</th>\n",
       "      <td>20</td>\n",
       "      <td>53</td>\n",
       "      <td>27.40</td>\n",
       "    </tr>\n",
       "    <tr>\n",
       "      <th>Sony</th>\n",
       "      <td>10</td>\n",
       "      <td>27</td>\n",
       "      <td>27.03</td>\n",
       "    </tr>\n",
       "    <tr>\n",
       "      <th>Sennheiser</th>\n",
       "      <td>20</td>\n",
       "      <td>56</td>\n",
       "      <td>26.32</td>\n",
       "    </tr>\n",
       "    <tr>\n",
       "      <th>Harman Kardon</th>\n",
       "      <td>19</td>\n",
       "      <td>61</td>\n",
       "      <td>23.75</td>\n",
       "    </tr>\n",
       "    <tr>\n",
       "      <th>Magnat</th>\n",
       "      <td>21</td>\n",
       "      <td>71</td>\n",
       "      <td>22.83</td>\n",
       "    </tr>\n",
       "    <tr>\n",
       "      <th>Marshall</th>\n",
       "      <td>7</td>\n",
       "      <td>25</td>\n",
       "      <td>21.88</td>\n",
       "    </tr>\n",
       "    <tr>\n",
       "      <th>Q-Acoustics</th>\n",
       "      <td>13</td>\n",
       "      <td>62</td>\n",
       "      <td>17.33</td>\n",
       "    </tr>\n",
       "    <tr>\n",
       "      <th>Denon</th>\n",
       "      <td>7</td>\n",
       "      <td>34</td>\n",
       "      <td>17.07</td>\n",
       "    </tr>\n",
       "    <tr>\n",
       "      <th>Yamaha</th>\n",
       "      <td>15</td>\n",
       "      <td>91</td>\n",
       "      <td>14.15</td>\n",
       "    </tr>\n",
       "    <tr>\n",
       "      <th>Wharfedale</th>\n",
       "      <td>7</td>\n",
       "      <td>50</td>\n",
       "      <td>12.28</td>\n",
       "    </tr>\n",
       "    <tr>\n",
       "      <th>Klipsch</th>\n",
       "      <td>6</td>\n",
       "      <td>66</td>\n",
       "      <td>8.33</td>\n",
       "    </tr>\n",
       "    <tr>\n",
       "      <th>Heco</th>\n",
       "      <td>6</td>\n",
       "      <td>85</td>\n",
       "      <td>6.59</td>\n",
       "    </tr>\n",
       "    <tr>\n",
       "      <th>JBL</th>\n",
       "      <td>7</td>\n",
       "      <td>108</td>\n",
       "      <td>6.09</td>\n",
       "    </tr>\n",
       "  </tbody>\n",
       "</table>\n",
       "</div>"
      ],
      "text/plain": [
       "in_orders      no  yes   part\n",
       "brand                        \n",
       "Marantz        19    3  86.36\n",
       "Dali           49   18  73.13\n",
       "Pioneer        70   33  67.96\n",
       "KEF            54   28  65.85\n",
       "Onkyo           9   21  30.00\n",
       "Bose            6   15  28.57\n",
       "Edifier        20   53  27.40\n",
       "Sony           10   27  27.03\n",
       "Sennheiser     20   56  26.32\n",
       "Harman Kardon  19   61  23.75\n",
       "Magnat         21   71  22.83\n",
       "Marshall        7   25  21.88\n",
       "Q-Acoustics    13   62  17.33\n",
       "Denon           7   34  17.07\n",
       "Yamaha         15   91  14.15\n",
       "Wharfedale      7   50  12.28\n",
       "Klipsch         6   66   8.33\n",
       "Heco            6   85   6.59\n",
       "JBL             7  108   6.09"
      ]
     },
     "execution_count": 277,
     "metadata": {},
     "output_type": "execute_result"
    }
   ],
   "source": [
    "# Выводим сверху самые плохопродаваемые бренды \n",
    "big_brand_part.sort_values('part', ascending=False)"
   ]
  },
  {
   "cell_type": "markdown",
   "id": "ecfa17e6",
   "metadata": {},
   "source": [
    "#### Вывод:"
   ]
  },
  {
   "cell_type": "markdown",
   "id": "1be5cf7f",
   "metadata": {},
   "source": [
    "Примерно треть товаров не была заказана ни разу в этом месяце.  \n",
    "Выделим бренды, у которых доля ни разу не заказанных товаров была больше половины от всех продаваемых товаров этого бренда (они захламляют нашу виртуальную полку, их ассортимент следует сокращать):\n",
    "- Dali  \n",
    "- KEF  \n",
    "- Marantz    \n",
    "- Pioneer"
   ]
  },
  {
   "cell_type": "markdown",
   "id": "6dc7f236",
   "metadata": {},
   "source": [
    "## 5. Составим отчет по продажам менеджеров"
   ]
  },
  {
   "cell_type": "code",
   "execution_count": 279,
   "id": "3bd1cc76",
   "metadata": {},
   "outputs": [
    {
     "data": {
      "text/plain": [
       "2038231821.56"
      ]
     },
     "execution_count": 279,
     "metadata": {},
     "output_type": "execute_result"
    }
   ],
   "source": [
    "# Общая выручка за месяц\n",
    "revenue"
   ]
  },
  {
   "cell_type": "code",
   "execution_count": 280,
   "id": "8a7e4739",
   "metadata": {},
   "outputs": [],
   "source": [
    "# Выручка, которую принес каждый менеджер\n",
    "revenue_by_manager = df_full.groupby('manager', as_index=False).agg({'cost_rub': 'sum'})"
   ]
  },
  {
   "cell_type": "code",
   "execution_count": 281,
   "id": "50f47daa",
   "metadata": {},
   "outputs": [],
   "source": [
    "# Часть каждого менеджера от общей выручки\n",
    "revenue_by_manager['part'] = ((revenue_by_manager.cost_rub / revenue) * 100).round(2)"
   ]
  },
  {
   "cell_type": "code",
   "execution_count": 282,
   "id": "084b29ea",
   "metadata": {},
   "outputs": [],
   "source": [
    "revenue_by_manager = revenue_by_manager.sort_values('part', ascending=False)"
   ]
  },
  {
   "cell_type": "code",
   "execution_count": 283,
   "id": "c9eb81af",
   "metadata": {},
   "outputs": [
    {
     "data": {
      "text/html": [
       "<div>\n",
       "<style scoped>\n",
       "    .dataframe tbody tr th:only-of-type {\n",
       "        vertical-align: middle;\n",
       "    }\n",
       "\n",
       "    .dataframe tbody tr th {\n",
       "        vertical-align: top;\n",
       "    }\n",
       "\n",
       "    .dataframe thead th {\n",
       "        text-align: right;\n",
       "    }\n",
       "</style>\n",
       "<table border=\"1\" class=\"dataframe\">\n",
       "  <thead>\n",
       "    <tr style=\"text-align: right;\">\n",
       "      <th></th>\n",
       "      <th>order_id</th>\n",
       "      <th>product_id</th>\n",
       "      <th>quantity</th>\n",
       "      <th>manager</th>\n",
       "      <th>date</th>\n",
       "      <th>client_id</th>\n",
       "      <th>status</th>\n",
       "      <th>id</th>\n",
       "      <th>name</th>\n",
       "      <th>price</th>\n",
       "      <th>category</th>\n",
       "      <th>currency_rate</th>\n",
       "      <th>cost_doll</th>\n",
       "      <th>cost_rub</th>\n",
       "      <th>brand</th>\n",
       "    </tr>\n",
       "  </thead>\n",
       "  <tbody>\n",
       "    <tr>\n",
       "      <th>0</th>\n",
       "      <td>QPLK-54839036</td>\n",
       "      <td>489</td>\n",
       "      <td>11</td>\n",
       "      <td>Владимир Ударников</td>\n",
       "      <td>2024-03-10</td>\n",
       "      <td>52</td>\n",
       "      <td>confirmed</td>\n",
       "      <td>489</td>\n",
       "      <td>Heco, Ambient 33F</td>\n",
       "      <td>290.74</td>\n",
       "      <td>Настенная акустика</td>\n",
       "      <td>90.7493</td>\n",
       "      <td>3198.14</td>\n",
       "      <td>2.902290e+05</td>\n",
       "      <td>Heco</td>\n",
       "    </tr>\n",
       "    <tr>\n",
       "      <th>1</th>\n",
       "      <td>QPLK-54839036</td>\n",
       "      <td>594</td>\n",
       "      <td>6</td>\n",
       "      <td>Владимир Ударников</td>\n",
       "      <td>2024-03-10</td>\n",
       "      <td>52</td>\n",
       "      <td>confirmed</td>\n",
       "      <td>594</td>\n",
       "      <td>JBL, Control 28-1</td>\n",
       "      <td>301.85</td>\n",
       "      <td>Настенная акустика</td>\n",
       "      <td>90.7493</td>\n",
       "      <td>1811.10</td>\n",
       "      <td>1.643561e+05</td>\n",
       "      <td>JBL</td>\n",
       "    </tr>\n",
       "    <tr>\n",
       "      <th>2</th>\n",
       "      <td>QPLK-54839036</td>\n",
       "      <td>670</td>\n",
       "      <td>16</td>\n",
       "      <td>Владимир Ударников</td>\n",
       "      <td>2024-03-10</td>\n",
       "      <td>52</td>\n",
       "      <td>confirmed</td>\n",
       "      <td>670</td>\n",
       "      <td>KEF, LSX Wireless</td>\n",
       "      <td>810.17</td>\n",
       "      <td>Беспроводная акустика</td>\n",
       "      <td>90.7493</td>\n",
       "      <td>12962.72</td>\n",
       "      <td>1.176358e+06</td>\n",
       "      <td>KEF</td>\n",
       "    </tr>\n",
       "    <tr>\n",
       "      <th>3</th>\n",
       "      <td>QPLK-54839036</td>\n",
       "      <td>469</td>\n",
       "      <td>9</td>\n",
       "      <td>Владимир Ударников</td>\n",
       "      <td>2024-03-10</td>\n",
       "      <td>52</td>\n",
       "      <td>confirmed</td>\n",
       "      <td>469</td>\n",
       "      <td>Heco, Studio Pro 10</td>\n",
       "      <td>82.34</td>\n",
       "      <td>Конденсаторный микрофон</td>\n",
       "      <td>90.7493</td>\n",
       "      <td>741.06</td>\n",
       "      <td>6.725068e+04</td>\n",
       "      <td>Heco</td>\n",
       "    </tr>\n",
       "    <tr>\n",
       "      <th>4</th>\n",
       "      <td>QPLK-54839036</td>\n",
       "      <td>1302</td>\n",
       "      <td>5</td>\n",
       "      <td>Владимир Ударников</td>\n",
       "      <td>2024-03-10</td>\n",
       "      <td>52</td>\n",
       "      <td>confirmed</td>\n",
       "      <td>1302</td>\n",
       "      <td>Rode, NT1-A</td>\n",
       "      <td>191.86</td>\n",
       "      <td>Конденсаторный микрофон</td>\n",
       "      <td>90.7493</td>\n",
       "      <td>959.30</td>\n",
       "      <td>8.705580e+04</td>\n",
       "      <td>Rode</td>\n",
       "    </tr>\n",
       "  </tbody>\n",
       "</table>\n",
       "</div>"
      ],
      "text/plain": [
       "        order_id  product_id  quantity             manager       date  \\\n",
       "0  QPLK-54839036         489        11  Владимир Ударников 2024-03-10   \n",
       "1  QPLK-54839036         594         6  Владимир Ударников 2024-03-10   \n",
       "2  QPLK-54839036         670        16  Владимир Ударников 2024-03-10   \n",
       "3  QPLK-54839036         469         9  Владимир Ударников 2024-03-10   \n",
       "4  QPLK-54839036        1302         5  Владимир Ударников 2024-03-10   \n",
       "\n",
       "   client_id     status    id                 name   price  \\\n",
       "0         52  confirmed   489    Heco, Ambient 33F  290.74   \n",
       "1         52  confirmed   594    JBL, Control 28-1  301.85   \n",
       "2         52  confirmed   670    KEF, LSX Wireless  810.17   \n",
       "3         52  confirmed   469  Heco, Studio Pro 10   82.34   \n",
       "4         52  confirmed  1302          Rode, NT1-A  191.86   \n",
       "\n",
       "                  category  currency_rate  cost_doll      cost_rub brand  \n",
       "0       Настенная акустика        90.7493    3198.14  2.902290e+05  Heco  \n",
       "1       Настенная акустика        90.7493    1811.10  1.643561e+05   JBL  \n",
       "2    Беспроводная акустика        90.7493   12962.72  1.176358e+06   KEF  \n",
       "3  Конденсаторный микрофон        90.7493     741.06  6.725068e+04  Heco  \n",
       "4  Конденсаторный микрофон        90.7493     959.30  8.705580e+04  Rode  "
      ]
     },
     "execution_count": 283,
     "metadata": {},
     "output_type": "execute_result"
    }
   ],
   "source": [
    "df_full.head()"
   ]
  },
  {
   "cell_type": "code",
   "execution_count": 284,
   "id": "f9103dea",
   "metadata": {},
   "outputs": [
    {
     "data": {
      "text/html": [
       "<div>\n",
       "<style scoped>\n",
       "    .dataframe tbody tr th:only-of-type {\n",
       "        vertical-align: middle;\n",
       "    }\n",
       "\n",
       "    .dataframe tbody tr th {\n",
       "        vertical-align: top;\n",
       "    }\n",
       "\n",
       "    .dataframe thead th {\n",
       "        text-align: right;\n",
       "    }\n",
       "</style>\n",
       "<table border=\"1\" class=\"dataframe\">\n",
       "  <thead>\n",
       "    <tr style=\"text-align: right;\">\n",
       "      <th></th>\n",
       "      <th>manager</th>\n",
       "      <th>confirmed_orders</th>\n",
       "    </tr>\n",
       "  </thead>\n",
       "  <tbody>\n",
       "    <tr>\n",
       "      <th>1</th>\n",
       "      <td>Алексей Саксофонов</td>\n",
       "      <td>391</td>\n",
       "    </tr>\n",
       "    <tr>\n",
       "      <th>3</th>\n",
       "      <td>Анастасия Дудкина</td>\n",
       "      <td>271</td>\n",
       "    </tr>\n",
       "    <tr>\n",
       "      <th>5</th>\n",
       "      <td>Антон Скрипкин</td>\n",
       "      <td>98</td>\n",
       "    </tr>\n",
       "    <tr>\n",
       "      <th>6</th>\n",
       "      <td>Аркадий Октавин</td>\n",
       "      <td>66</td>\n",
       "    </tr>\n",
       "    <tr>\n",
       "      <th>8</th>\n",
       "      <td>Виктор Тромбонов</td>\n",
       "      <td>641</td>\n",
       "    </tr>\n",
       "    <tr>\n",
       "      <th>10</th>\n",
       "      <td>Владимир Ударников</td>\n",
       "      <td>423</td>\n",
       "    </tr>\n",
       "    <tr>\n",
       "      <th>12</th>\n",
       "      <td>Екатерина Тарелкина</td>\n",
       "      <td>356</td>\n",
       "    </tr>\n",
       "    <tr>\n",
       "      <th>14</th>\n",
       "      <td>Ксения Балалайкина</td>\n",
       "      <td>341</td>\n",
       "    </tr>\n",
       "    <tr>\n",
       "      <th>16</th>\n",
       "      <td>Максим Барабанов</td>\n",
       "      <td>502</td>\n",
       "    </tr>\n",
       "    <tr>\n",
       "      <th>18</th>\n",
       "      <td>Маргарита Камертонова</td>\n",
       "      <td>678</td>\n",
       "    </tr>\n",
       "    <tr>\n",
       "      <th>20</th>\n",
       "      <td>Надежда Гармошкина</td>\n",
       "      <td>254</td>\n",
       "    </tr>\n",
       "    <tr>\n",
       "      <th>21</th>\n",
       "      <td>Сергей Контрабасов</td>\n",
       "      <td>62</td>\n",
       "    </tr>\n",
       "  </tbody>\n",
       "</table>\n",
       "</div>"
      ],
      "text/plain": [
       "                  manager  confirmed_orders\n",
       "1      Алексей Саксофонов               391\n",
       "3       Анастасия Дудкина               271\n",
       "5          Антон Скрипкин                98\n",
       "6         Аркадий Октавин                66\n",
       "8        Виктор Тромбонов               641\n",
       "10     Владимир Ударников               423\n",
       "12    Екатерина Тарелкина               356\n",
       "14     Ксения Балалайкина               341\n",
       "16       Максим Барабанов               502\n",
       "18  Маргарита Камертонова               678\n",
       "20     Надежда Гармошкина               254\n",
       "21     Сергей Контрабасов                62"
      ]
     },
     "execution_count": 284,
     "metadata": {},
     "output_type": "execute_result"
    }
   ],
   "source": [
    "# Считаем количество успешных заказов на каждого менеджера\n",
    "status_by_manager = df_full.groupby(['manager', 'status'], as_index=False).agg({'id': 'count'})\\\n",
    "    .query('status == \"confirmed\"')\\\n",
    "    .rename(columns={'id': 'confirmed_orders'})\\\n",
    "    .drop(columns=['status'])\n",
    "status_by_manager"
   ]
  },
  {
   "cell_type": "code",
   "execution_count": 285,
   "id": "4c96c118",
   "metadata": {},
   "outputs": [
    {
     "data": {
      "text/plain": [
       "(4083, 15)"
      ]
     },
     "execution_count": 285,
     "metadata": {},
     "output_type": "execute_result"
    }
   ],
   "source": [
    "# Все успешные заказы\n",
    "df_full.query('status == \"confirmed\"').shape"
   ]
  },
  {
   "cell_type": "code",
   "execution_count": 286,
   "id": "b6095bab",
   "metadata": {},
   "outputs": [],
   "source": [
    "# Считаем долю успешных заказов от общего числа на каждого менеджера\n",
    "status_by_manager['confirmed_orders'] = ((status_by_manager.confirmed_orders / 4083) * 100).round(2)"
   ]
  },
  {
   "cell_type": "code",
   "execution_count": 287,
   "id": "3288b083",
   "metadata": {},
   "outputs": [
    {
     "data": {
      "text/html": [
       "<div>\n",
       "<style scoped>\n",
       "    .dataframe tbody tr th:only-of-type {\n",
       "        vertical-align: middle;\n",
       "    }\n",
       "\n",
       "    .dataframe tbody tr th {\n",
       "        vertical-align: top;\n",
       "    }\n",
       "\n",
       "    .dataframe thead th {\n",
       "        text-align: right;\n",
       "    }\n",
       "</style>\n",
       "<table border=\"1\" class=\"dataframe\">\n",
       "  <thead>\n",
       "    <tr style=\"text-align: right;\">\n",
       "      <th></th>\n",
       "      <th>manager</th>\n",
       "      <th>confirmed_orders</th>\n",
       "    </tr>\n",
       "  </thead>\n",
       "  <tbody>\n",
       "    <tr>\n",
       "      <th>1</th>\n",
       "      <td>Алексей Саксофонов</td>\n",
       "      <td>9.58</td>\n",
       "    </tr>\n",
       "    <tr>\n",
       "      <th>3</th>\n",
       "      <td>Анастасия Дудкина</td>\n",
       "      <td>6.64</td>\n",
       "    </tr>\n",
       "    <tr>\n",
       "      <th>5</th>\n",
       "      <td>Антон Скрипкин</td>\n",
       "      <td>2.40</td>\n",
       "    </tr>\n",
       "    <tr>\n",
       "      <th>6</th>\n",
       "      <td>Аркадий Октавин</td>\n",
       "      <td>1.62</td>\n",
       "    </tr>\n",
       "    <tr>\n",
       "      <th>8</th>\n",
       "      <td>Виктор Тромбонов</td>\n",
       "      <td>15.70</td>\n",
       "    </tr>\n",
       "    <tr>\n",
       "      <th>10</th>\n",
       "      <td>Владимир Ударников</td>\n",
       "      <td>10.36</td>\n",
       "    </tr>\n",
       "    <tr>\n",
       "      <th>12</th>\n",
       "      <td>Екатерина Тарелкина</td>\n",
       "      <td>8.72</td>\n",
       "    </tr>\n",
       "    <tr>\n",
       "      <th>14</th>\n",
       "      <td>Ксения Балалайкина</td>\n",
       "      <td>8.35</td>\n",
       "    </tr>\n",
       "    <tr>\n",
       "      <th>16</th>\n",
       "      <td>Максим Барабанов</td>\n",
       "      <td>12.29</td>\n",
       "    </tr>\n",
       "    <tr>\n",
       "      <th>18</th>\n",
       "      <td>Маргарита Камертонова</td>\n",
       "      <td>16.61</td>\n",
       "    </tr>\n",
       "    <tr>\n",
       "      <th>20</th>\n",
       "      <td>Надежда Гармошкина</td>\n",
       "      <td>6.22</td>\n",
       "    </tr>\n",
       "    <tr>\n",
       "      <th>21</th>\n",
       "      <td>Сергей Контрабасов</td>\n",
       "      <td>1.52</td>\n",
       "    </tr>\n",
       "  </tbody>\n",
       "</table>\n",
       "</div>"
      ],
      "text/plain": [
       "                  manager  confirmed_orders\n",
       "1      Алексей Саксофонов              9.58\n",
       "3       Анастасия Дудкина              6.64\n",
       "5          Антон Скрипкин              2.40\n",
       "6         Аркадий Октавин              1.62\n",
       "8        Виктор Тромбонов             15.70\n",
       "10     Владимир Ударников             10.36\n",
       "12    Екатерина Тарелкина              8.72\n",
       "14     Ксения Балалайкина              8.35\n",
       "16       Максим Барабанов             12.29\n",
       "18  Маргарита Камертонова             16.61\n",
       "20     Надежда Гармошкина              6.22\n",
       "21     Сергей Контрабасов              1.52"
      ]
     },
     "execution_count": 287,
     "metadata": {},
     "output_type": "execute_result"
    }
   ],
   "source": [
    "status_by_manager"
   ]
  },
  {
   "cell_type": "code",
   "execution_count": 288,
   "id": "60877286",
   "metadata": {},
   "outputs": [],
   "source": [
    "# Собираем в одну таблицу информацию по эффективноссти каждого менеджера\n",
    "df_end = revenue_by_manager.merge(status_by_manager, how='inner', on='manager')"
   ]
  },
  {
   "cell_type": "code",
   "execution_count": 290,
   "id": "01900251",
   "metadata": {},
   "outputs": [],
   "source": [
    "df_end = df_end.rename(columns={'part': 'part_revenue'})"
   ]
  },
  {
   "cell_type": "code",
   "execution_count": 291,
   "id": "c92f2f51",
   "metadata": {},
   "outputs": [
    {
     "data": {
      "text/html": [
       "<div>\n",
       "<style scoped>\n",
       "    .dataframe tbody tr th:only-of-type {\n",
       "        vertical-align: middle;\n",
       "    }\n",
       "\n",
       "    .dataframe tbody tr th {\n",
       "        vertical-align: top;\n",
       "    }\n",
       "\n",
       "    .dataframe thead th {\n",
       "        text-align: right;\n",
       "    }\n",
       "</style>\n",
       "<table border=\"1\" class=\"dataframe\">\n",
       "  <thead>\n",
       "    <tr style=\"text-align: right;\">\n",
       "      <th></th>\n",
       "      <th>manager</th>\n",
       "      <th>cost_rub</th>\n",
       "      <th>part_revenue</th>\n",
       "      <th>confirmed_orders</th>\n",
       "    </tr>\n",
       "  </thead>\n",
       "  <tbody>\n",
       "    <tr>\n",
       "      <th>0</th>\n",
       "      <td>Маргарита Камертонова</td>\n",
       "      <td>3.970816e+08</td>\n",
       "      <td>19.48</td>\n",
       "      <td>16.61</td>\n",
       "    </tr>\n",
       "    <tr>\n",
       "      <th>1</th>\n",
       "      <td>Виктор Тромбонов</td>\n",
       "      <td>3.492012e+08</td>\n",
       "      <td>17.13</td>\n",
       "      <td>15.70</td>\n",
       "    </tr>\n",
       "    <tr>\n",
       "      <th>2</th>\n",
       "      <td>Максим Барабанов</td>\n",
       "      <td>2.578916e+08</td>\n",
       "      <td>12.65</td>\n",
       "      <td>12.29</td>\n",
       "    </tr>\n",
       "    <tr>\n",
       "      <th>3</th>\n",
       "      <td>Владимир Ударников</td>\n",
       "      <td>2.383151e+08</td>\n",
       "      <td>11.69</td>\n",
       "      <td>10.36</td>\n",
       "    </tr>\n",
       "    <tr>\n",
       "      <th>4</th>\n",
       "      <td>Алексей Саксофонов</td>\n",
       "      <td>2.196351e+08</td>\n",
       "      <td>10.78</td>\n",
       "      <td>9.58</td>\n",
       "    </tr>\n",
       "    <tr>\n",
       "      <th>5</th>\n",
       "      <td>Ксения Балалайкина</td>\n",
       "      <td>2.120705e+08</td>\n",
       "      <td>10.40</td>\n",
       "      <td>8.35</td>\n",
       "    </tr>\n",
       "    <tr>\n",
       "      <th>6</th>\n",
       "      <td>Екатерина Тарелкина</td>\n",
       "      <td>1.978527e+08</td>\n",
       "      <td>9.71</td>\n",
       "      <td>8.72</td>\n",
       "    </tr>\n",
       "    <tr>\n",
       "      <th>7</th>\n",
       "      <td>Надежда Гармошкина</td>\n",
       "      <td>1.546152e+08</td>\n",
       "      <td>7.59</td>\n",
       "      <td>6.22</td>\n",
       "    </tr>\n",
       "    <tr>\n",
       "      <th>8</th>\n",
       "      <td>Анастасия Дудкина</td>\n",
       "      <td>1.310832e+08</td>\n",
       "      <td>6.43</td>\n",
       "      <td>6.64</td>\n",
       "    </tr>\n",
       "    <tr>\n",
       "      <th>9</th>\n",
       "      <td>Антон Скрипкин</td>\n",
       "      <td>6.028104e+07</td>\n",
       "      <td>2.96</td>\n",
       "      <td>2.40</td>\n",
       "    </tr>\n",
       "    <tr>\n",
       "      <th>10</th>\n",
       "      <td>Аркадий Октавин</td>\n",
       "      <td>2.973678e+07</td>\n",
       "      <td>1.46</td>\n",
       "      <td>1.62</td>\n",
       "    </tr>\n",
       "    <tr>\n",
       "      <th>11</th>\n",
       "      <td>Сергей Контрабасов</td>\n",
       "      <td>2.857223e+07</td>\n",
       "      <td>1.40</td>\n",
       "      <td>1.52</td>\n",
       "    </tr>\n",
       "  </tbody>\n",
       "</table>\n",
       "</div>"
      ],
      "text/plain": [
       "                  manager      cost_rub  part_revenue  confirmed_orders\n",
       "0   Маргарита Камертонова  3.970816e+08         19.48             16.61\n",
       "1        Виктор Тромбонов  3.492012e+08         17.13             15.70\n",
       "2        Максим Барабанов  2.578916e+08         12.65             12.29\n",
       "3      Владимир Ударников  2.383151e+08         11.69             10.36\n",
       "4      Алексей Саксофонов  2.196351e+08         10.78              9.58\n",
       "5      Ксения Балалайкина  2.120705e+08         10.40              8.35\n",
       "6     Екатерина Тарелкина  1.978527e+08          9.71              8.72\n",
       "7      Надежда Гармошкина  1.546152e+08          7.59              6.22\n",
       "8       Анастасия Дудкина  1.310832e+08          6.43              6.64\n",
       "9          Антон Скрипкин  6.028104e+07          2.96              2.40\n",
       "10        Аркадий Октавин  2.973678e+07          1.46              1.62\n",
       "11     Сергей Контрабасов  2.857223e+07          1.40              1.52"
      ]
     },
     "execution_count": 291,
     "metadata": {},
     "output_type": "execute_result"
    }
   ],
   "source": [
    "df_end"
   ]
  },
  {
   "cell_type": "code",
   "execution_count": 292,
   "id": "820762ae",
   "metadata": {},
   "outputs": [
    {
     "data": {
      "image/png": "[encoded data removed]",
      "text/plain": [
       "<Figure size 1080x576 with 1 Axes>"
      ]
     },
     "metadata": {
      "needs_background": "light"
     },
     "output_type": "display_data"
    }
   ],
   "source": [
    "# Изобразим на графике прибыль по каждому менеджеру\n",
    "fig, ax = plt.subplots(figsize=(15, 8))\n",
    "ax = sns.lineplot(data=df_end, x= 'manager', y='part_revenue')\n",
    "plt.grid() \n",
    "plt.xticks(rotation=90)\n",
    "plt.show()"
   ]
  },
  {
   "cell_type": "code",
   "execution_count": 293,
   "id": "3f274227",
   "metadata": {},
   "outputs": [],
   "source": [
    "#устанавливаем размер всех графиков \n",
    "plt.rcParams[\"figure.figsize\"] = [13, 7]         "
   ]
  },
  {
   "cell_type": "code",
   "execution_count": 294,
   "id": "1abfe2fe",
   "metadata": {},
   "outputs": [
    {
     "data": {
      "image/png": "[encoded data removed]",
      "text/plain": [
       "<Figure size 936x504 with 1 Axes>"
      ]
     },
     "metadata": {
      "needs_background": "light"
     },
     "output_type": "display_data"
    }
   ],
   "source": [
    "# Изобразим на графике количество заказов по каждому менеджеру\n",
    "sns.barplot(x ='manager', y = 'confirmed_orders', data = df_end)\n",
    "plt.xticks(rotation=90) \n",
    "plt.show()"
   ]
  },
  {
   "cell_type": "markdown",
   "id": "ed07eb8a",
   "metadata": {},
   "source": [
    "#### Самыми эффективными менеджерами месяца оказались Маргарита Камертонова и Виктор Тромбонов, а самые плохие результаты показали Аркадий Октавин, Антон Скрипкин и Сергей Контрабасов."
   ]
  },
  {
   "cell_type": "markdown",
   "id": "fed727a3",
   "metadata": {},
   "source": [
    "## Итоги:"
   ]
  },
  {
   "cell_type": "markdown",
   "id": "8aa5546f",
   "metadata": {},
   "source": [
    "В данном проекте я проанализировала продажи музыкальных товаров: собрала данные, посчитала ключевые метрики в динамике; определила дни, которые выбиваются из общей картины, и выяснила причину этого; нашла наиболее прибыльные бренды и те, которые зря занимают место на виртуальной «полке»."
   ]
  }
 ],
 "metadata": {
  "kernelspec": {
   "display_name": "Python 3",
   "language": "python",
   "name": "python3"
  },
  "language_info": {
   "codemirror_mode": {
    "name": "ipython",
    "version": 3
   },
   "file_extension": ".py",
   "mimetype": "text/x-python",
   "name": "python",
   "nbconvert_exporter": "python",
   "pygments_lexer": "ipython3",
   "version": "3.7.3"
  }
 },
 "nbformat": 4,
 "nbformat_minor": 5
}
