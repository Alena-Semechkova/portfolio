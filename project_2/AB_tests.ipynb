{
 "cells": [
  {
   "cell_type": "markdown",
   "id": "3e91d319",
   "metadata": {},
   "source": [
    "# Тестирование новой механики оплаты"
   ]
  },
  {
   "cell_type": "code",
   "execution_count": 2,
   "id": "9a5b4dc7",
   "metadata": {},
   "outputs": [],
   "source": [
    "import pandas as pd"
   ]
  },
  {
   "cell_type": "markdown",
   "id": "403bda45",
   "metadata": {},
   "source": [
    "## 1. А/Б тестирование "
   ]
  },
  {
   "cell_type": "markdown",
   "id": "d3d67c27",
   "metadata": {},
   "source": [
    "Задача:\n",
    "В ходе тестирования одной гипотезы целевой группе была предложена новая механика оплаты услуг на сайте, у контрольной группы оставалась базовая механика. Необходимо проанализировать итоги эксперимента и сделать вывод, стоит ли запускать новую механику оплаты на всех пользователей."
   ]
  },
  {
   "cell_type": "markdown",
   "id": "51a8df4a",
   "metadata": {},
   "source": [
    "### Для начала подготовим данные для тестирования:"
   ]
  },
  {
   "cell_type": "code",
   "execution_count": 3,
   "id": "db144548",
   "metadata": {},
   "outputs": [
    {
     "data": {
      "text/html": [
       "<div>\n",
       "<style scoped>\n",
       "    .dataframe tbody tr th:only-of-type {\n",
       "        vertical-align: middle;\n",
       "    }\n",
       "\n",
       "    .dataframe tbody tr th {\n",
       "        vertical-align: top;\n",
       "    }\n",
       "\n",
       "    .dataframe thead th {\n",
       "        text-align: right;\n",
       "    }\n",
       "</style>\n",
       "<table border=\"1\" class=\"dataframe\">\n",
       "  <thead>\n",
       "    <tr style=\"text-align: right;\">\n",
       "      <th></th>\n",
       "      <th>id</th>\n",
       "      <th>grp</th>\n",
       "    </tr>\n",
       "  </thead>\n",
       "  <tbody>\n",
       "    <tr>\n",
       "      <th>0</th>\n",
       "      <td>1489</td>\n",
       "      <td>B</td>\n",
       "    </tr>\n",
       "    <tr>\n",
       "      <th>1</th>\n",
       "      <td>1627</td>\n",
       "      <td>A</td>\n",
       "    </tr>\n",
       "    <tr>\n",
       "      <th>2</th>\n",
       "      <td>1768</td>\n",
       "      <td>B</td>\n",
       "    </tr>\n",
       "    <tr>\n",
       "      <th>3</th>\n",
       "      <td>1783</td>\n",
       "      <td>B</td>\n",
       "    </tr>\n",
       "    <tr>\n",
       "      <th>4</th>\n",
       "      <td>1794</td>\n",
       "      <td>A</td>\n",
       "    </tr>\n",
       "  </tbody>\n",
       "</table>\n",
       "</div>"
      ],
      "text/plain": [
       "     id grp\n",
       "0  1489   B\n",
       "1  1627   A\n",
       "2  1768   B\n",
       "3  1783   B\n",
       "4  1794   A"
      ]
     },
     "execution_count": 3,
     "metadata": {},
     "output_type": "execute_result"
    }
   ],
   "source": [
    "groups = pd.read_csv('Проект_2_groups.csv', sep=';') # А - контрольная группа, Б - эксперимент\n",
    "groups.head()"
   ]
  },
  {
   "cell_type": "code",
   "execution_count": 4,
   "id": "c5538427",
   "metadata": {},
   "outputs": [
    {
     "data": {
      "text/html": [
       "<div>\n",
       "<style scoped>\n",
       "    .dataframe tbody tr th:only-of-type {\n",
       "        vertical-align: middle;\n",
       "    }\n",
       "\n",
       "    .dataframe tbody tr th {\n",
       "        vertical-align: top;\n",
       "    }\n",
       "\n",
       "    .dataframe thead th {\n",
       "        text-align: right;\n",
       "    }\n",
       "</style>\n",
       "<table border=\"1\" class=\"dataframe\">\n",
       "  <thead>\n",
       "    <tr style=\"text-align: right;\">\n",
       "      <th></th>\n",
       "      <th>id</th>\n",
       "      <th>grp</th>\n",
       "    </tr>\n",
       "  </thead>\n",
       "  <tbody>\n",
       "    <tr>\n",
       "      <th>0</th>\n",
       "      <td>5694584</td>\n",
       "      <td>B</td>\n",
       "    </tr>\n",
       "    <tr>\n",
       "      <th>1</th>\n",
       "      <td>5694830</td>\n",
       "      <td>B</td>\n",
       "    </tr>\n",
       "    <tr>\n",
       "      <th>2</th>\n",
       "      <td>5695057</td>\n",
       "      <td>B</td>\n",
       "    </tr>\n",
       "    <tr>\n",
       "      <th>3</th>\n",
       "      <td>5698872</td>\n",
       "      <td>B</td>\n",
       "    </tr>\n",
       "    <tr>\n",
       "      <th>4</th>\n",
       "      <td>5699067</td>\n",
       "      <td>B</td>\n",
       "    </tr>\n",
       "  </tbody>\n",
       "</table>\n",
       "</div>"
      ],
      "text/plain": [
       "        id grp\n",
       "0  5694584   B\n",
       "1  5694830   B\n",
       "2  5695057   B\n",
       "3  5698872   B\n",
       "4  5699067   B"
      ]
     },
     "execution_count": 4,
     "metadata": {},
     "output_type": "execute_result"
    }
   ],
   "source": [
    "group_add = pd.read_csv('Проект_2_group_add.csv', sep=',') # Дополнительные данные спустя 2 дня\n",
    "group_add.head()"
   ]
  },
  {
   "cell_type": "code",
   "execution_count": 5,
   "id": "b6c61407",
   "metadata": {},
   "outputs": [],
   "source": [
    "groups_df = pd.concat([groups, group_add]).drop_duplicates().reset_index(drop=True) \n",
    "# Объединяем даннные в один датафрейм, сбрасываем индексы, убираем дубликаты"
   ]
  },
  {
   "cell_type": "code",
   "execution_count": 6,
   "id": "6efdcce8",
   "metadata": {},
   "outputs": [
    {
     "data": {
      "text/plain": [
       "(8341, 1)"
      ]
     },
     "execution_count": 6,
     "metadata": {},
     "output_type": "execute_result"
    }
   ],
   "source": [
    "active_studs = pd.read_csv('Проект_2_active_studs.csv') # Активные пользователи во время эксперимента \n",
    "active_studs.shape"
   ]
  },
  {
   "cell_type": "code",
   "execution_count": 7,
   "id": "0186ddc7",
   "metadata": {},
   "outputs": [
    {
     "data": {
      "text/plain": [
       "student_id    8341\n",
       "dtype: int64"
      ]
     },
     "execution_count": 7,
     "metadata": {},
     "output_type": "execute_result"
    }
   ],
   "source": [
    "active_studs.nunique() # Проверяем, что пользователи не повторяются "
   ]
  },
  {
   "cell_type": "code",
   "execution_count": 8,
   "id": "496931ad",
   "metadata": {},
   "outputs": [
    {
     "data": {
      "text/html": [
       "<div>\n",
       "<style scoped>\n",
       "    .dataframe tbody tr th:only-of-type {\n",
       "        vertical-align: middle;\n",
       "    }\n",
       "\n",
       "    .dataframe tbody tr th {\n",
       "        vertical-align: top;\n",
       "    }\n",
       "\n",
       "    .dataframe thead th {\n",
       "        text-align: right;\n",
       "    }\n",
       "</style>\n",
       "<table border=\"1\" class=\"dataframe\">\n",
       "  <thead>\n",
       "    <tr style=\"text-align: right;\">\n",
       "      <th></th>\n",
       "      <th>student_id</th>\n",
       "      <th>rev</th>\n",
       "    </tr>\n",
       "  </thead>\n",
       "  <tbody>\n",
       "    <tr>\n",
       "      <th>0</th>\n",
       "      <td>1627</td>\n",
       "      <td>990.0</td>\n",
       "    </tr>\n",
       "    <tr>\n",
       "      <th>1</th>\n",
       "      <td>3185</td>\n",
       "      <td>690.0</td>\n",
       "    </tr>\n",
       "    <tr>\n",
       "      <th>2</th>\n",
       "      <td>25973</td>\n",
       "      <td>690.0</td>\n",
       "    </tr>\n",
       "    <tr>\n",
       "      <th>3</th>\n",
       "      <td>26280</td>\n",
       "      <td>690.0</td>\n",
       "    </tr>\n",
       "    <tr>\n",
       "      <th>4</th>\n",
       "      <td>100300</td>\n",
       "      <td>990.0</td>\n",
       "    </tr>\n",
       "  </tbody>\n",
       "</table>\n",
       "</div>"
      ],
      "text/plain": [
       "   student_id    rev\n",
       "0        1627  990.0\n",
       "1        3185  690.0\n",
       "2       25973  690.0\n",
       "3       26280  690.0\n",
       "4      100300  990.0"
      ]
     },
     "execution_count": 8,
     "metadata": {},
     "output_type": "execute_result"
    }
   ],
   "source": [
    "checks = pd.read_csv('Проект_2_checks.csv', sep=';') # Информация об оплатах во время эксперимента\n",
    "checks.head()"
   ]
  },
  {
   "cell_type": "code",
   "execution_count": 9,
   "id": "2d5cb195",
   "metadata": {},
   "outputs": [],
   "source": [
    "df = active_studs.merge(checks, how='left', on='student_id') \n",
    "# К данным об активных пользователях добавляем информацию об их оплатах "
   ]
  },
  {
   "cell_type": "code",
   "execution_count": 10,
   "id": "f296405d",
   "metadata": {},
   "outputs": [],
   "source": [
    "df = df.merge(groups_df, how='left', left_on='student_id', right_on='id')\\\n",
    "    .drop(columns='id') # Добавляем информацию о том, к какой группе принадлежит активный пользователь "
   ]
  },
  {
   "cell_type": "code",
   "execution_count": 11,
   "id": "f1017494",
   "metadata": {},
   "outputs": [
    {
     "data": {
      "text/html": [
       "<div>\n",
       "<style scoped>\n",
       "    .dataframe tbody tr th:only-of-type {\n",
       "        vertical-align: middle;\n",
       "    }\n",
       "\n",
       "    .dataframe tbody tr th {\n",
       "        vertical-align: top;\n",
       "    }\n",
       "\n",
       "    .dataframe thead th {\n",
       "        text-align: right;\n",
       "    }\n",
       "</style>\n",
       "<table border=\"1\" class=\"dataframe\">\n",
       "  <thead>\n",
       "    <tr style=\"text-align: right;\">\n",
       "      <th></th>\n",
       "      <th>student_id</th>\n",
       "      <th>rev</th>\n",
       "      <th>grp</th>\n",
       "    </tr>\n",
       "  </thead>\n",
       "  <tbody>\n",
       "    <tr>\n",
       "      <th>0</th>\n",
       "      <td>581585</td>\n",
       "      <td>NaN</td>\n",
       "      <td>A</td>\n",
       "    </tr>\n",
       "    <tr>\n",
       "      <th>1</th>\n",
       "      <td>5723133</td>\n",
       "      <td>NaN</td>\n",
       "      <td>A</td>\n",
       "    </tr>\n",
       "    <tr>\n",
       "      <th>2</th>\n",
       "      <td>3276743</td>\n",
       "      <td>NaN</td>\n",
       "      <td>B</td>\n",
       "    </tr>\n",
       "    <tr>\n",
       "      <th>3</th>\n",
       "      <td>4238589</td>\n",
       "      <td>NaN</td>\n",
       "      <td>A</td>\n",
       "    </tr>\n",
       "    <tr>\n",
       "      <th>4</th>\n",
       "      <td>4475369</td>\n",
       "      <td>NaN</td>\n",
       "      <td>B</td>\n",
       "    </tr>\n",
       "  </tbody>\n",
       "</table>\n",
       "</div>"
      ],
      "text/plain": [
       "   student_id  rev grp\n",
       "0      581585  NaN   A\n",
       "1     5723133  NaN   A\n",
       "2     3276743  NaN   B\n",
       "3     4238589  NaN   A\n",
       "4     4475369  NaN   B"
      ]
     },
     "execution_count": 11,
     "metadata": {},
     "output_type": "execute_result"
    }
   ],
   "source": [
    "df.head()"
   ]
  },
  {
   "cell_type": "code",
   "execution_count": 12,
   "id": "8ca51c2c",
   "metadata": {},
   "outputs": [
    {
     "data": {
      "text/html": [
       "<div>\n",
       "<style scoped>\n",
       "    .dataframe tbody tr th:only-of-type {\n",
       "        vertical-align: middle;\n",
       "    }\n",
       "\n",
       "    .dataframe tbody tr th {\n",
       "        vertical-align: top;\n",
       "    }\n",
       "\n",
       "    .dataframe thead th {\n",
       "        text-align: right;\n",
       "    }\n",
       "</style>\n",
       "<table border=\"1\" class=\"dataframe\">\n",
       "  <thead>\n",
       "    <tr style=\"text-align: right;\">\n",
       "      <th></th>\n",
       "      <th>grp</th>\n",
       "      <th>student_id</th>\n",
       "    </tr>\n",
       "  </thead>\n",
       "  <tbody>\n",
       "    <tr>\n",
       "      <th>0</th>\n",
       "      <td>A</td>\n",
       "      <td>1538</td>\n",
       "    </tr>\n",
       "    <tr>\n",
       "      <th>1</th>\n",
       "      <td>B</td>\n",
       "      <td>6803</td>\n",
       "    </tr>\n",
       "  </tbody>\n",
       "</table>\n",
       "</div>"
      ],
      "text/plain": [
       "  grp  student_id\n",
       "0   A        1538\n",
       "1   B        6803"
      ]
     },
     "execution_count": 12,
     "metadata": {},
     "output_type": "execute_result"
    }
   ],
   "source": [
    "df.groupby('grp', as_index=False).student_id.count() # Количество пользователей в группах А и Б"
   ]
  },
  {
   "cell_type": "code",
   "execution_count": 13,
   "id": "3406cf1d",
   "metadata": {},
   "outputs": [
    {
     "data": {
      "text/plain": [
       "student_id       0\n",
       "rev           7949\n",
       "grp              0\n",
       "dtype: int64"
      ]
     },
     "execution_count": 13,
     "metadata": {},
     "output_type": "execute_result"
    }
   ],
   "source": [
    "df.isna().sum() # Считаем количество пустых значений - это пользователи, не совершившие оплату"
   ]
  },
  {
   "cell_type": "code",
   "execution_count": 14,
   "id": "2db6adeb",
   "metadata": {},
   "outputs": [],
   "source": [
    "df_new = df.dropna() # Чтобы сравнить именно разницу в способах оплаты убираем строки с пустыми значениями"
   ]
  },
  {
   "cell_type": "code",
   "execution_count": 15,
   "id": "ef089e9f",
   "metadata": {},
   "outputs": [
    {
     "data": {
      "text/html": [
       "<div>\n",
       "<style scoped>\n",
       "    .dataframe tbody tr th:only-of-type {\n",
       "        vertical-align: middle;\n",
       "    }\n",
       "\n",
       "    .dataframe tbody tr th {\n",
       "        vertical-align: top;\n",
       "    }\n",
       "\n",
       "    .dataframe thead th {\n",
       "        text-align: right;\n",
       "    }\n",
       "</style>\n",
       "<table border=\"1\" class=\"dataframe\">\n",
       "  <thead>\n",
       "    <tr style=\"text-align: right;\">\n",
       "      <th></th>\n",
       "      <th>grp</th>\n",
       "      <th>student_id</th>\n",
       "    </tr>\n",
       "  </thead>\n",
       "  <tbody>\n",
       "    <tr>\n",
       "      <th>0</th>\n",
       "      <td>A</td>\n",
       "      <td>78</td>\n",
       "    </tr>\n",
       "    <tr>\n",
       "      <th>1</th>\n",
       "      <td>B</td>\n",
       "      <td>314</td>\n",
       "    </tr>\n",
       "  </tbody>\n",
       "</table>\n",
       "</div>"
      ],
      "text/plain": [
       "  grp  student_id\n",
       "0   A          78\n",
       "1   B         314"
      ]
     },
     "execution_count": 15,
     "metadata": {},
     "output_type": "execute_result"
    }
   ],
   "source": [
    "df_new.groupby('grp', as_index=False).student_id.count() # Оставшееся количество пользователей в группах А и Б"
   ]
  },
  {
   "cell_type": "code",
   "execution_count": 16,
   "id": "a0579e61",
   "metadata": {},
   "outputs": [],
   "source": [
    "control = df_new.query('grp == \"A\"') # Выделяем значения контрольной группы\n",
    "control = control['rev']"
   ]
  },
  {
   "cell_type": "code",
   "execution_count": 17,
   "id": "fdea8246",
   "metadata": {},
   "outputs": [],
   "source": [
    "test = df_new.query('grp == \"B\"') # Выделяем значения тестовой группы \n",
    "test = test['rev']"
   ]
  },
  {
   "cell_type": "markdown",
   "id": "c79fc8a3",
   "metadata": {},
   "source": [
    "### Проводим А/Б тест"
   ]
  },
  {
   "cell_type": "markdown",
   "id": "6522b4e3",
   "metadata": {},
   "source": [
    "#### Проведём два А/Б теста и проверим две метрики:  \n",
    "1. Средний чек\n",
    "2. Конверсия в платящего "
   ]
  },
  {
   "cell_type": "markdown",
   "id": "08485619",
   "metadata": {},
   "source": [
    " ### Гипотезы:\n",
    "1. $H_0$ - Средние чеки в тестовой и контрольной группах равны  \n",
    "   $H_1$ - Средние чеки в тестовой и контрольной группах **не** равны  \n",
    "<br>   \n",
    "2. $H_0$ - Конверсия в платящего в тестовой и контрольной группах равна  \n",
    "   $H_1$ - Конверсия в платящего в тестовой и контрольной группах **не** равна\n"
   ]
  },
  {
   "cell_type": "markdown",
   "id": "781fdc23",
   "metadata": {},
   "source": [
    "### 1. Равенство средних\n",
    "- Для проверки гипотезы о равенстве средних чеков используем t-test:\n",
    "     - При равных дисперсиях - Student's t-test\n",
    "     - При разных дисперсиях или большой разнице в размерах групп - Welch's t-test"
   ]
  },
  {
   "cell_type": "markdown",
   "id": "2f8765cd",
   "metadata": {},
   "source": [
    "#### Проверяем нормальность распределений:"
   ]
  },
  {
   "cell_type": "code",
   "execution_count": 18,
   "id": "356bc5cf",
   "metadata": {},
   "outputs": [
    {
     "name": "stdout",
     "output_type": "stream",
     "text": [
      "normaltest p (control) = 2.531686880422046e-07\n",
      "normaltest p (test)    = 0.033445723194625424\n",
      "AD stat control: 7.628197283123953 crit: [0.55  0.626 0.752 0.877 1.043]\n",
      "AD stat test: 18.65982488399618 crit: [0.569 0.648 0.777 0.907 1.079]\n"
     ]
    }
   ],
   "source": [
    "from scipy.stats import normaltest, anderson\n",
    "\n",
    "\n",
    "k2_control, p_control = normaltest(control)   # D’Agostino K^2\n",
    "k2_test, p_test = normaltest(test)\n",
    "\n",
    "print(f\"normaltest p (control) = {p_control}\")\n",
    "print(f\"normaltest p (test)    = {p_test}\")\n",
    "\n",
    "# Дополнительно (Anderson–Darling):\n",
    "ad_control = anderson(control, dist='norm')\n",
    "ad_test = anderson(test, dist='norm')\n",
    "print(\"AD stat control:\", ad_control.statistic, \"crit:\", ad_control.critical_values)\n",
    "print(\"AD stat test:\",    ad_test.statistic, \"crit:\", ad_test.critical_values)"
   ]
  },
  {
   "cell_type": "markdown",
   "id": "0ccc7f00",
   "metadata": {},
   "source": [
    "#### Результат: **распределения не нормальны**, но тк наши выборки достаточно большие (>30) можем этим пренебречь и провести t-test"
   ]
  },
  {
   "cell_type": "markdown",
   "id": "3884a321",
   "metadata": {},
   "source": [
    "#### Визуализируем распределения тестовой и контрольной групп:"
   ]
  },
  {
   "cell_type": "code",
   "execution_count": 19,
   "id": "874108a5",
   "metadata": {},
   "outputs": [],
   "source": [
    "import matplotlib.pyplot as plt\n",
    "import seaborn as sns\n",
    "\n",
    "def plot_hist(data, title=\"Гистограмма распределения\", bins=100):\n",
    "    plt.figure(figsize=(6,3))\n",
    "    sns.histplot(data, bins=bins, kde=True, color=\"skyblue\", edgecolor=\"black\")\n",
    "    plt.title(title, fontsize=14)\n",
    "    plt.xlabel(\"Значения\")\n",
    "    plt.ylabel(\"Частота\")\n",
    "    plt.grid(alpha=0.3)\n",
    "    plt.show()"
   ]
  },
  {
   "cell_type": "code",
   "execution_count": 20,
   "id": "faec9cc2",
   "metadata": {},
   "outputs": [
    {
     "data": {
      "image/png": "[encoded data removed]",
      "text/plain": [
       "<Figure size 432x216 with 1 Axes>"
      ]
     },
     "metadata": {
      "needs_background": "light"
     },
     "output_type": "display_data"
    },
    {
     "data": {
      "image/png": "[encoded data removed]",
      "text/plain": [
       "<Figure size 432x216 with 1 Axes>"
      ]
     },
     "metadata": {
      "needs_background": "light"
     },
     "output_type": "display_data"
    }
   ],
   "source": [
    "plot_hist(control, title=\"Control group\")\n",
    "plot_hist(test, title=\"Test group\")"
   ]
  },
  {
   "cell_type": "markdown",
   "id": "594b7d1e",
   "metadata": {},
   "source": [
    "####  Проводим t-test:\n",
    "Внутри функции проверяем равенство дисперсий тестом Levene, в зависимости от результата выбираем использовать поправки Уэлча или нет"
   ]
  },
  {
   "cell_type": "code",
   "execution_count": 21,
   "id": "cabdcc86",
   "metadata": {},
   "outputs": [],
   "source": [
    "import numpy as np\n",
    "import matplotlib.pyplot as plt\n",
    "import seaborn as sns\n",
    "from scipy.stats import ttest_ind, levene\n",
    "\n",
    "def t_test(control, test):\n",
    "\n",
    "    # Проверка равенства дисперсий\n",
    "    stat, p_levene = levene(control, test)\n",
    "\n",
    "    if p_levene > 0.05:\n",
    "        print(f\"Levene p={p_levene:.4f} >> дисперсии примерно равны>> используем Student’s t-test\")\n",
    "        stat, p_value = ttest_ind(control, test, equal_var=True)\n",
    "        test_type = \"Student’s t-test\"\n",
    "    else:\n",
    "        print(f\"Levene p={p_levene:.4f} >> дисперсии различаются >> используем Welch’s t-test\")\n",
    "        stat, p_value = ttest_ind(control, test, equal_var=False)\n",
    "        test_type = \"Welch’s t-test\"\n",
    "\n",
    "\n",
    "    # Средние значения \n",
    "    mean_c = np.mean(control)\n",
    "    mean_t = np.mean(test)\n",
    "    diff_abs = mean_t - mean_c\n",
    "    diff_pct = (diff_abs / mean_c * 100) if mean_c != 0 else np.nan\n",
    "\n",
    "    #  Вывод\n",
    "    print(f\" Mean control: {mean_c:.4f}\")\n",
    "    print(f\" Mean test:    {mean_t:.4f}\")\n",
    "    print(f\" Разница средних: {diff_abs:.4f} ({diff_pct:.2f}%)\")\n",
    "    print(f\"{test_type} p-value: {p_value:.4f}\")\n",
    "\n",
    "    if p_value < 0.05:\n",
    "        print(\"Различия статистически значимы.\")\n",
    "    else:\n",
    "        print(\"Нет статистически значимых различий.\")\n",
    "\n",
    "    return {\n",
    "       \"p_value\": p_value,\n",
    "        \"mean_control\": mean_c,\n",
    "        \"mean_test\": mean_t,\n",
    "        \"mean_diff\": diff_abs,\n",
    "        \"mean_diff_pct\": diff_pct,\n",
    "        \"test_type\": test_type\n",
    "    }"
   ]
  },
  {
   "cell_type": "code",
   "execution_count": 22,
   "id": "7f8ad203",
   "metadata": {},
   "outputs": [
    {
     "name": "stdout",
     "output_type": "stream",
     "text": [
      "Levene p=0.0803 >> дисперсии примерно равны>> используем Student’s t-test\n",
      " Mean control: 933.5897\n",
      " Mean test:    1257.8790\n",
      " Разница средних: 324.2892 (34.74%)\n",
      "Student’s t-test p-value: 0.0019\n",
      "Различия статистически значимы.\n"
     ]
    },
    {
     "data": {
      "text/plain": [
       "{'p_value': 0.0018562025265765867,\n",
       " 'mean_control': 933.5897435897435,\n",
       " 'mean_test': 1257.8789920382164,\n",
       " 'mean_diff': 324.2892484484729,\n",
       " 'mean_diff_pct': 34.73573383545851,\n",
       " 'test_type': 'Student’s t-test'}"
      ]
     },
     "execution_count": 22,
     "metadata": {},
     "output_type": "execute_result"
    }
   ],
   "source": [
    "t_test(control, test)"
   ]
  },
  {
   "cell_type": "markdown",
   "id": "f48aafd8",
   "metadata": {},
   "source": [
    "#### Отобразим результаты на графиках:"
   ]
  },
  {
   "cell_type": "code",
   "execution_count": 23,
   "id": "2ed1ba3a",
   "metadata": {},
   "outputs": [
    {
     "data": {
      "image/png": "[encoded data removed]",
      "text/plain": [
       "<Figure size 720x432 with 1 Axes>"
      ]
     },
     "metadata": {
      "needs_background": "light"
     },
     "output_type": "display_data"
    }
   ],
   "source": [
    "data = {\n",
    "    \"value\": np.concatenate([control, test]),\n",
    "    \"group\": [\"Control\"] * len(control) + [\"Test\"] * len(test)\n",
    "}\n",
    "\n",
    "\n",
    "plt.figure(figsize=(10,6))\n",
    "sns.boxplot(x=\"group\", y=\"value\", hue=\"group\", data=data, width=0.2, palette=[\"blue\", \"green\"], dodge=False)\n",
    "\n",
    "plt.title(\"Распределение метрики в группах (Control vs Test)\")\n",
    "plt.show()"
   ]
  },
  {
   "cell_type": "markdown",
   "id": "0581a87a",
   "metadata": {},
   "source": [
    "#### Результаты t-test\n",
    "\n",
    "Если при дизайне эксперимента были исключены сторонние влияния (например, сезонность или ошибка в сплитовании групп), то проведенный эксперимент показал, что **новая механика оплаты даёт статистически значимое улучшение в размере среднего чека.**\n",
    "\n",
    "$H_0$ (Средние чеки в тестовой и контрольной группах равны) - **отвергается**."
   ]
  },
  {
   "cell_type": "markdown",
   "id": "a02b3776",
   "metadata": {},
   "source": [
    "### 2. Конверсия в платящего"
   ]
  },
  {
   "cell_type": "code",
   "execution_count": 24,
   "id": "ab380cf8",
   "metadata": {},
   "outputs": [
    {
     "data": {
      "text/html": [
       "<div>\n",
       "<style scoped>\n",
       "    .dataframe tbody tr th:only-of-type {\n",
       "        vertical-align: middle;\n",
       "    }\n",
       "\n",
       "    .dataframe tbody tr th {\n",
       "        vertical-align: top;\n",
       "    }\n",
       "\n",
       "    .dataframe thead th {\n",
       "        text-align: right;\n",
       "    }\n",
       "</style>\n",
       "<table border=\"1\" class=\"dataframe\">\n",
       "  <thead>\n",
       "    <tr style=\"text-align: right;\">\n",
       "      <th></th>\n",
       "      <th>student_id</th>\n",
       "      <th>rev</th>\n",
       "      <th>grp</th>\n",
       "    </tr>\n",
       "  </thead>\n",
       "  <tbody>\n",
       "    <tr>\n",
       "      <th>0</th>\n",
       "      <td>581585</td>\n",
       "      <td>NaN</td>\n",
       "      <td>A</td>\n",
       "    </tr>\n",
       "    <tr>\n",
       "      <th>1</th>\n",
       "      <td>5723133</td>\n",
       "      <td>NaN</td>\n",
       "      <td>A</td>\n",
       "    </tr>\n",
       "    <tr>\n",
       "      <th>2</th>\n",
       "      <td>3276743</td>\n",
       "      <td>NaN</td>\n",
       "      <td>B</td>\n",
       "    </tr>\n",
       "    <tr>\n",
       "      <th>3</th>\n",
       "      <td>4238589</td>\n",
       "      <td>NaN</td>\n",
       "      <td>A</td>\n",
       "    </tr>\n",
       "    <tr>\n",
       "      <th>4</th>\n",
       "      <td>4475369</td>\n",
       "      <td>NaN</td>\n",
       "      <td>B</td>\n",
       "    </tr>\n",
       "  </tbody>\n",
       "</table>\n",
       "</div>"
      ],
      "text/plain": [
       "   student_id  rev grp\n",
       "0      581585  NaN   A\n",
       "1     5723133  NaN   A\n",
       "2     3276743  NaN   B\n",
       "3     4238589  NaN   A\n",
       "4     4475369  NaN   B"
      ]
     },
     "execution_count": 24,
     "metadata": {},
     "output_type": "execute_result"
    }
   ],
   "source": [
    "df.head() # Данные с результатами эксперимента "
   ]
  },
  {
   "cell_type": "code",
   "execution_count": 25,
   "id": "8537b27c",
   "metadata": {},
   "outputs": [],
   "source": [
    "#добавляем колонку с информацией была оплата или нет (1 - оплата была, 0 - не было оплат)\n",
    "df['rev_conv'] = df['rev'].notna().astype(int) "
   ]
  },
  {
   "cell_type": "markdown",
   "id": "777f81f8",
   "metadata": {},
   "source": [
    "#### Считаем конверсию в платящего для каждой группы:"
   ]
  },
  {
   "cell_type": "code",
   "execution_count": 26,
   "id": "c6920bad",
   "metadata": {},
   "outputs": [
    {
     "name": "stdout",
     "output_type": "stream",
     "text": [
      "Конверсия по группам:\n",
      "grp\n",
      "A    0.050715\n",
      "B    0.046156\n",
      "Name: rev_conv, dtype: float64\n"
     ]
    }
   ],
   "source": [
    "conversion_rates = df.groupby(\"grp\")['rev_conv'].mean()\n",
    "\n",
    "print(\"Конверсия по группам:\")\n",
    "print(conversion_rates)"
   ]
  },
  {
   "cell_type": "markdown",
   "id": "2c168526",
   "metadata": {},
   "source": [
    "#### Выбор теста:\n",
    "Для проверки различий в бинарной метрике применяем Хи-квадрат"
   ]
  },
  {
   "cell_type": "code",
   "execution_count": 27,
   "id": "09af9b16",
   "metadata": {},
   "outputs": [
    {
     "name": "stdout",
     "output_type": "stream",
     "text": [
      "rev_conv     0    1\n",
      "grp                \n",
      "A         1460   78\n",
      "B         6489  314\n"
     ]
    }
   ],
   "source": [
    "# Таблица сопряженности\n",
    "contingency_table = pd.crosstab(df['grp'], df['rev_conv'])\n",
    "print(contingency_table)"
   ]
  },
  {
   "cell_type": "code",
   "execution_count": 28,
   "id": "1c6a06f5",
   "metadata": {},
   "outputs": [
    {
     "name": "stdout",
     "output_type": "stream",
     "text": [
      "Chi2 = 0.4848, p-value = 0.4863, dof = 1\n",
      "Ожидаемые значения, если бы группы не различались (H0 - верна):\n",
      "[[1465.71897854   72.28102146]\n",
      " [6483.28102146  319.71897854]]\n"
     ]
    }
   ],
   "source": [
    "from scipy.stats import chi2_contingency\n",
    "\n",
    "chi2, p, dof, expected = chi2_contingency(contingency_table)\n",
    "\n",
    "print(f\"Chi2 = {chi2:.4f}, p-value = {p:.4f}, dof = {dof}\")\n",
    "print(\"Ожидаемые значения, если бы группы не различались (H0 - верна):\")\n",
    "print(expected)"
   ]
  },
  {
   "cell_type": "markdown",
   "id": "d69f94c2",
   "metadata": {},
   "source": [
    "#### Визуализируем результаты:"
   ]
  },
  {
   "cell_type": "code",
   "execution_count": 29,
   "id": "96cee38e",
   "metadata": {},
   "outputs": [
    {
     "data": {
      "image/png": "[encoded data removed]",
      "text/plain": [
       "<Figure size 432x288 with 1 Axes>"
      ]
     },
     "metadata": {
      "needs_background": "light"
     },
     "output_type": "display_data"
    }
   ],
   "source": [
    "sns.barplot(x=\"grp\", y=\"rev_conv\", data=df, ci=95)\n",
    "plt.title(\"Конверсия в группах A/B\")\n",
    "plt.ylabel(\"Conversion Rate\")\n",
    "plt.show()"
   ]
  },
  {
   "cell_type": "markdown",
   "id": "c7675b23",
   "metadata": {},
   "source": [
    "#### Результаты:\n",
    "Оснований отвергнуть $H_0$ гипотезу (Конверсия в платящего в тестовой и контрольной группах равна) **нет**."
   ]
  },
  {
   "cell_type": "markdown",
   "id": "da00821d",
   "metadata": {},
   "source": [
    "### Выводы А/Б тестирования:\n",
    "В результате анализа проведенных экспериментов мы отвергли гипотезу о равенстве средних чеков - тестовая группа показала статистически значимое улучшение. Однако, новая механика оплаты не дала улучшения на конверсию в платящего пользователя."
   ]
  }
 ],
 "metadata": {
  "kernelspec": {
   "display_name": "Python 3",
   "language": "python",
   "name": "python3"
  },
  "language_info": {
   "codemirror_mode": {
    "name": "ipython",
    "version": 3
   },
   "file_extension": ".py",
   "mimetype": "text/x-python",
   "name": "python",
   "nbconvert_exporter": "python",
   "pygments_lexer": "ipython3",
   "version": "3.7.3"
  }
 },
 "nbformat": 4,
 "nbformat_minor": 5
}
